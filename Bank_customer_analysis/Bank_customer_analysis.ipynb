{
 "cells": [
  {
   "cell_type": "markdown",
   "id": "3bd084d3",
   "metadata": {},
   "source": [
    "# Исследование надежности заемщиков"
   ]
  },
  {
   "cell_type": "markdown",
   "id": "cc2ed6f2",
   "metadata": {},
   "source": [
    "**Цель проекта:**  \n",
    "На основании данных, предоставленных кредитным отделом банка, нужно выяснить, как социальный статус заемщиков влияет на их способность погасить кредит в срок. \n",
    "\n",
    "**Задачи проекта:**  \n",
    "1) Изучить предоставленные данные  \n",
    "2) Предобработать предоставленные данные  \n",
    "3) Выяснить влияние  \n",
    "    - количества детей  \n",
    "    - семейного положения  \n",
    "    - уровня дохода  \n",
    "    заемщика на его способность вернуть кредит в срок.  \n",
    "4) Провести обобщение результатов исследования"
   ]
  },
  {
   "cell_type": "markdown",
   "id": "61143006",
   "metadata": {
    "toc": true
   },
   "source": [
    "<h1>Содержание<span class=\"tocSkip\"></span></h1>\n",
    "<div class=\"toc\"><ul class=\"toc-item\"><li><span><a href=\"#Импорт-библиотек\" data-toc-modified-id=\"Импорт-библиотек-0\"><span class=\"toc-item-num\">0&nbsp;&nbsp;</span>Импорт библиотек</a></span></li><li><span><a href=\"#Общая-информация-о-данных\" data-toc-modified-id=\"Общая-информация-о-данных-1\"><span class=\"toc-item-num\">1&nbsp;&nbsp;</span>Общая информация о данных</a></span></li><li><span><a href=\"#Предобработка-данных\" data-toc-modified-id=\"Предобработка-данных-2\"><span class=\"toc-item-num\">2&nbsp;&nbsp;</span>Предобработка данных</a></span><ul class=\"toc-item\"><li><span><a href=\"#Удаление-пропусков\" data-toc-modified-id=\"Удаление-пропусков-2.1\"><span class=\"toc-item-num\">2.1&nbsp;&nbsp;</span>Удаление пропусков</a></span></li><li><span><a href=\"#Обработка-аномальных-значений\" data-toc-modified-id=\"Обработка-аномальных-значений-2.2\"><span class=\"toc-item-num\">2.2&nbsp;&nbsp;</span>Обработка аномальных значений</a></span></li><li><span><a href=\"#Удаление-пропусков-(продолжение)\" data-toc-modified-id=\"Удаление-пропусков-(продолжение)-2.3\"><span class=\"toc-item-num\">2.3&nbsp;&nbsp;</span>Удаление пропусков (продолжение)</a></span></li><li><span><a href=\"#Изменение-типов-данных\" data-toc-modified-id=\"Изменение-типов-данных-2.4\"><span class=\"toc-item-num\">2.4&nbsp;&nbsp;</span>Изменение типов данных</a></span></li><li><span><a href=\"#Обработка-дубликатов\" data-toc-modified-id=\"Обработка-дубликатов-2.5\"><span class=\"toc-item-num\">2.5&nbsp;&nbsp;</span>Обработка дубликатов</a></span></li><li><span><a href=\"#Категоризация-данных\" data-toc-modified-id=\"Категоризация-данных-2.6\"><span class=\"toc-item-num\">2.6&nbsp;&nbsp;</span>Категоризация данных</a></span></li></ul></li><li><span><a href=\"#Исследование-данных\" data-toc-modified-id=\"Исследование-данных-3\"><span class=\"toc-item-num\">3&nbsp;&nbsp;</span>Исследование данных</a></span><ul class=\"toc-item\"><li><span><a href=\"#Есть-ли-зависимость-между-количеством-детей-и-возвратом-кредита-в-срок?\" data-toc-modified-id=\"Есть-ли-зависимость-между-количеством-детей-и-возвратом-кредита-в-срок?-3.1\"><span class=\"toc-item-num\">3.1&nbsp;&nbsp;</span>Есть ли зависимость между количеством детей и возвратом кредита в срок?</a></span></li><li><span><a href=\"#Есть-ли-зависимость-между-семейным-положением-и-возвратом-кредита-в-срок?\" data-toc-modified-id=\"Есть-ли-зависимость-между-семейным-положением-и-возвратом-кредита-в-срок?-3.2\"><span class=\"toc-item-num\">3.2&nbsp;&nbsp;</span>Есть ли зависимость между семейным положением и возвратом кредита в срок?</a></span></li><li><span><a href=\"#Есть-ли-зависимость-между-уровнем-дохода-и-возвратом-кредита-в-срок?\" data-toc-modified-id=\"Есть-ли-зависимость-между-уровнем-дохода-и-возвратом-кредита-в-срок?-3.3\"><span class=\"toc-item-num\">3.3&nbsp;&nbsp;</span>Есть ли зависимость между уровнем дохода и возвратом кредита в срок?</a></span></li><li><span><a href=\"#Как-разные-цели-кредита-влияют-на-его-возврат-в-срок?\" data-toc-modified-id=\"Как-разные-цели-кредита-влияют-на-его-возврат-в-срок?-3.4\"><span class=\"toc-item-num\">3.4&nbsp;&nbsp;</span>Как разные цели кредита влияют на его возврат в срок?</a></span></li></ul></li><li><span><a href=\"#Общие-выводы\" data-toc-modified-id=\"Общие-выводы-4\"><span class=\"toc-item-num\">4&nbsp;&nbsp;</span>Общие выводы</a></span></li></ul></div>"
   ]
  },
  {
   "cell_type": "markdown",
   "id": "620e5e7a",
   "metadata": {},
   "source": [
    "## Импорт библиотек"
   ]
  },
  {
   "cell_type": "code",
   "execution_count": 1,
   "id": "e991eff2",
   "metadata": {},
   "outputs": [],
   "source": [
    "import pandas as pd\n",
    "import seaborn as sns"
   ]
  },
  {
   "cell_type": "markdown",
   "id": "dd6efd93",
   "metadata": {},
   "source": [
    "## Общая информация о данных"
   ]
  },
  {
   "cell_type": "code",
   "execution_count": 2,
   "id": "b7166df8",
   "metadata": {},
   "outputs": [],
   "source": [
    "data = pd.read_csv('data.csv')"
   ]
  },
  {
   "cell_type": "markdown",
   "id": "4648789e",
   "metadata": {},
   "source": [
    "**Описание колонок датафрейма, предоставленное заказчиком:**  \n",
    "    `children` — количество детей в семье  \n",
    "    `days_employed` — общий трудовой стаж в днях  \n",
    "    `dob_years` — возраст клиента в годах  \n",
    "    `education` — уровень образования клиента  \n",
    "    `education_id` — идентификатор уровня образования  \n",
    "    `family_status` — семейное положение  \n",
    "    `family_status_id` — идентификатор семейного положения  \n",
    "    `gender` — пол клиента  \n",
    "    `income_type` — тип занятости  \n",
    "    `debt` — имел ли задолженность по возврату кредитов  \n",
    "    `total_income` — ежемесячный доход  \n",
    "    `purpose` — цель получения кредита  "
   ]
  },
  {
   "cell_type": "code",
   "execution_count": 3,
   "id": "33dd1428",
   "metadata": {},
   "outputs": [
    {
     "data": {
      "text/html": [
       "<div>\n",
       "<style scoped>\n",
       "    .dataframe tbody tr th:only-of-type {\n",
       "        vertical-align: middle;\n",
       "    }\n",
       "\n",
       "    .dataframe tbody tr th {\n",
       "        vertical-align: top;\n",
       "    }\n",
       "\n",
       "    .dataframe thead th {\n",
       "        text-align: right;\n",
       "    }\n",
       "</style>\n",
       "<table border=\"1\" class=\"dataframe\">\n",
       "  <thead>\n",
       "    <tr style=\"text-align: right;\">\n",
       "      <th></th>\n",
       "      <th>children</th>\n",
       "      <th>days_employed</th>\n",
       "      <th>dob_years</th>\n",
       "      <th>education</th>\n",
       "      <th>education_id</th>\n",
       "      <th>family_status</th>\n",
       "      <th>family_status_id</th>\n",
       "      <th>gender</th>\n",
       "      <th>income_type</th>\n",
       "      <th>debt</th>\n",
       "      <th>total_income</th>\n",
       "      <th>purpose</th>\n",
       "    </tr>\n",
       "  </thead>\n",
       "  <tbody>\n",
       "    <tr>\n",
       "      <th>0</th>\n",
       "      <td>1</td>\n",
       "      <td>-8437.673028</td>\n",
       "      <td>42</td>\n",
       "      <td>высшее</td>\n",
       "      <td>0</td>\n",
       "      <td>женат / замужем</td>\n",
       "      <td>0</td>\n",
       "      <td>F</td>\n",
       "      <td>сотрудник</td>\n",
       "      <td>0</td>\n",
       "      <td>253875.639453</td>\n",
       "      <td>покупка жилья</td>\n",
       "    </tr>\n",
       "    <tr>\n",
       "      <th>1</th>\n",
       "      <td>1</td>\n",
       "      <td>-4024.803754</td>\n",
       "      <td>36</td>\n",
       "      <td>среднее</td>\n",
       "      <td>1</td>\n",
       "      <td>женат / замужем</td>\n",
       "      <td>0</td>\n",
       "      <td>F</td>\n",
       "      <td>сотрудник</td>\n",
       "      <td>0</td>\n",
       "      <td>112080.014102</td>\n",
       "      <td>приобретение автомобиля</td>\n",
       "    </tr>\n",
       "    <tr>\n",
       "      <th>2</th>\n",
       "      <td>0</td>\n",
       "      <td>-5623.422610</td>\n",
       "      <td>33</td>\n",
       "      <td>Среднее</td>\n",
       "      <td>1</td>\n",
       "      <td>женат / замужем</td>\n",
       "      <td>0</td>\n",
       "      <td>M</td>\n",
       "      <td>сотрудник</td>\n",
       "      <td>0</td>\n",
       "      <td>145885.952297</td>\n",
       "      <td>покупка жилья</td>\n",
       "    </tr>\n",
       "    <tr>\n",
       "      <th>3</th>\n",
       "      <td>3</td>\n",
       "      <td>-4124.747207</td>\n",
       "      <td>32</td>\n",
       "      <td>среднее</td>\n",
       "      <td>1</td>\n",
       "      <td>женат / замужем</td>\n",
       "      <td>0</td>\n",
       "      <td>M</td>\n",
       "      <td>сотрудник</td>\n",
       "      <td>0</td>\n",
       "      <td>267628.550329</td>\n",
       "      <td>дополнительное образование</td>\n",
       "    </tr>\n",
       "    <tr>\n",
       "      <th>4</th>\n",
       "      <td>0</td>\n",
       "      <td>340266.072047</td>\n",
       "      <td>53</td>\n",
       "      <td>среднее</td>\n",
       "      <td>1</td>\n",
       "      <td>гражданский брак</td>\n",
       "      <td>1</td>\n",
       "      <td>F</td>\n",
       "      <td>пенсионер</td>\n",
       "      <td>0</td>\n",
       "      <td>158616.077870</td>\n",
       "      <td>сыграть свадьбу</td>\n",
       "    </tr>\n",
       "  </tbody>\n",
       "</table>\n",
       "</div>"
      ],
      "text/plain": [
       "   children  days_employed  dob_years education  education_id  \\\n",
       "0         1   -8437.673028         42    высшее             0   \n",
       "1         1   -4024.803754         36   среднее             1   \n",
       "2         0   -5623.422610         33   Среднее             1   \n",
       "3         3   -4124.747207         32   среднее             1   \n",
       "4         0  340266.072047         53   среднее             1   \n",
       "\n",
       "      family_status  family_status_id gender income_type  debt   total_income  \\\n",
       "0   женат / замужем                 0      F   сотрудник     0  253875.639453   \n",
       "1   женат / замужем                 0      F   сотрудник     0  112080.014102   \n",
       "2   женат / замужем                 0      M   сотрудник     0  145885.952297   \n",
       "3   женат / замужем                 0      M   сотрудник     0  267628.550329   \n",
       "4  гражданский брак                 1      F   пенсионер     0  158616.077870   \n",
       "\n",
       "                      purpose  \n",
       "0               покупка жилья  \n",
       "1     приобретение автомобиля  \n",
       "2               покупка жилья  \n",
       "3  дополнительное образование  \n",
       "4             сыграть свадьбу  "
      ]
     },
     "execution_count": 3,
     "metadata": {},
     "output_type": "execute_result"
    }
   ],
   "source": [
    "data.head()"
   ]
  },
  {
   "cell_type": "code",
   "execution_count": 4,
   "id": "3c42a9c0",
   "metadata": {},
   "outputs": [
    {
     "name": "stdout",
     "output_type": "stream",
     "text": [
      "<class 'pandas.core.frame.DataFrame'>\n",
      "RangeIndex: 21525 entries, 0 to 21524\n",
      "Data columns (total 12 columns):\n",
      " #   Column            Non-Null Count  Dtype  \n",
      "---  ------            --------------  -----  \n",
      " 0   children          21525 non-null  int64  \n",
      " 1   days_employed     19351 non-null  float64\n",
      " 2   dob_years         21525 non-null  int64  \n",
      " 3   education         21525 non-null  object \n",
      " 4   education_id      21525 non-null  int64  \n",
      " 5   family_status     21525 non-null  object \n",
      " 6   family_status_id  21525 non-null  int64  \n",
      " 7   gender            21525 non-null  object \n",
      " 8   income_type       21525 non-null  object \n",
      " 9   debt              21525 non-null  int64  \n",
      " 10  total_income      19351 non-null  float64\n",
      " 11  purpose           21525 non-null  object \n",
      "dtypes: float64(2), int64(5), object(5)\n",
      "memory usage: 2.0+ MB\n"
     ]
    }
   ],
   "source": [
    "data.info()"
   ]
  },
  {
   "cell_type": "markdown",
   "id": "e66a5f2b",
   "metadata": {},
   "source": [
    "Все колонки для количественных переменных имеют числовой тип. С этими данными можно проводить дальнейшие математические вычисления."
   ]
  },
  {
   "cell_type": "markdown",
   "id": "caf1e0a5",
   "metadata": {},
   "source": [
    "## Предобработка данных"
   ]
  },
  {
   "cell_type": "markdown",
   "id": "00089fd8",
   "metadata": {},
   "source": [
    "### Удаление пропусков"
   ]
  },
  {
   "cell_type": "markdown",
   "id": "112bbddb",
   "metadata": {},
   "source": [
    "Оценим количество пропущенных значений для каждого столбца."
   ]
  },
  {
   "cell_type": "code",
   "execution_count": 5,
   "id": "d85fe51c",
   "metadata": {},
   "outputs": [
    {
     "data": {
      "text/plain": [
       "children               0\n",
       "days_employed       2174\n",
       "dob_years              0\n",
       "education              0\n",
       "education_id           0\n",
       "family_status          0\n",
       "family_status_id       0\n",
       "gender                 0\n",
       "income_type            0\n",
       "debt                   0\n",
       "total_income        2174\n",
       "purpose                0\n",
       "dtype: int64"
      ]
     },
     "execution_count": 5,
     "metadata": {},
     "output_type": "execute_result"
    }
   ],
   "source": [
    "data.isna().sum()"
   ]
  },
  {
   "cell_type": "markdown",
   "id": "27614bec",
   "metadata": {},
   "source": [
    "В двух столбцах есть пропущенные значения. Один из них — `days_employed`. Пропуски в этом столбце обработаем на следующем этапе. Другой столбец с пропущенными значениями — `total_income` — хранит данные о доходах. На сумму дохода сильнее всего влияет тип занятости, поэтому заполним пропуски в этом столбце медианным значением по каждому типу из столбца `income_type`."
   ]
  },
  {
   "cell_type": "code",
   "execution_count": 6,
   "id": "e008272f",
   "metadata": {},
   "outputs": [],
   "source": [
    "for t in data['income_type'].unique():\n",
    "    data.loc[(data['income_type'] == t) & (data['total_income'].isna()), 'total_income'] = \\\n",
    "    data.loc[(data['income_type'] == t), 'total_income'].median()"
   ]
  },
  {
   "cell_type": "markdown",
   "id": "c6477975",
   "metadata": {},
   "source": [
    "### Обработка аномальных значений"
   ]
  },
  {
   "cell_type": "code",
   "execution_count": 7,
   "id": "590d65fd",
   "metadata": {},
   "outputs": [
    {
     "data": {
      "text/html": [
       "<div>\n",
       "<style scoped>\n",
       "    .dataframe tbody tr th:only-of-type {\n",
       "        vertical-align: middle;\n",
       "    }\n",
       "\n",
       "    .dataframe tbody tr th {\n",
       "        vertical-align: top;\n",
       "    }\n",
       "\n",
       "    .dataframe thead th {\n",
       "        text-align: right;\n",
       "    }\n",
       "</style>\n",
       "<table border=\"1\" class=\"dataframe\">\n",
       "  <thead>\n",
       "    <tr style=\"text-align: right;\">\n",
       "      <th></th>\n",
       "      <th>children</th>\n",
       "      <th>days_employed</th>\n",
       "      <th>dob_years</th>\n",
       "      <th>education</th>\n",
       "      <th>education_id</th>\n",
       "      <th>family_status</th>\n",
       "      <th>family_status_id</th>\n",
       "      <th>gender</th>\n",
       "      <th>income_type</th>\n",
       "      <th>debt</th>\n",
       "      <th>total_income</th>\n",
       "      <th>purpose</th>\n",
       "    </tr>\n",
       "  </thead>\n",
       "  <tbody>\n",
       "    <tr>\n",
       "      <th>count</th>\n",
       "      <td>21525.000000</td>\n",
       "      <td>19351.000000</td>\n",
       "      <td>21525.000000</td>\n",
       "      <td>21525</td>\n",
       "      <td>21525.000000</td>\n",
       "      <td>21525</td>\n",
       "      <td>21525.000000</td>\n",
       "      <td>21525</td>\n",
       "      <td>21525</td>\n",
       "      <td>21525.000000</td>\n",
       "      <td>2.152500e+04</td>\n",
       "      <td>21525</td>\n",
       "    </tr>\n",
       "    <tr>\n",
       "      <th>unique</th>\n",
       "      <td>NaN</td>\n",
       "      <td>NaN</td>\n",
       "      <td>NaN</td>\n",
       "      <td>15</td>\n",
       "      <td>NaN</td>\n",
       "      <td>5</td>\n",
       "      <td>NaN</td>\n",
       "      <td>3</td>\n",
       "      <td>8</td>\n",
       "      <td>NaN</td>\n",
       "      <td>NaN</td>\n",
       "      <td>38</td>\n",
       "    </tr>\n",
       "    <tr>\n",
       "      <th>top</th>\n",
       "      <td>NaN</td>\n",
       "      <td>NaN</td>\n",
       "      <td>NaN</td>\n",
       "      <td>среднее</td>\n",
       "      <td>NaN</td>\n",
       "      <td>женат / замужем</td>\n",
       "      <td>NaN</td>\n",
       "      <td>F</td>\n",
       "      <td>сотрудник</td>\n",
       "      <td>NaN</td>\n",
       "      <td>NaN</td>\n",
       "      <td>свадьба</td>\n",
       "    </tr>\n",
       "    <tr>\n",
       "      <th>freq</th>\n",
       "      <td>NaN</td>\n",
       "      <td>NaN</td>\n",
       "      <td>NaN</td>\n",
       "      <td>13750</td>\n",
       "      <td>NaN</td>\n",
       "      <td>12380</td>\n",
       "      <td>NaN</td>\n",
       "      <td>14236</td>\n",
       "      <td>11119</td>\n",
       "      <td>NaN</td>\n",
       "      <td>NaN</td>\n",
       "      <td>797</td>\n",
       "    </tr>\n",
       "    <tr>\n",
       "      <th>mean</th>\n",
       "      <td>0.538908</td>\n",
       "      <td>63046.497661</td>\n",
       "      <td>43.293380</td>\n",
       "      <td>NaN</td>\n",
       "      <td>0.817236</td>\n",
       "      <td>NaN</td>\n",
       "      <td>0.972544</td>\n",
       "      <td>NaN</td>\n",
       "      <td>NaN</td>\n",
       "      <td>0.080883</td>\n",
       "      <td>1.652253e+05</td>\n",
       "      <td>NaN</td>\n",
       "    </tr>\n",
       "    <tr>\n",
       "      <th>std</th>\n",
       "      <td>1.381587</td>\n",
       "      <td>140827.311974</td>\n",
       "      <td>12.574584</td>\n",
       "      <td>NaN</td>\n",
       "      <td>0.548138</td>\n",
       "      <td>NaN</td>\n",
       "      <td>1.420324</td>\n",
       "      <td>NaN</td>\n",
       "      <td>NaN</td>\n",
       "      <td>0.272661</td>\n",
       "      <td>9.804367e+04</td>\n",
       "      <td>NaN</td>\n",
       "    </tr>\n",
       "    <tr>\n",
       "      <th>min</th>\n",
       "      <td>-1.000000</td>\n",
       "      <td>-18388.949901</td>\n",
       "      <td>0.000000</td>\n",
       "      <td>NaN</td>\n",
       "      <td>0.000000</td>\n",
       "      <td>NaN</td>\n",
       "      <td>0.000000</td>\n",
       "      <td>NaN</td>\n",
       "      <td>NaN</td>\n",
       "      <td>0.000000</td>\n",
       "      <td>2.066726e+04</td>\n",
       "      <td>NaN</td>\n",
       "    </tr>\n",
       "    <tr>\n",
       "      <th>25%</th>\n",
       "      <td>0.000000</td>\n",
       "      <td>-2747.423625</td>\n",
       "      <td>33.000000</td>\n",
       "      <td>NaN</td>\n",
       "      <td>1.000000</td>\n",
       "      <td>NaN</td>\n",
       "      <td>0.000000</td>\n",
       "      <td>NaN</td>\n",
       "      <td>NaN</td>\n",
       "      <td>0.000000</td>\n",
       "      <td>1.077982e+05</td>\n",
       "      <td>NaN</td>\n",
       "    </tr>\n",
       "    <tr>\n",
       "      <th>50%</th>\n",
       "      <td>0.000000</td>\n",
       "      <td>-1203.369529</td>\n",
       "      <td>42.000000</td>\n",
       "      <td>NaN</td>\n",
       "      <td>1.000000</td>\n",
       "      <td>NaN</td>\n",
       "      <td>0.000000</td>\n",
       "      <td>NaN</td>\n",
       "      <td>NaN</td>\n",
       "      <td>0.000000</td>\n",
       "      <td>1.425944e+05</td>\n",
       "      <td>NaN</td>\n",
       "    </tr>\n",
       "    <tr>\n",
       "      <th>75%</th>\n",
       "      <td>1.000000</td>\n",
       "      <td>-291.095954</td>\n",
       "      <td>53.000000</td>\n",
       "      <td>NaN</td>\n",
       "      <td>1.000000</td>\n",
       "      <td>NaN</td>\n",
       "      <td>1.000000</td>\n",
       "      <td>NaN</td>\n",
       "      <td>NaN</td>\n",
       "      <td>0.000000</td>\n",
       "      <td>1.955499e+05</td>\n",
       "      <td>NaN</td>\n",
       "    </tr>\n",
       "    <tr>\n",
       "      <th>max</th>\n",
       "      <td>20.000000</td>\n",
       "      <td>401755.400475</td>\n",
       "      <td>75.000000</td>\n",
       "      <td>NaN</td>\n",
       "      <td>4.000000</td>\n",
       "      <td>NaN</td>\n",
       "      <td>4.000000</td>\n",
       "      <td>NaN</td>\n",
       "      <td>NaN</td>\n",
       "      <td>1.000000</td>\n",
       "      <td>2.265604e+06</td>\n",
       "      <td>NaN</td>\n",
       "    </tr>\n",
       "  </tbody>\n",
       "</table>\n",
       "</div>"
      ],
      "text/plain": [
       "            children  days_employed     dob_years education  education_id  \\\n",
       "count   21525.000000   19351.000000  21525.000000     21525  21525.000000   \n",
       "unique           NaN            NaN           NaN        15           NaN   \n",
       "top              NaN            NaN           NaN   среднее           NaN   \n",
       "freq             NaN            NaN           NaN     13750           NaN   \n",
       "mean        0.538908   63046.497661     43.293380       NaN      0.817236   \n",
       "std         1.381587  140827.311974     12.574584       NaN      0.548138   \n",
       "min        -1.000000  -18388.949901      0.000000       NaN      0.000000   \n",
       "25%         0.000000   -2747.423625     33.000000       NaN      1.000000   \n",
       "50%         0.000000   -1203.369529     42.000000       NaN      1.000000   \n",
       "75%         1.000000    -291.095954     53.000000       NaN      1.000000   \n",
       "max        20.000000  401755.400475     75.000000       NaN      4.000000   \n",
       "\n",
       "          family_status  family_status_id gender income_type          debt  \\\n",
       "count             21525      21525.000000  21525       21525  21525.000000   \n",
       "unique                5               NaN      3           8           NaN   \n",
       "top     женат / замужем               NaN      F   сотрудник           NaN   \n",
       "freq              12380               NaN  14236       11119           NaN   \n",
       "mean                NaN          0.972544    NaN         NaN      0.080883   \n",
       "std                 NaN          1.420324    NaN         NaN      0.272661   \n",
       "min                 NaN          0.000000    NaN         NaN      0.000000   \n",
       "25%                 NaN          0.000000    NaN         NaN      0.000000   \n",
       "50%                 NaN          0.000000    NaN         NaN      0.000000   \n",
       "75%                 NaN          1.000000    NaN         NaN      0.000000   \n",
       "max                 NaN          4.000000    NaN         NaN      1.000000   \n",
       "\n",
       "        total_income  purpose  \n",
       "count   2.152500e+04    21525  \n",
       "unique           NaN       38  \n",
       "top              NaN  свадьба  \n",
       "freq             NaN      797  \n",
       "mean    1.652253e+05      NaN  \n",
       "std     9.804367e+04      NaN  \n",
       "min     2.066726e+04      NaN  \n",
       "25%     1.077982e+05      NaN  \n",
       "50%     1.425944e+05      NaN  \n",
       "75%     1.955499e+05      NaN  \n",
       "max     2.265604e+06      NaN  "
      ]
     },
     "execution_count": 7,
     "metadata": {},
     "output_type": "execute_result"
    }
   ],
   "source": [
    "data.describe(include='all')"
   ]
  },
  {
   "cell_type": "markdown",
   "id": "9c1e48e7",
   "metadata": {},
   "source": [
    "Отрицательное количество дней трудового стажа в столбце `days_employed`. Заменим все отрицательные значения модулем."
   ]
  },
  {
   "cell_type": "code",
   "execution_count": 8,
   "id": "c40f27a8",
   "metadata": {},
   "outputs": [],
   "source": [
    "data['days_employed'] = data['days_employed'].abs()"
   ]
  },
  {
   "cell_type": "markdown",
   "id": "c68b7524",
   "metadata": {},
   "source": [
    "Для каждого типа занятости выведем медианное значение трудового стажа `days_employed` в днях."
   ]
  },
  {
   "cell_type": "code",
   "execution_count": 9,
   "id": "d968d078",
   "metadata": {},
   "outputs": [
    {
     "data": {
      "text/plain": [
       "income_type\n",
       "безработный        366413.652744\n",
       "в декрете            3296.759962\n",
       "госслужащий          2689.368353\n",
       "компаньон            1547.382223\n",
       "пенсионер          365213.306266\n",
       "предприниматель       520.848083\n",
       "сотрудник            1574.202821\n",
       "студент               578.751554\n",
       "Name: days_employed, dtype: float64"
      ]
     },
     "execution_count": 9,
     "metadata": {},
     "output_type": "execute_result"
    }
   ],
   "source": [
    "data.groupby('income_type')['days_employed'].agg('median')"
   ]
  },
  {
   "cell_type": "markdown",
   "id": "226ea0fe",
   "metadata": {},
   "source": [
    "У двух типов (безработные и пенсионеры) аномально большие значения `days_employed`. Исправить такие значения сложно, поэтому не будем ислользовать эту информацию при дальнейшем анализе."
   ]
  },
  {
   "cell_type": "markdown",
   "id": "288cf59e",
   "metadata": {},
   "source": [
    "Выведем перечень уникальных значений столбца `children`."
   ]
  },
  {
   "cell_type": "code",
   "execution_count": 10,
   "id": "9ed10813",
   "metadata": {},
   "outputs": [
    {
     "data": {
      "text/plain": [
       "array([ 1,  0,  3,  2, -1,  4, 20,  5])"
      ]
     },
     "execution_count": 10,
     "metadata": {},
     "output_type": "execute_result"
    }
   ],
   "source": [
    "data['children'].unique()"
   ]
  },
  {
   "cell_type": "markdown",
   "id": "277bfc74",
   "metadata": {},
   "source": [
    "Есть два аномальных значения -1 и 20. Удалим строки, в которых они встречаются."
   ]
  },
  {
   "cell_type": "code",
   "execution_count": 11,
   "id": "be934796",
   "metadata": {},
   "outputs": [
    {
     "data": {
      "text/plain": [
       "array([1, 0, 3, 2, 4, 5])"
      ]
     },
     "execution_count": 11,
     "metadata": {},
     "output_type": "execute_result"
    }
   ],
   "source": [
    "data = data[(data['children'] != -1) & (data['children'] != 20)]\n",
    "data['children'].unique()"
   ]
  },
  {
   "cell_type": "markdown",
   "id": "69db5833",
   "metadata": {},
   "source": [
    "### Удаление пропусков (продолжение)"
   ]
  },
  {
   "cell_type": "markdown",
   "id": "a320ed3e",
   "metadata": {},
   "source": [
    "Заполним пропуски в столбце `days_employed` медианными значениями по каждого типа занятости `income_type`."
   ]
  },
  {
   "cell_type": "code",
   "execution_count": 12,
   "id": "37e47fd8",
   "metadata": {},
   "outputs": [],
   "source": [
    "for t in data['income_type'].unique():\n",
    "    data.loc[(data['income_type'] == t) & (data['days_employed'].isna()), 'days_employed'] = \\\n",
    "    data.loc[(data['income_type'] == t), 'days_employed'].median()"
   ]
  },
  {
   "cell_type": "markdown",
   "id": "5a9065b8",
   "metadata": {},
   "source": [
    "Убедимся, что все пропуски заполнены. "
   ]
  },
  {
   "cell_type": "code",
   "execution_count": 13,
   "id": "f6876aac",
   "metadata": {},
   "outputs": [
    {
     "data": {
      "text/plain": [
       "children            0\n",
       "days_employed       0\n",
       "dob_years           0\n",
       "education           0\n",
       "education_id        0\n",
       "family_status       0\n",
       "family_status_id    0\n",
       "gender              0\n",
       "income_type         0\n",
       "debt                0\n",
       "total_income        0\n",
       "purpose             0\n",
       "dtype: int64"
      ]
     },
     "execution_count": 13,
     "metadata": {},
     "output_type": "execute_result"
    }
   ],
   "source": [
    "data.isna().sum()"
   ]
  },
  {
   "cell_type": "markdown",
   "id": "68414a0f",
   "metadata": {},
   "source": [
    "### Изменение типов данных"
   ]
  },
  {
   "cell_type": "markdown",
   "id": "e27d6e75",
   "metadata": {},
   "source": [
    "Заменим вещественный тип данных в столбце `total_income` на целочисленный."
   ]
  },
  {
   "cell_type": "code",
   "execution_count": 14,
   "id": "2011a5a7",
   "metadata": {},
   "outputs": [],
   "source": [
    "data['total_income'] = data['total_income'].astype(int)"
   ]
  },
  {
   "cell_type": "markdown",
   "id": "09386332",
   "metadata": {},
   "source": [
    "### Обработка дубликатов"
   ]
  },
  {
   "cell_type": "code",
   "execution_count": 15,
   "id": "b63fe06d",
   "metadata": {},
   "outputs": [
    {
     "data": {
      "text/plain": [
       "array(['высшее', 'среднее', 'Среднее', 'СРЕДНЕЕ', 'ВЫСШЕЕ',\n",
       "       'неоконченное высшее', 'начальное', 'Высшее',\n",
       "       'НЕОКОНЧЕННОЕ ВЫСШЕЕ', 'Неоконченное высшее', 'НАЧАЛЬНОЕ',\n",
       "       'Начальное', 'Ученая степень', 'УЧЕНАЯ СТЕПЕНЬ', 'ученая степень'],\n",
       "      dtype=object)"
      ]
     },
     "execution_count": 15,
     "metadata": {},
     "output_type": "execute_result"
    }
   ],
   "source": [
    "data['education'].unique()"
   ]
  },
  {
   "cell_type": "markdown",
   "id": "278544ab",
   "metadata": {},
   "source": [
    "В столбце `education` есть одни и те же значения, но записанные по-разному: с использованием заглавных и строчных букв. Приведем их к нижнему регистру."
   ]
  },
  {
   "cell_type": "code",
   "execution_count": 16,
   "id": "4a06f856",
   "metadata": {},
   "outputs": [],
   "source": [
    "data['education'] = data['education'].str.lower()"
   ]
  },
  {
   "cell_type": "markdown",
   "id": "6ee20839",
   "metadata": {},
   "source": [
    "Посчитаем количество строк-дубликатов в данных и удалим эти строки."
   ]
  },
  {
   "cell_type": "code",
   "execution_count": 17,
   "id": "deff8450",
   "metadata": {},
   "outputs": [
    {
     "data": {
      "text/plain": [
       "71"
      ]
     },
     "execution_count": 17,
     "metadata": {},
     "output_type": "execute_result"
    }
   ],
   "source": [
    "data.duplicated().sum()"
   ]
  },
  {
   "cell_type": "code",
   "execution_count": 18,
   "id": "8cb6a2ca",
   "metadata": {},
   "outputs": [],
   "source": [
    "data = data.drop_duplicates()"
   ]
  },
  {
   "cell_type": "markdown",
   "id": "3896ae64",
   "metadata": {},
   "source": [
    "### Категоризация данных"
   ]
  },
  {
   "cell_type": "markdown",
   "id": "2d1c98eb",
   "metadata": {},
   "source": [
    "На основании диапазонов столбца `total_income`, указанных ниже, создадим с помощью функции `categorize_income()` в датафрейме `data` столбец `total_income_category` с категориями:\n",
    "\n",
    "- 0–30000 — `'E'`;\n",
    "- 30001–50000 — `'D'`;\n",
    "- 50001–200000 — `'C'`;\n",
    "- 200001–1000000 — `'B'`;\n",
    "- 1000001 и выше — `'A'`."
   ]
  },
  {
   "cell_type": "code",
   "execution_count": 19,
   "id": "2b22aae8",
   "metadata": {},
   "outputs": [],
   "source": [
    "def categorize_income(income):\n",
    "    try:\n",
    "        if 0 <= income <= 30000:\n",
    "            return 'E'\n",
    "        elif 30001 <= income <= 50000:\n",
    "            return 'D'\n",
    "        elif 50001 <= income <= 200000:\n",
    "            return 'C'\n",
    "        elif 200001 <= income <= 1000000:\n",
    "            return 'B'\n",
    "        elif income >= 1000001:\n",
    "            return 'A'\n",
    "    except:\n",
    "        pass"
   ]
  },
  {
   "cell_type": "code",
   "execution_count": 20,
   "id": "70c7611a",
   "metadata": {},
   "outputs": [],
   "source": [
    "data['total_income_category'] = data['total_income'].apply(categorize_income)"
   ]
  },
  {
   "cell_type": "markdown",
   "id": "05c9bc34",
   "metadata": {},
   "source": [
    "Рассмотрим перечень уникальных целей взятия кредита из столбца `purpose`."
   ]
  },
  {
   "cell_type": "code",
   "execution_count": 21,
   "id": "0f4404da",
   "metadata": {},
   "outputs": [
    {
     "data": {
      "text/plain": [
       "array(['покупка жилья', 'приобретение автомобиля',\n",
       "       'дополнительное образование', 'сыграть свадьбу',\n",
       "       'операции с жильем', 'образование', 'на проведение свадьбы',\n",
       "       'покупка жилья для семьи', 'покупка недвижимости',\n",
       "       'покупка коммерческой недвижимости', 'покупка жилой недвижимости',\n",
       "       'строительство собственной недвижимости', 'недвижимость',\n",
       "       'строительство недвижимости', 'на покупку подержанного автомобиля',\n",
       "       'на покупку своего автомобиля',\n",
       "       'операции с коммерческой недвижимостью',\n",
       "       'строительство жилой недвижимости', 'жилье',\n",
       "       'операции со своей недвижимостью', 'автомобили',\n",
       "       'заняться образованием', 'сделка с подержанным автомобилем',\n",
       "       'получение образования', 'автомобиль', 'свадьба',\n",
       "       'получение дополнительного образования', 'покупка своего жилья',\n",
       "       'операции с недвижимостью', 'получение высшего образования',\n",
       "       'свой автомобиль', 'сделка с автомобилем',\n",
       "       'профильное образование', 'высшее образование',\n",
       "       'покупка жилья для сдачи', 'на покупку автомобиля', 'ремонт жилью',\n",
       "       'заняться высшим образованием'], dtype=object)"
      ]
     },
     "execution_count": 21,
     "metadata": {},
     "output_type": "execute_result"
    }
   ],
   "source": [
    "data['purpose'].unique()"
   ]
  },
  {
   "cell_type": "markdown",
   "id": "1a104be6",
   "metadata": {},
   "source": [
    "Создадим функцию `categorize_purpose()`, которая на основании данных из столбца `purpose` сформирует новый столбец `purpose_category`, в который войдут следующие категории:\n",
    "\n",
    "- `'операции с автомобилем'`,\n",
    "- `'операции с недвижимостью'`,\n",
    "- `'проведение свадьбы'`,\n",
    "- `'получение образования'`."
   ]
  },
  {
   "cell_type": "code",
   "execution_count": 22,
   "id": "e41f9e72",
   "metadata": {},
   "outputs": [],
   "source": [
    "def categorize_purpose(row):\n",
    "    try:\n",
    "        if 'автом' in row:\n",
    "            return 'операции с автомобилем'\n",
    "        elif 'жил' in row or 'недвиж' in row:\n",
    "            return 'операции с недвижимостью'\n",
    "        elif 'свад' in row:\n",
    "            return 'проведение свадьбы'\n",
    "        elif 'образов' in row:\n",
    "            return 'получение образования'\n",
    "    except:\n",
    "        return 'нет категории'"
   ]
  },
  {
   "cell_type": "code",
   "execution_count": 23,
   "id": "d3600970",
   "metadata": {},
   "outputs": [],
   "source": [
    "data['purpose_category'] = data['purpose'].apply(categorize_purpose)"
   ]
  },
  {
   "cell_type": "markdown",
   "id": "f172af29",
   "metadata": {},
   "source": [
    "## Исследование данных"
   ]
  },
  {
   "cell_type": "markdown",
   "id": "04f29b8b",
   "metadata": {},
   "source": [
    "### Есть ли зависимость между количеством детей и возвратом кредита в срок?"
   ]
  },
  {
   "cell_type": "code",
   "execution_count": 24,
   "id": "73d51ce2",
   "metadata": {},
   "outputs": [
    {
     "data": {
      "text/html": [
       "<div>\n",
       "<style scoped>\n",
       "    .dataframe tbody tr th:only-of-type {\n",
       "        vertical-align: middle;\n",
       "    }\n",
       "\n",
       "    .dataframe tbody tr th {\n",
       "        vertical-align: top;\n",
       "    }\n",
       "\n",
       "    .dataframe thead th {\n",
       "        text-align: right;\n",
       "    }\n",
       "</style>\n",
       "<table border=\"1\" class=\"dataframe\">\n",
       "  <thead>\n",
       "    <tr style=\"text-align: right;\">\n",
       "      <th></th>\n",
       "      <th>children</th>\n",
       "      <th>days_employed</th>\n",
       "      <th>dob_years</th>\n",
       "      <th>education</th>\n",
       "      <th>education_id</th>\n",
       "      <th>family_status</th>\n",
       "      <th>family_status_id</th>\n",
       "      <th>gender</th>\n",
       "      <th>income_type</th>\n",
       "      <th>debt</th>\n",
       "      <th>total_income</th>\n",
       "      <th>purpose</th>\n",
       "      <th>total_income_category</th>\n",
       "      <th>purpose_category</th>\n",
       "    </tr>\n",
       "  </thead>\n",
       "  <tbody>\n",
       "    <tr>\n",
       "      <th>0</th>\n",
       "      <td>1</td>\n",
       "      <td>8437.673028</td>\n",
       "      <td>42</td>\n",
       "      <td>высшее</td>\n",
       "      <td>0</td>\n",
       "      <td>женат / замужем</td>\n",
       "      <td>0</td>\n",
       "      <td>F</td>\n",
       "      <td>сотрудник</td>\n",
       "      <td>0</td>\n",
       "      <td>253875</td>\n",
       "      <td>покупка жилья</td>\n",
       "      <td>B</td>\n",
       "      <td>операции с недвижимостью</td>\n",
       "    </tr>\n",
       "    <tr>\n",
       "      <th>1</th>\n",
       "      <td>1</td>\n",
       "      <td>4024.803754</td>\n",
       "      <td>36</td>\n",
       "      <td>среднее</td>\n",
       "      <td>1</td>\n",
       "      <td>женат / замужем</td>\n",
       "      <td>0</td>\n",
       "      <td>F</td>\n",
       "      <td>сотрудник</td>\n",
       "      <td>0</td>\n",
       "      <td>112080</td>\n",
       "      <td>приобретение автомобиля</td>\n",
       "      <td>C</td>\n",
       "      <td>операции с автомобилем</td>\n",
       "    </tr>\n",
       "    <tr>\n",
       "      <th>2</th>\n",
       "      <td>0</td>\n",
       "      <td>5623.422610</td>\n",
       "      <td>33</td>\n",
       "      <td>среднее</td>\n",
       "      <td>1</td>\n",
       "      <td>женат / замужем</td>\n",
       "      <td>0</td>\n",
       "      <td>M</td>\n",
       "      <td>сотрудник</td>\n",
       "      <td>0</td>\n",
       "      <td>145885</td>\n",
       "      <td>покупка жилья</td>\n",
       "      <td>C</td>\n",
       "      <td>операции с недвижимостью</td>\n",
       "    </tr>\n",
       "    <tr>\n",
       "      <th>3</th>\n",
       "      <td>3</td>\n",
       "      <td>4124.747207</td>\n",
       "      <td>32</td>\n",
       "      <td>среднее</td>\n",
       "      <td>1</td>\n",
       "      <td>женат / замужем</td>\n",
       "      <td>0</td>\n",
       "      <td>M</td>\n",
       "      <td>сотрудник</td>\n",
       "      <td>0</td>\n",
       "      <td>267628</td>\n",
       "      <td>дополнительное образование</td>\n",
       "      <td>B</td>\n",
       "      <td>получение образования</td>\n",
       "    </tr>\n",
       "    <tr>\n",
       "      <th>4</th>\n",
       "      <td>0</td>\n",
       "      <td>340266.072047</td>\n",
       "      <td>53</td>\n",
       "      <td>среднее</td>\n",
       "      <td>1</td>\n",
       "      <td>гражданский брак</td>\n",
       "      <td>1</td>\n",
       "      <td>F</td>\n",
       "      <td>пенсионер</td>\n",
       "      <td>0</td>\n",
       "      <td>158616</td>\n",
       "      <td>сыграть свадьбу</td>\n",
       "      <td>C</td>\n",
       "      <td>проведение свадьбы</td>\n",
       "    </tr>\n",
       "  </tbody>\n",
       "</table>\n",
       "</div>"
      ],
      "text/plain": [
       "   children  days_employed  dob_years education  education_id  \\\n",
       "0         1    8437.673028         42    высшее             0   \n",
       "1         1    4024.803754         36   среднее             1   \n",
       "2         0    5623.422610         33   среднее             1   \n",
       "3         3    4124.747207         32   среднее             1   \n",
       "4         0  340266.072047         53   среднее             1   \n",
       "\n",
       "      family_status  family_status_id gender income_type  debt  total_income  \\\n",
       "0   женат / замужем                 0      F   сотрудник     0        253875   \n",
       "1   женат / замужем                 0      F   сотрудник     0        112080   \n",
       "2   женат / замужем                 0      M   сотрудник     0        145885   \n",
       "3   женат / замужем                 0      M   сотрудник     0        267628   \n",
       "4  гражданский брак                 1      F   пенсионер     0        158616   \n",
       "\n",
       "                      purpose total_income_category          purpose_category  \n",
       "0               покупка жилья                     B  операции с недвижимостью  \n",
       "1     приобретение автомобиля                     C    операции с автомобилем  \n",
       "2               покупка жилья                     C  операции с недвижимостью  \n",
       "3  дополнительное образование                     B     получение образования  \n",
       "4             сыграть свадьбу                     C        проведение свадьбы  "
      ]
     },
     "execution_count": 24,
     "metadata": {},
     "output_type": "execute_result"
    }
   ],
   "source": [
    "# знакомимся со структурой датафрейма после предобработки данных\n",
    "data.head()"
   ]
  },
  {
   "cell_type": "code",
   "execution_count": 25,
   "id": "904bc108",
   "metadata": {},
   "outputs": [],
   "source": [
    "def table(df, group_list, agg_dict, col_names_list):\n",
    "    '''\n",
    "    Функция для построения сводных таблиц.\n",
    "    '''\n",
    "\n",
    "    # группируем датафрейм df по значениям колонки из group_list\n",
    "    # проводим аггрегацию согласно словарю agg_dict\n",
    "    df_table = df.groupby(group_list).agg(agg_dict).reset_index()\n",
    "    df_table = df_table.droplevel(0, axis=1)\n",
    "\n",
    "    # переименовываем колонки датафрейма согласно списку col_names_list\n",
    "    rename_dict = dict(zip(df_table.columns, col_names_list))\n",
    "    df_table.rename(rename_dict, axis='columns', inplace=True)\n",
    "  \n",
    "    return df_table"
   ]
  },
  {
   "cell_type": "code",
   "execution_count": 26,
   "id": "5fed36a2",
   "metadata": {},
   "outputs": [
    {
     "data": {
      "text/html": [
       "<style type=\"text/css\">\n",
       "</style>\n",
       "<table id=\"T_a4f9a\">\n",
       "  <thead>\n",
       "    <tr>\n",
       "      <th class=\"blank level0\" >&nbsp;</th>\n",
       "      <th id=\"T_a4f9a_level0_col0\" class=\"col_heading level0 col0\" >Количество детей</th>\n",
       "      <th id=\"T_a4f9a_level0_col1\" class=\"col_heading level0 col1\" >Доля невозвратов</th>\n",
       "      <th id=\"T_a4f9a_level0_col2\" class=\"col_heading level0 col2\" >Стандартная ошибка среднего</th>\n",
       "      <th id=\"T_a4f9a_level0_col3\" class=\"col_heading level0 col3\" >Общее кол-во заемщиков</th>\n",
       "    </tr>\n",
       "  </thead>\n",
       "  <tbody>\n",
       "    <tr>\n",
       "      <th id=\"T_a4f9a_level0_row0\" class=\"row_heading level0 row0\" >0</th>\n",
       "      <td id=\"T_a4f9a_row0_col0\" class=\"data row0 col0\" >0</td>\n",
       "      <td id=\"T_a4f9a_row0_col1\" class=\"data row0 col1\" >7.54%</td>\n",
       "      <td id=\"T_a4f9a_row0_col2\" class=\"data row0 col2\" >0.22%</td>\n",
       "      <td id=\"T_a4f9a_row0_col3\" class=\"data row0 col3\" >14091</td>\n",
       "    </tr>\n",
       "    <tr>\n",
       "      <th id=\"T_a4f9a_level0_row1\" class=\"row_heading level0 row1\" >1</th>\n",
       "      <td id=\"T_a4f9a_row1_col0\" class=\"data row1 col0\" >1</td>\n",
       "      <td id=\"T_a4f9a_row1_col1\" class=\"data row1 col1\" >9.23%</td>\n",
       "      <td id=\"T_a4f9a_row1_col2\" class=\"data row1 col2\" >0.42%</td>\n",
       "      <td id=\"T_a4f9a_row1_col3\" class=\"data row1 col3\" >4808</td>\n",
       "    </tr>\n",
       "    <tr>\n",
       "      <th id=\"T_a4f9a_level0_row2\" class=\"row_heading level0 row2\" >2</th>\n",
       "      <td id=\"T_a4f9a_row2_col0\" class=\"data row2 col0\" >2</td>\n",
       "      <td id=\"T_a4f9a_row2_col1\" class=\"data row2 col1\" >9.45%</td>\n",
       "      <td id=\"T_a4f9a_row2_col2\" class=\"data row2 col2\" >0.65%</td>\n",
       "      <td id=\"T_a4f9a_row2_col3\" class=\"data row2 col3\" >2052</td>\n",
       "    </tr>\n",
       "    <tr>\n",
       "      <th id=\"T_a4f9a_level0_row3\" class=\"row_heading level0 row3\" >3</th>\n",
       "      <td id=\"T_a4f9a_row3_col0\" class=\"data row3 col0\" >3</td>\n",
       "      <td id=\"T_a4f9a_row3_col1\" class=\"data row3 col1\" >8.18%</td>\n",
       "      <td id=\"T_a4f9a_row3_col2\" class=\"data row3 col2\" >1.51%</td>\n",
       "      <td id=\"T_a4f9a_row3_col3\" class=\"data row3 col3\" >330</td>\n",
       "    </tr>\n",
       "    <tr>\n",
       "      <th id=\"T_a4f9a_level0_row4\" class=\"row_heading level0 row4\" >4</th>\n",
       "      <td id=\"T_a4f9a_row4_col0\" class=\"data row4 col0\" >4</td>\n",
       "      <td id=\"T_a4f9a_row4_col1\" class=\"data row4 col1\" >9.76%</td>\n",
       "      <td id=\"T_a4f9a_row4_col2\" class=\"data row4 col2\" >4.69%</td>\n",
       "      <td id=\"T_a4f9a_row4_col3\" class=\"data row4 col3\" >41</td>\n",
       "    </tr>\n",
       "    <tr>\n",
       "      <th id=\"T_a4f9a_level0_row5\" class=\"row_heading level0 row5\" >5</th>\n",
       "      <td id=\"T_a4f9a_row5_col0\" class=\"data row5 col0\" >5</td>\n",
       "      <td id=\"T_a4f9a_row5_col1\" class=\"data row5 col1\" >0.00%</td>\n",
       "      <td id=\"T_a4f9a_row5_col2\" class=\"data row5 col2\" >0.00%</td>\n",
       "      <td id=\"T_a4f9a_row5_col3\" class=\"data row5 col3\" >9</td>\n",
       "    </tr>\n",
       "  </tbody>\n",
       "</table>\n"
      ],
      "text/plain": [
       "<pandas.io.formats.style.Styler at 0x7f28f37fdd30>"
      ]
     },
     "execution_count": 26,
     "metadata": {},
     "output_type": "execute_result"
    }
   ],
   "source": [
    "# группируем датафрейм data по значениям колонки 'children' (количеству детей)\n",
    "# вычисляем среднее значение величин 'debt' (долю заемщиков, не выплативших кредит в срок) \n",
    "# и ошибку среднего для каждой группы\n",
    "# вычисляем общее количество строк (количество заемщиков) для каждой группы\n",
    "\n",
    "group_list  = ['children']\n",
    "agg_dict  = {'debt' : ['mean', 'sem', 'count']}\n",
    "col_names_list = ['Количество детей', 'Доля невозвратов', 'Стандартная ошибка среднего', 'Общее кол-во заемщиков']\n",
    "col_formats_list = ['{:}', '{:,.2%}', '{:,.2%}', '{:}']\n",
    "    \n",
    "df_children = table(data, group_list, agg_dict, col_names_list)\n",
    "\n",
    "# форматируем колонки датафрейма из списка col_names_list согласно списку col_formats_list\n",
    "df_children.style.format(dict(zip(col_names_list, col_formats_list)))"
   ]
  },
  {
   "cell_type": "markdown",
   "id": "bee5604e",
   "metadata": {},
   "source": [
    "**Обратите внимание:** \\\n",
    "Выборки для заемщиков с 4 или 5 детьми **не репрезентативны** (очень мало данных, чтобы сравнивать кредитоспособность таких заемщиков с людьми, имеющими меньшее количество детей):  "
   ]
  },
  {
   "cell_type": "code",
   "execution_count": 27,
   "id": "0749621b",
   "metadata": {},
   "outputs": [
    {
     "data": {
      "image/png": "[encoded data removed]",
      "text/plain": [
       "<Figure size 640x480 with 1 Axes>"
      ]
     },
     "metadata": {},
     "output_type": "display_data"
    }
   ],
   "source": [
    "sns.barplot(data=df_children, \n",
    "            x='Количество детей', \n",
    "            y='Общее кол-во заемщиков', \n",
    "            log=True).set(title='Оценка сбалансированности выборок по количеству детей')\n",
    "None"
   ]
  },
  {
   "cell_type": "code",
   "execution_count": 28,
   "id": "d67b4d1a",
   "metadata": {},
   "outputs": [
    {
     "data": {
      "image/png": "[encoded data removed]",
      "text/plain": [
       "<Figure size 640x480 with 1 Axes>"
      ]
     },
     "metadata": {},
     "output_type": "display_data"
    }
   ],
   "source": [
    "sns.barplot(data=df_children, y='Доля невозвратов', x='Количество детей', \n",
    "            yerr=df_children['Стандартная ошибка среднего'])\n",
    "None"
   ]
  },
  {
   "cell_type": "markdown",
   "id": "efabced6",
   "metadata": {},
   "source": [
    "**Вывод:** \\\n",
    "Если не учитывать малое количество случаев с 4 и 5 детьми, и рассматривать заемщиков с 0, 1 и 2 детьми, то вероятность возврата кредита в срок уменьшается с ростом количества детей.   \n",
    "Влияние количества детей на возврат кредита в срок становится более выраженным если сравнивать данные для заемщиков с одинаковым семейным положением (см. п. **3.2**)."
   ]
  },
  {
   "cell_type": "markdown",
   "id": "20d7d780",
   "metadata": {},
   "source": [
    "### Есть ли зависимость между семейным положением и возвратом кредита в срок?"
   ]
  },
  {
   "cell_type": "code",
   "execution_count": 29,
   "id": "8e745955",
   "metadata": {
    "scrolled": true
   },
   "outputs": [
    {
     "data": {
      "text/html": [
       "<style type=\"text/css\">\n",
       "</style>\n",
       "<table id=\"T_adcac\">\n",
       "  <thead>\n",
       "    <tr>\n",
       "      <th class=\"blank level0\" >&nbsp;</th>\n",
       "      <th id=\"T_adcac_level0_col0\" class=\"col_heading level0 col0\" >Семейное положение</th>\n",
       "      <th id=\"T_adcac_level0_col1\" class=\"col_heading level0 col1\" >Доля невозвратов</th>\n",
       "      <th id=\"T_adcac_level0_col2\" class=\"col_heading level0 col2\" >Стандартная ошибка среднего</th>\n",
       "      <th id=\"T_adcac_level0_col3\" class=\"col_heading level0 col3\" >Общее кол-во заемщиков</th>\n",
       "    </tr>\n",
       "  </thead>\n",
       "  <tbody>\n",
       "    <tr>\n",
       "      <th id=\"T_adcac_level0_row0\" class=\"row_heading level0 row0\" >2</th>\n",
       "      <td id=\"T_adcac_row0_col0\" class=\"data row0 col0\" >вдовец / вдова</td>\n",
       "      <td id=\"T_adcac_row0_col1\" class=\"data row0 col1\" >6.62%</td>\n",
       "      <td id=\"T_adcac_row0_col2\" class=\"data row0 col2\" >0.81%</td>\n",
       "      <td id=\"T_adcac_row0_col3\" class=\"data row0 col3\" >951</td>\n",
       "    </tr>\n",
       "    <tr>\n",
       "      <th id=\"T_adcac_level0_row1\" class=\"row_heading level0 row1\" >1</th>\n",
       "      <td id=\"T_adcac_row1_col0\" class=\"data row1 col0\" >в разводе</td>\n",
       "      <td id=\"T_adcac_row1_col1\" class=\"data row1 col1\" >7.06%</td>\n",
       "      <td id=\"T_adcac_row1_col2\" class=\"data row1 col2\" >0.74%</td>\n",
       "      <td id=\"T_adcac_row1_col3\" class=\"data row1 col3\" >1189</td>\n",
       "    </tr>\n",
       "    <tr>\n",
       "      <th id=\"T_adcac_level0_row2\" class=\"row_heading level0 row2\" >4</th>\n",
       "      <td id=\"T_adcac_row2_col0\" class=\"data row2 col0\" >женат / замужем</td>\n",
       "      <td id=\"T_adcac_row2_col1\" class=\"data row2 col1\" >7.56%</td>\n",
       "      <td id=\"T_adcac_row2_col2\" class=\"data row2 col2\" >0.24%</td>\n",
       "      <td id=\"T_adcac_row2_col3\" class=\"data row2 col3\" >12261</td>\n",
       "    </tr>\n",
       "    <tr>\n",
       "      <th id=\"T_adcac_level0_row3\" class=\"row_heading level0 row3\" >3</th>\n",
       "      <td id=\"T_adcac_row3_col0\" class=\"data row3 col0\" >гражданский брак</td>\n",
       "      <td id=\"T_adcac_row3_col1\" class=\"data row3 col1\" >9.31%</td>\n",
       "      <td id=\"T_adcac_row3_col2\" class=\"data row3 col2\" >0.45%</td>\n",
       "      <td id=\"T_adcac_row3_col3\" class=\"data row3 col3\" >4134</td>\n",
       "    </tr>\n",
       "    <tr>\n",
       "      <th id=\"T_adcac_level0_row4\" class=\"row_heading level0 row4\" >0</th>\n",
       "      <td id=\"T_adcac_row4_col0\" class=\"data row4 col0\" >Не женат / не замужем</td>\n",
       "      <td id=\"T_adcac_row4_col1\" class=\"data row4 col1\" >9.76%</td>\n",
       "      <td id=\"T_adcac_row4_col2\" class=\"data row4 col2\" >0.56%</td>\n",
       "      <td id=\"T_adcac_row4_col3\" class=\"data row4 col3\" >2796</td>\n",
       "    </tr>\n",
       "  </tbody>\n",
       "</table>\n"
      ],
      "text/plain": [
       "<pandas.io.formats.style.Styler at 0x7f2934071e50>"
      ]
     },
     "execution_count": 29,
     "metadata": {},
     "output_type": "execute_result"
    }
   ],
   "source": [
    "# группируем датафрейм по значениям колонки 'family_status' (Семейное положение)\n",
    "# вычисляем среднее значение величин 'debt' (долю заемщиков, не выплативших кредит в срок) \n",
    "# и ошибку среднего для каждой группы\n",
    "# вычисляем общее количество строк (количество заемщиков) для каждой группы\n",
    "\n",
    "group_list  = ['family_status']\n",
    "agg_dict  = {'debt' : ['mean', 'sem', 'count']}\n",
    "col_names_list = ['Семейное положение', 'Доля невозвратов', 'Стандартная ошибка среднего', 'Общее кол-во заемщиков']\n",
    "col_formats_list = ['{:}', '{:,.2%}', '{:,.2%}', '{:}']\n",
    "    \n",
    "df_family_status = table(data, group_list, agg_dict, col_names_list).sort_values(by='Доля невозвратов')\n",
    "\n",
    "# форматируем колонки датафрейма из списка col_names_list согласно списку col_formats_list\n",
    "df_family_status.style.format(dict(zip(col_names_list, col_formats_list)))"
   ]
  },
  {
   "cell_type": "code",
   "execution_count": 30,
   "id": "8e3a1cf3",
   "metadata": {},
   "outputs": [
    {
     "data": {
      "image/png": "[encoded data removed]",
      "text/plain": [
       "<Figure size 640x480 with 1 Axes>"
      ]
     },
     "metadata": {},
     "output_type": "display_data"
    }
   ],
   "source": [
    "sns.barplot(data=df_family_status, x='Доля невозвратов', y='Семейное положение',\n",
    "           xerr=df_family_status['Стандартная ошибка среднего'])\n",
    "None"
   ]
  },
  {
   "cell_type": "markdown",
   "id": "a098c04c",
   "metadata": {},
   "source": [
    "**Обратим внимание на следующее:**  \n",
    "1) Неженатые/незамужние или живущие в гражданском браке люди чаще других категорий имеют просроченные задолженности по кредитам. Они в среднем имеют меньше детей, чем замужние/женатые.  \n",
    "2) В предыдущем пункте мы видели, что заемщики без детей в общем реже допускают просрочку платежа по кредиту.  \n",
    "\n",
    "Чтобы выяснить, нет ли противоречия между 1 и 2 утверждениями, необходимо сгруппировать результаты по количеству детей и семейному положению."
   ]
  },
  {
   "cell_type": "code",
   "execution_count": 31,
   "id": "3c458b97",
   "metadata": {},
   "outputs": [
    {
     "data": {
      "text/html": [
       "<div>\n",
       "<style scoped>\n",
       "    .dataframe tbody tr th:only-of-type {\n",
       "        vertical-align: middle;\n",
       "    }\n",
       "\n",
       "    .dataframe tbody tr th {\n",
       "        vertical-align: top;\n",
       "    }\n",
       "\n",
       "    .dataframe thead th {\n",
       "        text-align: right;\n",
       "    }\n",
       "</style>\n",
       "<table border=\"1\" class=\"dataframe\">\n",
       "  <thead>\n",
       "    <tr style=\"text-align: right;\">\n",
       "      <th></th>\n",
       "      <th>Семейное положение</th>\n",
       "      <th>Количество детей</th>\n",
       "      <th>Доля невозвратов, %</th>\n",
       "    </tr>\n",
       "  </thead>\n",
       "  <tbody>\n",
       "    <tr>\n",
       "      <th>0</th>\n",
       "      <td>Не женат / не замужем</td>\n",
       "      <td>0</td>\n",
       "      <td>9.28</td>\n",
       "    </tr>\n",
       "    <tr>\n",
       "      <th>1</th>\n",
       "      <td>Не женат / не замужем</td>\n",
       "      <td>1</td>\n",
       "      <td>11.58</td>\n",
       "    </tr>\n",
       "    <tr>\n",
       "      <th>2</th>\n",
       "      <td>Не женат / не замужем</td>\n",
       "      <td>2</td>\n",
       "      <td>12.00</td>\n",
       "    </tr>\n",
       "    <tr>\n",
       "      <th>3</th>\n",
       "      <td>Не женат / не замужем</td>\n",
       "      <td>3</td>\n",
       "      <td>12.50</td>\n",
       "    </tr>\n",
       "    <tr>\n",
       "      <th>4</th>\n",
       "      <td>Не женат / не замужем</td>\n",
       "      <td>4</td>\n",
       "      <td>50.00</td>\n",
       "    </tr>\n",
       "    <tr>\n",
       "      <th>5</th>\n",
       "      <td>в разводе</td>\n",
       "      <td>0</td>\n",
       "      <td>7.02</td>\n",
       "    </tr>\n",
       "    <tr>\n",
       "      <th>6</th>\n",
       "      <td>в разводе</td>\n",
       "      <td>1</td>\n",
       "      <td>6.73</td>\n",
       "    </tr>\n",
       "    <tr>\n",
       "      <th>7</th>\n",
       "      <td>в разводе</td>\n",
       "      <td>2</td>\n",
       "      <td>8.64</td>\n",
       "    </tr>\n",
       "    <tr>\n",
       "      <th>8</th>\n",
       "      <td>в разводе</td>\n",
       "      <td>3</td>\n",
       "      <td>9.09</td>\n",
       "    </tr>\n",
       "    <tr>\n",
       "      <th>9</th>\n",
       "      <td>в разводе</td>\n",
       "      <td>4</td>\n",
       "      <td>0.00</td>\n",
       "    </tr>\n",
       "    <tr>\n",
       "      <th>10</th>\n",
       "      <td>вдовец / вдова</td>\n",
       "      <td>0</td>\n",
       "      <td>6.26</td>\n",
       "    </tr>\n",
       "    <tr>\n",
       "      <th>11</th>\n",
       "      <td>вдовец / вдова</td>\n",
       "      <td>1</td>\n",
       "      <td>9.09</td>\n",
       "    </tr>\n",
       "    <tr>\n",
       "      <th>12</th>\n",
       "      <td>вдовец / вдова</td>\n",
       "      <td>2</td>\n",
       "      <td>15.00</td>\n",
       "    </tr>\n",
       "    <tr>\n",
       "      <th>13</th>\n",
       "      <td>вдовец / вдова</td>\n",
       "      <td>3</td>\n",
       "      <td>0.00</td>\n",
       "    </tr>\n",
       "    <tr>\n",
       "      <th>14</th>\n",
       "      <td>вдовец / вдова</td>\n",
       "      <td>4</td>\n",
       "      <td>0.00</td>\n",
       "    </tr>\n",
       "    <tr>\n",
       "      <th>15</th>\n",
       "      <td>гражданский брак</td>\n",
       "      <td>0</td>\n",
       "      <td>8.39</td>\n",
       "    </tr>\n",
       "    <tr>\n",
       "      <th>16</th>\n",
       "      <td>гражданский брак</td>\n",
       "      <td>1</td>\n",
       "      <td>11.86</td>\n",
       "    </tr>\n",
       "    <tr>\n",
       "      <th>17</th>\n",
       "      <td>гражданский брак</td>\n",
       "      <td>2</td>\n",
       "      <td>8.75</td>\n",
       "    </tr>\n",
       "    <tr>\n",
       "      <th>18</th>\n",
       "      <td>гражданский брак</td>\n",
       "      <td>3</td>\n",
       "      <td>14.29</td>\n",
       "    </tr>\n",
       "    <tr>\n",
       "      <th>19</th>\n",
       "      <td>гражданский брак</td>\n",
       "      <td>4</td>\n",
       "      <td>0.00</td>\n",
       "    </tr>\n",
       "    <tr>\n",
       "      <th>20</th>\n",
       "      <td>гражданский брак</td>\n",
       "      <td>5</td>\n",
       "      <td>0.00</td>\n",
       "    </tr>\n",
       "    <tr>\n",
       "      <th>21</th>\n",
       "      <td>женат / замужем</td>\n",
       "      <td>0</td>\n",
       "      <td>6.91</td>\n",
       "    </tr>\n",
       "    <tr>\n",
       "      <th>22</th>\n",
       "      <td>женат / замужем</td>\n",
       "      <td>1</td>\n",
       "      <td>8.27</td>\n",
       "    </tr>\n",
       "    <tr>\n",
       "      <th>23</th>\n",
       "      <td>женат / замужем</td>\n",
       "      <td>2</td>\n",
       "      <td>9.46</td>\n",
       "    </tr>\n",
       "    <tr>\n",
       "      <th>24</th>\n",
       "      <td>женат / замужем</td>\n",
       "      <td>3</td>\n",
       "      <td>6.83</td>\n",
       "    </tr>\n",
       "    <tr>\n",
       "      <th>25</th>\n",
       "      <td>женат / замужем</td>\n",
       "      <td>4</td>\n",
       "      <td>10.34</td>\n",
       "    </tr>\n",
       "    <tr>\n",
       "      <th>26</th>\n",
       "      <td>женат / замужем</td>\n",
       "      <td>5</td>\n",
       "      <td>0.00</td>\n",
       "    </tr>\n",
       "  </tbody>\n",
       "</table>\n",
       "</div>"
      ],
      "text/plain": [
       "       Семейное положение  Количество детей  Доля невозвратов, %\n",
       "0   Не женат / не замужем                 0                 9.28\n",
       "1   Не женат / не замужем                 1                11.58\n",
       "2   Не женат / не замужем                 2                12.00\n",
       "3   Не женат / не замужем                 3                12.50\n",
       "4   Не женат / не замужем                 4                50.00\n",
       "5               в разводе                 0                 7.02\n",
       "6               в разводе                 1                 6.73\n",
       "7               в разводе                 2                 8.64\n",
       "8               в разводе                 3                 9.09\n",
       "9               в разводе                 4                 0.00\n",
       "10         вдовец / вдова                 0                 6.26\n",
       "11         вдовец / вдова                 1                 9.09\n",
       "12         вдовец / вдова                 2                15.00\n",
       "13         вдовец / вдова                 3                 0.00\n",
       "14         вдовец / вдова                 4                 0.00\n",
       "15       гражданский брак                 0                 8.39\n",
       "16       гражданский брак                 1                11.86\n",
       "17       гражданский брак                 2                 8.75\n",
       "18       гражданский брак                 3                14.29\n",
       "19       гражданский брак                 4                 0.00\n",
       "20       гражданский брак                 5                 0.00\n",
       "21        женат / замужем                 0                 6.91\n",
       "22        женат / замужем                 1                 8.27\n",
       "23        женат / замужем                 2                 9.46\n",
       "24        женат / замужем                 3                 6.83\n",
       "25        женат / замужем                 4                10.34\n",
       "26        женат / замужем                 5                 0.00"
      ]
     },
     "execution_count": 31,
     "metadata": {},
     "output_type": "execute_result"
    }
   ],
   "source": [
    "# группируем датафрейм по значениям колонки 'family_status' (Семейное положение)\n",
    "# вычисляем среднее значение величин 'debt' (долю заемщиков, не выплативших кредит в срок) для каждой группы\n",
    "# вычисляем общее количество строк (количество заемщиков) для каждой группы\n",
    "\n",
    "df_family_status2 = data.groupby(['family_status', 'children']).agg({'debt' : 'mean'}).reset_index()\n",
    "df_family_status2\n",
    "df_family_status2['debt'] *= 100\n",
    "df_family_status2 = df_family_status2.round({'debt': 2})\n",
    "df_family_status2.rename({df_family_status2.columns[0]: 'Семейное положение',\n",
    "                          df_family_status2.columns[1]: 'Количество детей', \n",
    "                          df_family_status2.columns[2]: 'Доля невозвратов, %'}, \n",
    "                          axis='columns', inplace=True)\n",
    "\n",
    "df_family_status2"
   ]
  },
  {
   "cell_type": "markdown",
   "id": "568e13cb",
   "metadata": {},
   "source": [
    "**Вывод:** \\\n",
    "Наибольший процент невозвратов кредита в срок у неженатых/незамужних или живущих в гражданском браке заемщиков, т.е. не имеющих близких отношений или не связавших свои отношения с близким человеком официально.  \n",
    "    \n",
    "**Как изменится вывод про влияние количества детей после учета семейного положения заемщика?**  \n",
    "Теперь по последней таблице можно сказать, что чем больше детей (от 0 до 3) у категорий   \n",
    "- Не женат / не замужем\n",
    "- в разводе\n",
    "- вдовец  \n",
    "\n",
    "т.е. не имеющих семейную пару, тем меньше вероятность выплаты кредита в срок. "
   ]
  },
  {
   "cell_type": "markdown",
   "id": "a4da8ac9",
   "metadata": {},
   "source": [
    "### Есть ли зависимость между уровнем дохода и возвратом кредита в срок?"
   ]
  },
  {
   "cell_type": "code",
   "execution_count": 32,
   "id": "7f8ea181",
   "metadata": {},
   "outputs": [
    {
     "data": {
      "text/html": [
       "<style type=\"text/css\">\n",
       "</style>\n",
       "<table id=\"T_53ed6\">\n",
       "  <thead>\n",
       "    <tr>\n",
       "      <th class=\"blank level0\" >&nbsp;</th>\n",
       "      <th id=\"T_53ed6_level0_col0\" class=\"col_heading level0 col0\" >Категория дохода</th>\n",
       "      <th id=\"T_53ed6_level0_col1\" class=\"col_heading level0 col1\" >Медианный доход заемщиков</th>\n",
       "      <th id=\"T_53ed6_level0_col2\" class=\"col_heading level0 col2\" >Доля невозвратов</th>\n",
       "      <th id=\"T_53ed6_level0_col3\" class=\"col_heading level0 col3\" >Стандартная ошибка среднего</th>\n",
       "      <th id=\"T_53ed6_level0_col4\" class=\"col_heading level0 col4\" >Общее кол-во заемщиков</th>\n",
       "    </tr>\n",
       "  </thead>\n",
       "  <tbody>\n",
       "    <tr>\n",
       "      <th id=\"T_53ed6_level0_row0\" class=\"row_heading level0 row0\" >0</th>\n",
       "      <td id=\"T_53ed6_row0_col0\" class=\"data row0 col0\" >A</td>\n",
       "      <td id=\"T_53ed6_row0_col1\" class=\"data row0 col1\" >1223042.0</td>\n",
       "      <td id=\"T_53ed6_row0_col2\" class=\"data row0 col2\" >8.00%</td>\n",
       "      <td id=\"T_53ed6_row0_col3\" class=\"data row0 col3\" >5.54%</td>\n",
       "      <td id=\"T_53ed6_row0_col4\" class=\"data row0 col4\" >25</td>\n",
       "    </tr>\n",
       "    <tr>\n",
       "      <th id=\"T_53ed6_level0_row1\" class=\"row_heading level0 row1\" >1</th>\n",
       "      <td id=\"T_53ed6_row1_col0\" class=\"data row1 col0\" >B</td>\n",
       "      <td id=\"T_53ed6_row1_col1\" class=\"data row1 col1\" >257558.0</td>\n",
       "      <td id=\"T_53ed6_row1_col2\" class=\"data row1 col2\" >7.06%</td>\n",
       "      <td id=\"T_53ed6_row1_col3\" class=\"data row1 col3\" >0.36%</td>\n",
       "      <td id=\"T_53ed6_row1_col4\" class=\"data row1 col4\" >5014</td>\n",
       "    </tr>\n",
       "    <tr>\n",
       "      <th id=\"T_53ed6_level0_row2\" class=\"row_heading level0 row2\" >2</th>\n",
       "      <td id=\"T_53ed6_row2_col0\" class=\"data row2 col0\" >C</td>\n",
       "      <td id=\"T_53ed6_row2_col1\" class=\"data row2 col1\" >130355.0</td>\n",
       "      <td id=\"T_53ed6_row2_col2\" class=\"data row2 col2\" >8.50%</td>\n",
       "      <td id=\"T_53ed6_row2_col3\" class=\"data row2 col3\" >0.22%</td>\n",
       "      <td id=\"T_53ed6_row2_col4\" class=\"data row2 col4\" >15921</td>\n",
       "    </tr>\n",
       "    <tr>\n",
       "      <th id=\"T_53ed6_level0_row3\" class=\"row_heading level0 row3\" >3</th>\n",
       "      <td id=\"T_53ed6_row3_col0\" class=\"data row3 col0\" >D</td>\n",
       "      <td id=\"T_53ed6_row3_col1\" class=\"data row3 col1\" >43929.0</td>\n",
       "      <td id=\"T_53ed6_row3_col2\" class=\"data row3 col2\" >6.02%</td>\n",
       "      <td id=\"T_53ed6_row3_col3\" class=\"data row3 col3\" >1.27%</td>\n",
       "      <td id=\"T_53ed6_row3_col4\" class=\"data row3 col4\" >349</td>\n",
       "    </tr>\n",
       "    <tr>\n",
       "      <th id=\"T_53ed6_level0_row4\" class=\"row_heading level0 row4\" >4</th>\n",
       "      <td id=\"T_53ed6_row4_col0\" class=\"data row4 col0\" >E</td>\n",
       "      <td id=\"T_53ed6_row4_col1\" class=\"data row4 col1\" >26431.0</td>\n",
       "      <td id=\"T_53ed6_row4_col2\" class=\"data row4 col2\" >9.09%</td>\n",
       "      <td id=\"T_53ed6_row4_col3\" class=\"data row4 col3\" >6.27%</td>\n",
       "      <td id=\"T_53ed6_row4_col4\" class=\"data row4 col4\" >22</td>\n",
       "    </tr>\n",
       "  </tbody>\n",
       "</table>\n"
      ],
      "text/plain": [
       "<pandas.io.formats.style.Styler at 0x7f2934003be0>"
      ]
     },
     "execution_count": 32,
     "metadata": {},
     "output_type": "execute_result"
    }
   ],
   "source": [
    "# группируем датафрейм по значениям колонки 'total_income_category' (Категория дохода)\n",
    "# вычисляем медианное значение величин 'total_income' (месячный доход) \n",
    "# вычисляем среднее значение величин 'debt' (долю заемщиков, не выплативших кредит в срок) \n",
    "# и ошибку среднего для каждой группы\n",
    "# вычисляем общее количество строк (количество заемщиков) для каждой группы\n",
    "\n",
    "group_list  = ['total_income_category']\n",
    "agg_dict  = {'total_income': 'median', \n",
    "             'debt' : ['mean', 'sem', 'count']}\n",
    "\n",
    "col_names_list = ['Категория дохода', \n",
    "                  'Медианный доход заемщиков', \n",
    "                  'Доля невозвратов', \n",
    "                  'Стандартная ошибка среднего', \n",
    "                  'Общее кол-во заемщиков']\n",
    "\n",
    "col_formats_list = ['{:}', '{:}', '{:,.2%}', '{:,.2%}', '{:}']\n",
    "\n",
    "df_total_income_category = table(data, group_list, agg_dict, col_names_list)\n",
    "\n",
    "# форматируем колонки датафрейма из списка col_names_list согласно списку col_formats_list\n",
    "df_total_income_category.style.format(dict(zip(col_names_list, col_formats_list)))"
   ]
  },
  {
   "cell_type": "markdown",
   "id": "fb6dbc43",
   "metadata": {},
   "source": [
    "**Обратите внимание:** Количество заемщиков в категориях дохода A и E очень малое (не более 30, на два порядка меньше остальных ) и эти выборки могут быть не репрезентативны (см. диаграмму ниже) и по этим категориям не рекомендуется делать оценки."
   ]
  },
  {
   "cell_type": "code",
   "execution_count": 33,
   "id": "6e2ec2b8",
   "metadata": {},
   "outputs": [
    {
     "data": {
      "image/png": "[encoded data removed]",
      "text/plain": [
       "<Figure size 640x480 with 1 Axes>"
      ]
     },
     "metadata": {},
     "output_type": "display_data"
    }
   ],
   "source": [
    "sns.barplot(data=df_total_income_category, \n",
    "            x='Категория дохода', \n",
    "            y='Общее кол-во заемщиков', log=True)\\\n",
    "            .set(title='Оценка сбалансированности выборок по категории дохода')\n",
    "None"
   ]
  },
  {
   "cell_type": "markdown",
   "id": "a47d855d",
   "metadata": {},
   "source": [
    "Как видно из гистограммы ниже, для малочисленных категорий A и E очень большие ошибки среднего, для категории D ошибка также велика (возможно, размер выборки тоже недостаточно большой). Поэтому надежные выводы можно сделать только по категориям B и C."
   ]
  },
  {
   "cell_type": "code",
   "execution_count": 34,
   "id": "3d10d8b3",
   "metadata": {},
   "outputs": [
    {
     "data": {
      "image/png": "[encoded data removed]",
      "text/plain": [
       "<Figure size 640x480 with 1 Axes>"
      ]
     },
     "metadata": {},
     "output_type": "display_data"
    }
   ],
   "source": [
    "sns.barplot(data=df_total_income_category, y='Доля невозвратов', x='Категория дохода',\n",
    "           yerr=df_total_income_category['Стандартная ошибка среднего'])\n",
    "None"
   ]
  },
  {
   "cell_type": "markdown",
   "id": "c5f46d30",
   "metadata": {},
   "source": [
    "**Вывод:** \\\n",
    "Если рассмотреть две самые многочисленные выборки - категории B и С, то заемщики из более обеспеченной категории B в среднем возвращают кредиты в срок чаще. Для категорий A, E и D надежные выводы сделать нельзя, поскольку данных по ним мало."
   ]
  },
  {
   "cell_type": "markdown",
   "id": "a3c779ba",
   "metadata": {},
   "source": [
    "### Как разные цели кредита влияют на его возврат в срок?"
   ]
  },
  {
   "cell_type": "code",
   "execution_count": 35,
   "id": "3e0be337",
   "metadata": {},
   "outputs": [
    {
     "data": {
      "text/html": [
       "<style type=\"text/css\">\n",
       "</style>\n",
       "<table id=\"T_8d5f8\">\n",
       "  <thead>\n",
       "    <tr>\n",
       "      <th class=\"blank level0\" >&nbsp;</th>\n",
       "      <th id=\"T_8d5f8_level0_col0\" class=\"col_heading level0 col0\" >Цель кредита</th>\n",
       "      <th id=\"T_8d5f8_level0_col1\" class=\"col_heading level0 col1\" >Доля невозвратов</th>\n",
       "      <th id=\"T_8d5f8_level0_col2\" class=\"col_heading level0 col2\" >Стандартная ошибка среднего</th>\n",
       "      <th id=\"T_8d5f8_level0_col3\" class=\"col_heading level0 col3\" >Общее кол-во заемщиков</th>\n",
       "    </tr>\n",
       "  </thead>\n",
       "  <tbody>\n",
       "    <tr>\n",
       "      <th id=\"T_8d5f8_level0_row0\" class=\"row_heading level0 row0\" >1</th>\n",
       "      <td id=\"T_8d5f8_row0_col0\" class=\"data row0 col0\" >операции с недвижимостью</td>\n",
       "      <td id=\"T_8d5f8_row0_col1\" class=\"data row0 col1\" >7.26%</td>\n",
       "      <td id=\"T_8d5f8_row0_col2\" class=\"data row0 col2\" >0.25%</td>\n",
       "      <td id=\"T_8d5f8_row0_col3\" class=\"data row0 col3\" >10751</td>\n",
       "    </tr>\n",
       "    <tr>\n",
       "      <th id=\"T_8d5f8_level0_row1\" class=\"row_heading level0 row1\" >3</th>\n",
       "      <td id=\"T_8d5f8_row1_col0\" class=\"data row1 col0\" >проведение свадьбы</td>\n",
       "      <td id=\"T_8d5f8_row1_col1\" class=\"data row1 col1\" >7.91%</td>\n",
       "      <td id=\"T_8d5f8_row1_col2\" class=\"data row1 col2\" >0.56%</td>\n",
       "      <td id=\"T_8d5f8_row1_col3\" class=\"data row1 col3\" >2313</td>\n",
       "    </tr>\n",
       "    <tr>\n",
       "      <th id=\"T_8d5f8_level0_row2\" class=\"row_heading level0 row2\" >2</th>\n",
       "      <td id=\"T_8d5f8_row2_col0\" class=\"data row2 col0\" >получение образования</td>\n",
       "      <td id=\"T_8d5f8_row2_col1\" class=\"data row2 col1\" >9.25%</td>\n",
       "      <td id=\"T_8d5f8_row2_col2\" class=\"data row2 col2\" >0.46%</td>\n",
       "      <td id=\"T_8d5f8_row2_col3\" class=\"data row2 col3\" >3988</td>\n",
       "    </tr>\n",
       "    <tr>\n",
       "      <th id=\"T_8d5f8_level0_row3\" class=\"row_heading level0 row3\" >0</th>\n",
       "      <td id=\"T_8d5f8_row3_col0\" class=\"data row3 col0\" >операции с автомобилем</td>\n",
       "      <td id=\"T_8d5f8_row3_col1\" class=\"data row3 col1\" >9.35%</td>\n",
       "      <td id=\"T_8d5f8_row3_col2\" class=\"data row3 col2\" >0.45%</td>\n",
       "      <td id=\"T_8d5f8_row3_col3\" class=\"data row3 col3\" >4279</td>\n",
       "    </tr>\n",
       "  </tbody>\n",
       "</table>\n"
      ],
      "text/plain": [
       "<pandas.io.formats.style.Styler at 0x7f28f2b34ca0>"
      ]
     },
     "execution_count": 35,
     "metadata": {},
     "output_type": "execute_result"
    }
   ],
   "source": [
    "# группируем датафрейм по значениям колонки 'purpose_category' (Цель кредита)\n",
    "# вычисляем среднее значение величин 'debt' (долю заемщиков, не выплативших кредит в срок) \n",
    "# и ошибку среднего для каждой группы\n",
    "# вычисляем общее количество строк (количество заемщиков) для каждой группы\n",
    "\n",
    "group_list  = ['purpose_category']\n",
    "agg_dict  = {'debt' : ['mean', 'sem', 'count']}\n",
    "col_names_list = ['Цель кредита', 'Доля невозвратов', 'Стандартная ошибка среднего', 'Общее кол-во заемщиков']\n",
    "col_formats_list = ['{:}', '{:,.2%}', '{:,.2%}', '{:}']\n",
    "\n",
    "df_purpose_category = table(data, group_list, agg_dict, col_names_list).sort_values(by='Доля невозвратов')\n",
    "\n",
    "# форматируем колонки датафрейма из списка col_names_list согласно списку col_formats_list\n",
    "df_purpose_category.style.format(dict(zip(col_names_list, col_formats_list)))"
   ]
  },
  {
   "cell_type": "code",
   "execution_count": 36,
   "id": "7d6d3e1e",
   "metadata": {},
   "outputs": [
    {
     "data": {
      "image/png": "[encoded data removed]",
      "text/plain": [
       "<Figure size 640x480 with 1 Axes>"
      ]
     },
     "metadata": {},
     "output_type": "display_data"
    }
   ],
   "source": [
    "sns.barplot(data=df_purpose_category, x='Доля невозвратов', y='Цель кредита',\n",
    "           xerr=df_purpose_category['Стандартная ошибка среднего'])\n",
    "None"
   ]
  },
  {
   "cell_type": "markdown",
   "id": "c68a134f",
   "metadata": {},
   "source": [
    "**Вывод:** \\\n",
    "Кредиты на операции с недвижимостью и проведение свадьбы возвращают в срок чаще, чем кредиты на покупку автомобиля и получение образования."
   ]
  },
  {
   "cell_type": "markdown",
   "id": "69e42071",
   "metadata": {},
   "source": [
    "Прежде чем сформулировать общий вывод, отметим следующее. Учета единичной величины недостаточно, чтобы оценить кредитоспособность потенциального заемщика. Необходимо разбивать заемщиков на более узкие специфичные группы (как например, совместный учет количества детей и семейного положения в **п. 3.3**).  \n",
    "Сгруппируем добросовестных заемщиков по их параметрам: составим рейтинг самых исполнительных специфичных категорий численностью минимум 200 человек каждая."
   ]
  },
  {
   "cell_type": "code",
   "execution_count": 37,
   "id": "62f1a2a1",
   "metadata": {},
   "outputs": [
    {
     "data": {
      "text/html": [
       "<div>\n",
       "<style scoped>\n",
       "    .dataframe tbody tr th:only-of-type {\n",
       "        vertical-align: middle;\n",
       "    }\n",
       "\n",
       "    .dataframe tbody tr th {\n",
       "        vertical-align: top;\n",
       "    }\n",
       "\n",
       "    .dataframe thead th {\n",
       "        text-align: right;\n",
       "    }\n",
       "</style>\n",
       "<table border=\"1\" class=\"dataframe\">\n",
       "  <thead>\n",
       "    <tr style=\"text-align: right;\">\n",
       "      <th></th>\n",
       "      <th>total_income_category</th>\n",
       "      <th>education</th>\n",
       "      <th>family_status</th>\n",
       "      <th>income_type</th>\n",
       "      <th>purpose_category</th>\n",
       "      <th>debt</th>\n",
       "      <th>total_count</th>\n",
       "      <th>mean</th>\n",
       "    </tr>\n",
       "  </thead>\n",
       "  <tbody>\n",
       "    <tr>\n",
       "      <th>80</th>\n",
       "      <td>B</td>\n",
       "      <td>высшее</td>\n",
       "      <td>женат / замужем</td>\n",
       "      <td>сотрудник</td>\n",
       "      <td>операции с недвижимостью</td>\n",
       "      <td>7</td>\n",
       "      <td>252</td>\n",
       "      <td>2.777778</td>\n",
       "    </tr>\n",
       "    <tr>\n",
       "      <th>73</th>\n",
       "      <td>B</td>\n",
       "      <td>высшее</td>\n",
       "      <td>женат / замужем</td>\n",
       "      <td>компаньон</td>\n",
       "      <td>операции с недвижимостью</td>\n",
       "      <td>9</td>\n",
       "      <td>258</td>\n",
       "      <td>3.488372</td>\n",
       "    </tr>\n",
       "    <tr>\n",
       "      <th>419</th>\n",
       "      <td>C</td>\n",
       "      <td>среднее</td>\n",
       "      <td>женат / замужем</td>\n",
       "      <td>пенсионер</td>\n",
       "      <td>операции с автомобилем</td>\n",
       "      <td>13</td>\n",
       "      <td>310</td>\n",
       "      <td>4.193548</td>\n",
       "    </tr>\n",
       "    <tr>\n",
       "      <th>420</th>\n",
       "      <td>C</td>\n",
       "      <td>среднее</td>\n",
       "      <td>женат / замужем</td>\n",
       "      <td>пенсионер</td>\n",
       "      <td>операции с недвижимостью</td>\n",
       "      <td>39</td>\n",
       "      <td>775</td>\n",
       "      <td>5.032258</td>\n",
       "    </tr>\n",
       "    <tr>\n",
       "      <th>414</th>\n",
       "      <td>C</td>\n",
       "      <td>среднее</td>\n",
       "      <td>женат / замужем</td>\n",
       "      <td>госслужащий</td>\n",
       "      <td>операции с недвижимостью</td>\n",
       "      <td>13</td>\n",
       "      <td>229</td>\n",
       "      <td>5.676856</td>\n",
       "    </tr>\n",
       "    <tr>\n",
       "      <th>266</th>\n",
       "      <td>C</td>\n",
       "      <td>высшее</td>\n",
       "      <td>женат / замужем</td>\n",
       "      <td>сотрудник</td>\n",
       "      <td>операции с недвижимостью</td>\n",
       "      <td>32</td>\n",
       "      <td>551</td>\n",
       "      <td>5.807623</td>\n",
       "    </tr>\n",
       "    <tr>\n",
       "      <th>193</th>\n",
       "      <td>B</td>\n",
       "      <td>среднее</td>\n",
       "      <td>женат / замужем</td>\n",
       "      <td>компаньон</td>\n",
       "      <td>операции с недвижимостью</td>\n",
       "      <td>18</td>\n",
       "      <td>296</td>\n",
       "      <td>6.081081</td>\n",
       "    </tr>\n",
       "    <tr>\n",
       "      <th>260</th>\n",
       "      <td>C</td>\n",
       "      <td>высшее</td>\n",
       "      <td>женат / замужем</td>\n",
       "      <td>компаньон</td>\n",
       "      <td>операции с недвижимостью</td>\n",
       "      <td>18</td>\n",
       "      <td>295</td>\n",
       "      <td>6.101695</td>\n",
       "    </tr>\n",
       "    <tr>\n",
       "      <th>417</th>\n",
       "      <td>C</td>\n",
       "      <td>среднее</td>\n",
       "      <td>женат / замужем</td>\n",
       "      <td>компаньон</td>\n",
       "      <td>операции с недвижимостью</td>\n",
       "      <td>44</td>\n",
       "      <td>674</td>\n",
       "      <td>6.528190</td>\n",
       "    </tr>\n",
       "    <tr>\n",
       "      <th>421</th>\n",
       "      <td>C</td>\n",
       "      <td>среднее</td>\n",
       "      <td>женат / замужем</td>\n",
       "      <td>пенсионер</td>\n",
       "      <td>получение образования</td>\n",
       "      <td>19</td>\n",
       "      <td>289</td>\n",
       "      <td>6.574394</td>\n",
       "    </tr>\n",
       "  </tbody>\n",
       "</table>\n",
       "</div>"
      ],
      "text/plain": [
       "    total_income_category education    family_status  income_type  \\\n",
       "80                      B    высшее  женат / замужем    сотрудник   \n",
       "73                      B    высшее  женат / замужем    компаньон   \n",
       "419                     C   среднее  женат / замужем    пенсионер   \n",
       "420                     C   среднее  женат / замужем    пенсионер   \n",
       "414                     C   среднее  женат / замужем  госслужащий   \n",
       "266                     C    высшее  женат / замужем    сотрудник   \n",
       "193                     B   среднее  женат / замужем    компаньон   \n",
       "260                     C    высшее  женат / замужем    компаньон   \n",
       "417                     C   среднее  женат / замужем    компаньон   \n",
       "421                     C   среднее  женат / замужем    пенсионер   \n",
       "\n",
       "             purpose_category  debt  total_count      mean  \n",
       "80   операции с недвижимостью     7          252  2.777778  \n",
       "73   операции с недвижимостью     9          258  3.488372  \n",
       "419    операции с автомобилем    13          310  4.193548  \n",
       "420  операции с недвижимостью    39          775  5.032258  \n",
       "414  операции с недвижимостью    13          229  5.676856  \n",
       "266  операции с недвижимостью    32          551  5.807623  \n",
       "193  операции с недвижимостью    18          296  6.081081  \n",
       "260  операции с недвижимостью    18          295  6.101695  \n",
       "417  операции с недвижимостью    44          674  6.528190  \n",
       "421     получение образования    19          289  6.574394  "
      ]
     },
     "execution_count": 37,
     "metadata": {},
     "output_type": "execute_result"
    }
   ],
   "source": [
    "# группируем датафрейм по значениям колонок\n",
    "# 'total_income_category', 'education', 'family_status', 'income_type', 'purpose_category'\n",
    "# вычисляем среднее значение величин 'debt' (долю заемщиков, не выплативших кредит в срок) для каждой группы\n",
    "data_grouped_by_many = data.groupby(['total_income_category', \n",
    "                                     'education', \n",
    "                                     'family_status', \n",
    "                                     'income_type', \n",
    "                                     'purpose_category'])['debt'].sum().reset_index()\n",
    "\n",
    "data_grouped_by_many['total_count'] = data.groupby(['total_income_category', \n",
    "                                                    'education', \n",
    "                                                    'family_status', \n",
    "                                                    'income_type', \n",
    "                                                    'purpose_category'])['income_type']\\\n",
    "                                                    .count().reset_index(drop=True)\n",
    "\n",
    "data_grouped_by_many['mean'] = data.groupby(['total_income_category', \n",
    "                                             'education', \n",
    "                                             'family_status', \n",
    "                                             'income_type', \n",
    "                                             'purpose_category'])['debt']\\\n",
    "                                             .mean().reset_index(drop=True) * 100\n",
    "\n",
    "data_grouped_by_many = data_grouped_by_many.sort_values(by='total_count', ascending=False)\n",
    "\n",
    "# выбираем категории группировки содержащие достаточное количество записей 'total_count' (200) \n",
    "data_grouped_by_many_at_least_200 = data_grouped_by_many.loc[data_grouped_by_many['total_count'] > 200]\n",
    "# и сортируем их по возрастанию доли просрочек 'mean'\n",
    "data_grouped_by_many_at_least_200.sort_values(by='mean', ascending=True).head(10)"
   ]
  },
  {
   "cell_type": "markdown",
   "id": "d177a872",
   "metadata": {},
   "source": [
    "## Общие выводы"
   ]
  },
  {
   "cell_type": "markdown",
   "id": "aff91dc4",
   "metadata": {},
   "source": [
    "1) Примерно 10% всех записей о доходе и стаже работы заемщиков содержат пропуски. Скорее всего это связано с тем, что от этих заемщиков не требовались эти данные (использовались другие имеющиеся, или они были необязательны, заемщик является зарплатным клиентом банка). При интерпретации результатов исследования следует учитывать, что эти пропуски заменены медианным значением для каждой категории дохода.\n",
    "\n",
    "2) Для заемщиков с 0, 1 и 2 детьми в среднем вероятность возврата кредита в срок уменьшается с ростом количества детей.  \n",
    "Если сгруппировать заемщиков по семейному положению, то влияние количества детей на возврат кредита в срок становится более выраженным. Чем больше детей (от 0 до 3) у категорий `Не женат / не замужем`, `в разводе`, `вдовец`, тем меньше вероятность выплаты кредита в срок.\n",
    "\n",
    "3) Наибольший процент невозвратов кредита в срок у неженатых/незамужних или живущих в гражданском браке заемщиков.\n",
    "\n",
    "4) Заемщики из более обеспеченной категории B в среднем возвращают кредиты в срок чаще, чем заемщики из категории C.\n",
    "    \n",
    "5) Кредиты на операции с недвижимостью и проведение свадьбы в общем возвращают в срок чаще, чем кредиты на покупку автомобиля и получение образования.\n",
    "    \n",
    "6) Исходя из рейтинга топ-10 специфичных категорий заемщиков можно заключить, что наиболее надежными заемщиками будут женатые/замужние люди с категорией дохода B-C, высшим/средним образованием, планирующие провести операции с недвижимостью. Вероятность невозврата кредита в срок для них будет в интервале от 3 до 7%.\n",
    "\n",
    "Если оценивать заемщиков только по категории дохода, то лучшей будет категория D, но ее нет в рейтинге топ-10. Этот пример указывает на несостоятельность категории дохода как отдельного параметра для *индивидуальной* оценки кредитоспособности заемщика.\n",
    " \n",
    "   \n",
    "7) Полученные связи между характеристиками заемщиков и их кредитоспособностью могут быть использованы для обучения модели, предсказывающей кредитоспособность потенциального заемщика."
   ]
  }
 ],
 "metadata": {
  "kernelspec": {
   "display_name": "Python 3 (ipykernel)",
   "language": "python",
   "name": "python3"
  },
  "language_info": {
   "codemirror_mode": {
    "name": "ipython",
    "version": 3
   },
   "file_extension": ".py",
   "mimetype": "text/x-python",
   "name": "python",
   "nbconvert_exporter": "python",
   "pygments_lexer": "ipython3",
   "version": "3.9.13"
  },
  "toc": {
   "base_numbering": "0.",
   "nav_menu": {},
   "number_sections": true,
   "sideBar": true,
   "skip_h1_title": true,
   "title_cell": "Содержание",
   "title_sidebar": "Contents",
   "toc_cell": true,
   "toc_position": {
    "height": "calc(100% - 180px)",
    "left": "10px",
    "top": "150px",
    "width": "384px"
   },
   "toc_section_display": true,
   "toc_window_display": true
  }
 },
 "nbformat": 4,
 "nbformat_minor": 5
}
