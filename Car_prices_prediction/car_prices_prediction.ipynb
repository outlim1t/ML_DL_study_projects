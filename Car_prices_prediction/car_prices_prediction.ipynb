{
 "cells": [
  {
   "cell_type": "markdown",
   "metadata": {},
   "source": [
    "# Определение стоимости автомобилей"
   ]
  },
  {
   "cell_type": "markdown",
   "metadata": {},
   "source": [
    "Сервис по продаже автомобилей с пробегом разрабатывает приложение для привлечения новых клиентов. В нём можно быстро узнать рыночную стоимость своего автомобиля. В нашем распоряжении исторические данные: технические характеристики, комплектации и цены автомобилей. \n",
    "\n",
    "**Цель проекта:** Построить модель машинного обучения для определения стоимости автомобиля по его характеристикам. \n",
    "\n",
    "Критерии выбора модели:\n",
    "\n",
    "- качество предсказания;\n",
    "- скорость предсказания;\n",
    "- время обучения.\n",
    "\n",
    "**Задачи проекта:** \n",
    "- провести предобработку данных\n",
    "- подготовить признаки для обучения моделей\n",
    "- обучить различные модели с поиском оптимальных гиперпараметров\n",
    "- выбрать наилучшую модель согласно указанным выше критериям\n",
    "- протестировать наилучшую модель на тестовой выборке"
   ]
  },
  {
   "cell_type": "markdown",
   "metadata": {
    "toc": true
   },
   "source": [
    "<h1>Содержание<span class=\"tocSkip\"></span></h1>\n",
    "<div class=\"toc\"><ul class=\"toc-item\"><li><span><a href=\"#Подготовка-данных\" data-toc-modified-id=\"Подготовка-данных-1\"><span class=\"toc-item-num\">1&nbsp;&nbsp;</span><strong>Подготовка данных</strong></a></span><ul class=\"toc-item\"><li><span><a href=\"#Переименование-столбцов\" data-toc-modified-id=\"Переименование-столбцов-1.1\"><span class=\"toc-item-num\">1.1&nbsp;&nbsp;</span>Переименование столбцов</a></span></li><li><span><a href=\"#Заполнение-пропусков\" data-toc-modified-id=\"Заполнение-пропусков-1.2\"><span class=\"toc-item-num\">1.2&nbsp;&nbsp;</span>Заполнение пропусков</a></span></li><li><span><a href=\"#Типы-данных\" data-toc-modified-id=\"Типы-данных-1.3\"><span class=\"toc-item-num\">1.3&nbsp;&nbsp;</span>Типы данных</a></span></li><li><span><a href=\"#Создание-оптимальных/дополнительных-признаков\" data-toc-modified-id=\"Создание-оптимальных/дополнительных-признаков-1.4\"><span class=\"toc-item-num\">1.4&nbsp;&nbsp;</span><strong>Создание оптимальных/дополнительных признаков</strong></a></span><ul class=\"toc-item\"><li><span><a href=\"#ad_lifetime-(время-жизни-объявления-в-днях)\" data-toc-modified-id=\"ad_lifetime-(время-жизни-объявления-в-днях)-1.4.1\"><span class=\"toc-item-num\">1.4.1&nbsp;&nbsp;</span>ad_lifetime (время жизни объявления в днях)</a></span></li><li><span><a href=\"#registration_year_month-(Datetime)\" data-toc-modified-id=\"registration_year_month-(Datetime)-1.4.2\"><span class=\"toc-item-num\">1.4.2&nbsp;&nbsp;</span>registration_year_month (Datetime)</a></span></li><li><span><a href=\"#brand_model\" data-toc-modified-id=\"brand_model-1.4.3\"><span class=\"toc-item-num\">1.4.3&nbsp;&nbsp;</span>brand_model</a></span></li><li><span><a href=\"#fuel_type\" data-toc-modified-id=\"fuel_type-1.4.4\"><span class=\"toc-item-num\">1.4.4&nbsp;&nbsp;</span>fuel_type</a></span></li><li><span><a href=\"#repaired\" data-toc-modified-id=\"repaired-1.4.5\"><span class=\"toc-item-num\">1.4.5&nbsp;&nbsp;</span>repaired</a></span></li></ul></li><li><span><a href=\"#Аномальные-значения\" data-toc-modified-id=\"Аномальные-значения-1.5\"><span class=\"toc-item-num\">1.5&nbsp;&nbsp;</span><strong>Аномальные значения</strong></a></span><ul class=\"toc-item\"><li><span><a href=\"#date_created\" data-toc-modified-id=\"date_created-1.5.1\"><span class=\"toc-item-num\">1.5.1&nbsp;&nbsp;</span>date_created</a></span></li><li><span><a href=\"#date_crawled\" data-toc-modified-id=\"date_crawled-1.5.2\"><span class=\"toc-item-num\">1.5.2&nbsp;&nbsp;</span>date_crawled</a></span></li><li><span><a href=\"#ad_lifetime\" data-toc-modified-id=\"ad_lifetime-1.5.3\"><span class=\"toc-item-num\">1.5.3&nbsp;&nbsp;</span>ad_lifetime</a></span></li><li><span><a href=\"#price\" data-toc-modified-id=\"price-1.5.4\"><span class=\"toc-item-num\">1.5.4&nbsp;&nbsp;</span>price</a></span></li><li><span><a href=\"#registration_year\" data-toc-modified-id=\"registration_year-1.5.5\"><span class=\"toc-item-num\">1.5.5&nbsp;&nbsp;</span>registration_year</a></span></li><li><span><a href=\"#kilometer\" data-toc-modified-id=\"kilometer-1.5.6\"><span class=\"toc-item-num\">1.5.6&nbsp;&nbsp;</span>kilometer</a></span></li><li><span><a href=\"#power\" data-toc-modified-id=\"power-1.5.7\"><span class=\"toc-item-num\">1.5.7&nbsp;&nbsp;</span>power</a></span></li></ul></li><li><span><a href=\"#Удаление-ненужных-признаков\" data-toc-modified-id=\"Удаление-ненужных-признаков-1.6\"><span class=\"toc-item-num\">1.6&nbsp;&nbsp;</span>Удаление ненужных признаков</a></span></li><li><span><a href=\"#Подготовка-признаков\" data-toc-modified-id=\"Подготовка-признаков-1.7\"><span class=\"toc-item-num\">1.7&nbsp;&nbsp;</span><strong>Подготовка признаков</strong></a></span></li></ul></li><li><span><a href=\"#Обучение-моделей\" data-toc-modified-id=\"Обучение-моделей-2\"><span class=\"toc-item-num\">2&nbsp;&nbsp;</span><strong>Обучение моделей</strong></a></span><ul class=\"toc-item\"><li><span><a href=\"#Ridge\" data-toc-modified-id=\"Ridge-2.1\"><span class=\"toc-item-num\">2.1&nbsp;&nbsp;</span>Ridge</a></span></li><li><span><a href=\"#RandomForestRegressor\" data-toc-modified-id=\"RandomForestRegressor-2.2\"><span class=\"toc-item-num\">2.2&nbsp;&nbsp;</span>RandomForestRegressor</a></span></li><li><span><a href=\"#Light-GBM-Regressor\" data-toc-modified-id=\"Light-GBM-Regressor-2.3\"><span class=\"toc-item-num\">2.3&nbsp;&nbsp;</span>Light GBM Regressor</a></span></li></ul></li><li><span><a href=\"#Анализ-моделей\" data-toc-modified-id=\"Анализ-моделей-3\"><span class=\"toc-item-num\">3&nbsp;&nbsp;</span><strong>Анализ моделей</strong></a></span></li><li><span><a href=\"#Тест-лучшей-модели\" data-toc-modified-id=\"Тест-лучшей-модели-4\"><span class=\"toc-item-num\">4&nbsp;&nbsp;</span><strong>Тест лучшей модели</strong></a></span></li></ul></div>"
   ]
  },
  {
   "cell_type": "markdown",
   "metadata": {},
   "source": [
    "## **Подготовка данных**"
   ]
  },
  {
   "cell_type": "code",
   "execution_count": 1,
   "metadata": {
    "scrolled": true
   },
   "outputs": [
    {
     "name": "stdout",
     "output_type": "stream",
     "text": [
      "Requirement already satisfied: scikit-learn==1.3 in /home/akorchuganov/anaconda3/envs/ds_practicum_env/lib/python3.9/site-packages (1.3.0)\n",
      "Requirement already satisfied: scipy>=1.5.0 in /home/akorchuganov/anaconda3/envs/ds_practicum_env/lib/python3.9/site-packages (from scikit-learn==1.3) (1.8.0)\n",
      "Requirement already satisfied: threadpoolctl>=2.0.0 in /home/akorchuganov/anaconda3/envs/ds_practicum_env/lib/python3.9/site-packages (from scikit-learn==1.3) (3.1.0)\n",
      "Requirement already satisfied: joblib>=1.1.1 in /home/akorchuganov/anaconda3/envs/ds_practicum_env/lib/python3.9/site-packages (from scikit-learn==1.3) (1.2.0)\n",
      "Requirement already satisfied: numpy>=1.17.3 in /home/akorchuganov/anaconda3/envs/ds_practicum_env/lib/python3.9/site-packages (from scikit-learn==1.3) (1.20.1)\n",
      "Requirement already satisfied: lightgbm in /home/akorchuganov/anaconda3/envs/ds_practicum_env/lib/python3.9/site-packages (3.3.5)\n",
      "Requirement already satisfied: wheel in /home/akorchuganov/anaconda3/envs/ds_practicum_env/lib/python3.9/site-packages (from lightgbm) (0.38.4)\n",
      "Requirement already satisfied: scipy in /home/akorchuganov/anaconda3/envs/ds_practicum_env/lib/python3.9/site-packages (from lightgbm) (1.8.0)\n",
      "Requirement already satisfied: scikit-learn!=0.22.0 in /home/akorchuganov/anaconda3/envs/ds_practicum_env/lib/python3.9/site-packages (from lightgbm) (1.3.0)\n",
      "Requirement already satisfied: numpy in /home/akorchuganov/anaconda3/envs/ds_practicum_env/lib/python3.9/site-packages (from lightgbm) (1.20.1)\n",
      "Requirement already satisfied: joblib>=1.1.1 in /home/akorchuganov/anaconda3/envs/ds_practicum_env/lib/python3.9/site-packages (from scikit-learn!=0.22.0->lightgbm) (1.2.0)\n",
      "Requirement already satisfied: threadpoolctl>=2.0.0 in /home/akorchuganov/anaconda3/envs/ds_practicum_env/lib/python3.9/site-packages (from scikit-learn!=0.22.0->lightgbm) (3.1.0)\n"
     ]
    }
   ],
   "source": [
    "!pip install scikit-learn==1.3\n",
    "!pip install lightgbm"
   ]
  },
  {
   "cell_type": "code",
   "execution_count": 2,
   "metadata": {},
   "outputs": [],
   "source": [
    "# импорты из стандартной библиотеки\n",
    "import warnings\n",
    "import time\n",
    "import re\n",
    "\n",
    "# импорты сторонних библиотек\n",
    "import numpy as np\n",
    "import pandas as pd\n",
    "import lightgbm\n",
    "import seaborn as sns\n",
    "import matplotlib.pyplot as plt\n",
    "\n",
    "# импорты модулей для текущего проекта\n",
    "from lightgbm import LGBMRegressor\n",
    "from sklearn.compose import make_column_transformer\n",
    "from sklearn.ensemble import RandomForestRegressor\n",
    "from sklearn.linear_model import Ridge\n",
    "from sklearn.metrics import mean_squared_error\n",
    "from sklearn.model_selection import GridSearchCV, train_test_split\n",
    "from sklearn.pipeline import make_pipeline\n",
    "from sklearn.preprocessing import (\n",
    "    FunctionTransformer,\n",
    "    TargetEncoder,\n",
    "    OneHotEncoder,\n",
    "    OrdinalEncoder,\n",
    "    StandardScaler\n",
    ")\n",
    "\n",
    "# настройки\n",
    "warnings.filterwarnings(\"ignore\")\n",
    "\n",
    "# константы\n",
    "RANDOM_STATE = 23\n",
    "CV = 5"
   ]
  },
  {
   "cell_type": "code",
   "execution_count": 3,
   "metadata": {},
   "outputs": [],
   "source": [
    "df = pd.read_csv('autos.csv')"
   ]
  },
  {
   "cell_type": "code",
   "execution_count": 4,
   "metadata": {},
   "outputs": [
    {
     "data": {
      "text/plain": [
       "Index(['DateCrawled', 'Price', 'VehicleType', 'RegistrationYear', 'Gearbox',\n",
       "       'Power', 'Model', 'Kilometer', 'RegistrationMonth', 'FuelType', 'Brand',\n",
       "       'Repaired', 'DateCreated', 'NumberOfPictures', 'PostalCode',\n",
       "       'LastSeen'],\n",
       "      dtype='object')"
      ]
     },
     "execution_count": 4,
     "metadata": {},
     "output_type": "execute_result"
    }
   ],
   "source": [
    "df.columns"
   ]
  },
  {
   "cell_type": "markdown",
   "metadata": {},
   "source": [
    "**Формулировка задачи машинного обучения**  \n",
    "Предсказание цены автомобиля по его характеристикам - это задача регрессии. Имеющийся набор данных можно разделить на две категории:"
   ]
  },
  {
   "cell_type": "markdown",
   "metadata": {},
   "source": [
    "Признаки:\n",
    "\n",
    "    • DateCrawled — дата скачивания анкеты из базы\n",
    "    • VehicleType — тип автомобильного кузова\n",
    "    • RegistrationYear — год регистрации автомобиля\n",
    "    • Gearbox — тип коробки передач\n",
    "    • Power — мощность (л. с.)\n",
    "    • Model — модель автомобиля\n",
    "    • Kilometer — пробег (км)\n",
    "    • RegistrationMonth — месяц регистрации автомобиля\n",
    "    • FuelType — тип топлива\n",
    "    • Brand — марка автомобиля\n",
    "    • Repaired — была машина в ремонте или нет\n",
    "    • DateCreated — дата создания анкеты\n",
    "    • NumberOfPictures — количество фотографий автомобиля\n",
    "    • PostalCode — почтовый индекс владельца анкеты (пользователя)\n",
    "    • LastSeen — дата последней активности пользователя\n",
    "Целевой признак:  \n",
    "\n",
    "    • Price — цена (евро)"
   ]
  },
  {
   "cell_type": "markdown",
   "metadata": {},
   "source": [
    "Не все признаки понадобятся для обучения модели, финальный набор будет сформирован в **п. 1.6**."
   ]
  },
  {
   "cell_type": "markdown",
   "metadata": {},
   "source": [
    "### Переименование столбцов"
   ]
  },
  {
   "cell_type": "code",
   "execution_count": 5,
   "metadata": {},
   "outputs": [
    {
     "data": {
      "text/plain": [
       "Index(['date_crawled', 'price', 'vehicle_type', 'registration_year', 'gearbox',\n",
       "       'power', 'model', 'kilometer', 'registration_month', 'fuel_type',\n",
       "       'brand', 'repaired', 'date_created', 'number_of_pictures',\n",
       "       'postal_code', 'last_seen'],\n",
       "      dtype='object')"
      ]
     },
     "execution_count": 5,
     "metadata": {},
     "output_type": "execute_result"
    }
   ],
   "source": [
    "df.columns = [re.sub(r'(?<!^)(?=[A-Z])', '_', i).lower() for i in df.columns]\n",
    "df.columns"
   ]
  },
  {
   "cell_type": "markdown",
   "metadata": {},
   "source": [
    "### Заполнение пропусков"
   ]
  },
  {
   "cell_type": "code",
   "execution_count": 6,
   "metadata": {},
   "outputs": [
    {
     "data": {
      "text/plain": [
       "4"
      ]
     },
     "execution_count": 6,
     "metadata": {},
     "output_type": "execute_result"
    }
   ],
   "source": [
    "df.duplicated().sum()"
   ]
  },
  {
   "cell_type": "code",
   "execution_count": 7,
   "metadata": {},
   "outputs": [
    {
     "data": {
      "text/plain": [
       "0"
      ]
     },
     "execution_count": 7,
     "metadata": {},
     "output_type": "execute_result"
    }
   ],
   "source": [
    "df = df.drop(df[df.duplicated()].index, axis=0)\n",
    "df.duplicated().sum()"
   ]
  },
  {
   "cell_type": "code",
   "execution_count": 8,
   "metadata": {},
   "outputs": [
    {
     "data": {
      "text/plain": [
       "date_crawled           0.000000\n",
       "price                  0.000000\n",
       "vehicle_type          10.579487\n",
       "registration_year      0.000000\n",
       "gearbox                5.596772\n",
       "power                  0.000000\n",
       "model                  5.560651\n",
       "kilometer              0.000000\n",
       "registration_month     0.000000\n",
       "fuel_type              9.282802\n",
       "brand                  0.000000\n",
       "repaired              20.079297\n",
       "date_created           0.000000\n",
       "number_of_pictures     0.000000\n",
       "postal_code            0.000000\n",
       "last_seen              0.000000\n",
       "dtype: float64"
      ]
     },
     "execution_count": 8,
     "metadata": {},
     "output_type": "execute_result"
    }
   ],
   "source": [
    "# доля пропусков до заполнения\n",
    "100 * df.isna().sum() / df.isna().count()"
   ]
  },
  {
   "cell_type": "markdown",
   "metadata": {},
   "source": [
    "Достоверно восстановить значения пропусков невозможно: заполняем их \"заглушками\". Будем считать, что если информация о ремонте авто не указана, значит его не ремонтировали."
   ]
  },
  {
   "cell_type": "code",
   "execution_count": 9,
   "metadata": {},
   "outputs": [],
   "source": [
    "fillna_cols = df.columns.to_list()\n",
    "fillna_cols.remove('repaired')"
   ]
  },
  {
   "cell_type": "code",
   "execution_count": 10,
   "metadata": {},
   "outputs": [],
   "source": [
    "for col in fillna_cols:\n",
    "    if df[col].isna().sum() > 0:\n",
    "        df[col].fillna('NA', inplace=True)"
   ]
  },
  {
   "cell_type": "code",
   "execution_count": 11,
   "metadata": {},
   "outputs": [],
   "source": [
    "df['repaired'].fillna(0, inplace=True)"
   ]
  },
  {
   "cell_type": "code",
   "execution_count": 12,
   "metadata": {},
   "outputs": [
    {
     "data": {
      "text/plain": [
       "date_crawled          0\n",
       "price                 0\n",
       "vehicle_type          0\n",
       "registration_year     0\n",
       "gearbox               0\n",
       "power                 0\n",
       "model                 0\n",
       "kilometer             0\n",
       "registration_month    0\n",
       "fuel_type             0\n",
       "brand                 0\n",
       "repaired              0\n",
       "date_created          0\n",
       "number_of_pictures    0\n",
       "postal_code           0\n",
       "last_seen             0\n",
       "dtype: int64"
      ]
     },
     "execution_count": 12,
     "metadata": {},
     "output_type": "execute_result"
    }
   ],
   "source": [
    "df.isna().sum()"
   ]
  },
  {
   "cell_type": "markdown",
   "metadata": {},
   "source": [
    "Сформируем список интересующих нас категориальных признаков и посмотрим на их уникальные значения."
   ]
  },
  {
   "cell_type": "code",
   "execution_count": 13,
   "metadata": {},
   "outputs": [],
   "source": [
    "cat_features = ['vehicle_type', 'gearbox', 'model', 'fuel_type', 'brand']"
   ]
  },
  {
   "cell_type": "code",
   "execution_count": 14,
   "metadata": {},
   "outputs": [
    {
     "name": "stdout",
     "output_type": "stream",
     "text": [
      "vehicle_type ['NA' 'bus' 'convertible' 'coupe' 'other' 'sedan' 'small' 'suv' 'wagon']\n",
      "\n",
      "gearbox ['NA' 'auto' 'manual']\n",
      "\n",
      "model ['100' '145' '147' '156' '159' '1_reihe' '1er' '200' '2_reihe' '300c'\n",
      " '3_reihe' '3er' '4_reihe' '500' '5_reihe' '5er' '601' '6_reihe' '6er'\n",
      " '7er' '80' '850' '90' '900' '9000' '911' 'NA' 'a1' 'a2' 'a3' 'a4' 'a5'\n",
      " 'a6' 'a8' 'a_klasse' 'accord' 'agila' 'alhambra' 'almera' 'altea'\n",
      " 'amarok' 'antara' 'arosa' 'astra' 'auris' 'avensis' 'aveo' 'aygo'\n",
      " 'b_klasse' 'b_max' 'beetle' 'berlingo' 'bora' 'boxster' 'bravo' 'c1' 'c2'\n",
      " 'c3' 'c4' 'c5' 'c_klasse' 'c_max' 'c_reihe' 'caddy' 'calibra' 'captiva'\n",
      " 'carisma' 'carnival' 'cayenne' 'cc' 'ceed' 'charade' 'cherokee' 'citigo'\n",
      " 'civic' 'cl' 'clio' 'clk' 'clubman' 'colt' 'combo' 'cooper' 'cordoba'\n",
      " 'corolla' 'corsa' 'cr_reihe' 'croma' 'crossfire' 'cuore' 'cx_reihe'\n",
      " 'defender' 'delta' 'discovery' 'doblo' 'ducato' 'duster' 'e_klasse'\n",
      " 'elefantino' 'eos' 'escort' 'espace' 'exeo' 'fabia' 'fiesta' 'focus'\n",
      " 'forester' 'forfour' 'fortwo' 'fox' 'freelander' 'fusion' 'g_klasse'\n",
      " 'galant' 'galaxy' 'getz' 'gl' 'glk' 'golf' 'grand' 'i3' 'i_reihe' 'ibiza'\n",
      " 'impreza' 'insignia' 'jazz' 'jetta' 'jimny' 'juke' 'justy' 'ka' 'kadett'\n",
      " 'kaefer' 'kalina' 'kalos' 'kangoo' 'kappa' 'kuga' 'laguna' 'lancer'\n",
      " 'lanos' 'legacy' 'leon' 'lodgy' 'logan' 'lupo' 'lybra' 'm_klasse'\n",
      " 'm_reihe' 'materia' 'matiz' 'megane' 'meriva' 'micra' 'mii' 'modus'\n",
      " 'mondeo' 'move' 'musa' 'mustang' 'mx_reihe' 'navara' 'niva' 'note'\n",
      " 'nubira' 'octavia' 'omega' 'one' 'other' 'outlander' 'pajero' 'panda'\n",
      " 'passat' 'phaeton' 'picanto' 'polo' 'primera' 'ptcruiser' 'punto' 'q3'\n",
      " 'q5' 'q7' 'qashqai' 'r19' 'range_rover' 'range_rover_evoque'\n",
      " 'range_rover_sport' 'rangerover' 'rav' 'rio' 'roadster' 'roomster'\n",
      " 'rx_reihe' 's60' 's_klasse' 's_max' 's_type' 'samara' 'sandero' 'santa'\n",
      " 'scenic' 'scirocco' 'seicento' 'serie_1' 'serie_2' 'serie_3' 'sharan'\n",
      " 'signum' 'sirion' 'sl' 'slk' 'sorento' 'spark' 'spider' 'sportage'\n",
      " 'sprinter' 'stilo' 'superb' 'swift' 'terios' 'tigra' 'tiguan' 'toledo'\n",
      " 'touareg' 'touran' 'transit' 'transporter' 'tt' 'tucson' 'twingo' 'up'\n",
      " 'v40' 'v50' 'v60' 'v70' 'v_klasse' 'vectra' 'verso' 'viano' 'vito'\n",
      " 'vivaro' 'voyager' 'wrangler' 'x_reihe' 'x_trail' 'x_type' 'xc_reihe'\n",
      " 'yaris' 'yeti' 'ypsilon' 'z_reihe' 'zafira']\n",
      "\n",
      "fuel_type ['NA' 'cng' 'electric' 'gasoline' 'hybrid' 'lpg' 'other' 'petrol']\n",
      "\n",
      "brand ['alfa_romeo' 'audi' 'bmw' 'chevrolet' 'chrysler' 'citroen' 'dacia'\n",
      " 'daewoo' 'daihatsu' 'fiat' 'ford' 'honda' 'hyundai' 'jaguar' 'jeep' 'kia'\n",
      " 'lada' 'lancia' 'land_rover' 'mazda' 'mercedes_benz' 'mini' 'mitsubishi'\n",
      " 'nissan' 'opel' 'peugeot' 'porsche' 'renault' 'rover' 'saab' 'seat'\n",
      " 'skoda' 'smart' 'sonstige_autos' 'subaru' 'suzuki' 'toyota' 'trabant'\n",
      " 'volkswagen' 'volvo']\n",
      "\n"
     ]
    }
   ],
   "source": [
    "for col in cat_features:\n",
    "    print(col, df[col].sort_values().unique())\n",
    "    print()"
   ]
  },
  {
   "cell_type": "markdown",
   "metadata": {},
   "source": [
    "### Типы данных"
   ]
  },
  {
   "cell_type": "markdown",
   "metadata": {},
   "source": [
    "Переведем `date_created` и `last_seen` в формат даты."
   ]
  },
  {
   "cell_type": "code",
   "execution_count": 15,
   "metadata": {},
   "outputs": [
    {
     "data": {
      "text/plain": [
       "dtype('<M8[ns]')"
      ]
     },
     "execution_count": 15,
     "metadata": {},
     "output_type": "execute_result"
    }
   ],
   "source": [
    "df['date_created'] = pd.to_datetime(df['date_created'])\n",
    "df['date_created'].dtype"
   ]
  },
  {
   "cell_type": "code",
   "execution_count": 16,
   "metadata": {},
   "outputs": [
    {
     "data": {
      "text/plain": [
       "dtype('<M8[ns]')"
      ]
     },
     "execution_count": 16,
     "metadata": {},
     "output_type": "execute_result"
    }
   ],
   "source": [
    "df['last_seen'] = pd.to_datetime(df['last_seen'])\n",
    "df['last_seen'].dtype"
   ]
  },
  {
   "cell_type": "code",
   "execution_count": 17,
   "metadata": {},
   "outputs": [
    {
     "data": {
      "text/plain": [
       "dtype('<M8[ns]')"
      ]
     },
     "execution_count": 17,
     "metadata": {},
     "output_type": "execute_result"
    }
   ],
   "source": [
    "df['date_crawled'] = pd.to_datetime(df['date_crawled'])\n",
    "df['date_crawled'].dtype"
   ]
  },
  {
   "cell_type": "markdown",
   "metadata": {},
   "source": [
    "### **Создание оптимальных/дополнительных признаков**"
   ]
  },
  {
   "cell_type": "markdown",
   "metadata": {},
   "source": [
    "Эти признаки понадобятся для фильтрации исходного датафрейма и более эффективного обучения моделей."
   ]
  },
  {
   "cell_type": "markdown",
   "metadata": {},
   "source": [
    "#### ad_lifetime (время жизни объявления в днях)"
   ]
  },
  {
   "cell_type": "markdown",
   "metadata": {},
   "source": [
    "Будем считать, что после последней активности пользователя машина либо продана по заявленной цене, либо объявление снято с публикации."
   ]
  },
  {
   "cell_type": "code",
   "execution_count": 18,
   "metadata": {},
   "outputs": [
    {
     "data": {
      "text/plain": [
       "dtype('<m8[ns]')"
      ]
     },
     "execution_count": 18,
     "metadata": {},
     "output_type": "execute_result"
    }
   ],
   "source": [
    "df['ad_lifetime'] = df['last_seen'] - df['date_created']\n",
    "df['ad_lifetime'].dtype"
   ]
  },
  {
   "cell_type": "code",
   "execution_count": 19,
   "metadata": {},
   "outputs": [],
   "source": [
    "df['ad_lifetime']=df['ad_lifetime'].dt.days"
   ]
  },
  {
   "cell_type": "markdown",
   "metadata": {},
   "source": [
    "#### registration_year_month (Datetime)"
   ]
  },
  {
   "cell_type": "markdown",
   "metadata": {},
   "source": [
    "Сделаем признак `registration_year_month` - год и месяц регистрации."
   ]
  },
  {
   "cell_type": "code",
   "execution_count": 20,
   "metadata": {},
   "outputs": [
    {
     "data": {
      "text/plain": [
       "dtype('int64')"
      ]
     },
     "execution_count": 20,
     "metadata": {},
     "output_type": "execute_result"
    }
   ],
   "source": [
    "df['registration_month'].dtype"
   ]
  },
  {
   "cell_type": "code",
   "execution_count": 21,
   "metadata": {},
   "outputs": [
    {
     "data": {
      "text/plain": [
       "array([ 0,  5,  8,  6,  7, 10, 12, 11,  2,  3,  1,  4,  9])"
      ]
     },
     "execution_count": 21,
     "metadata": {},
     "output_type": "execute_result"
    }
   ],
   "source": [
    "df['registration_month'].unique()"
   ]
  },
  {
   "cell_type": "code",
   "execution_count": 22,
   "metadata": {},
   "outputs": [],
   "source": [
    "df.loc[(df['registration_month'] == 0), 'registration_month'] = 1"
   ]
  },
  {
   "cell_type": "code",
   "execution_count": 23,
   "metadata": {},
   "outputs": [
    {
     "data": {
      "text/plain": [
       "array([ 1,  5,  8,  6,  7, 10, 12, 11,  2,  3,  4,  9])"
      ]
     },
     "execution_count": 23,
     "metadata": {},
     "output_type": "execute_result"
    }
   ],
   "source": [
    "df['registration_month'].unique()"
   ]
  },
  {
   "cell_type": "code",
   "execution_count": 24,
   "metadata": {},
   "outputs": [
    {
     "data": {
      "text/plain": [
       "count    354365.000000\n",
       "mean       2004.234481\n",
       "std          90.228466\n",
       "min        1000.000000\n",
       "25%        1999.000000\n",
       "50%        2003.000000\n",
       "75%        2008.000000\n",
       "max        9999.000000\n",
       "Name: registration_year, dtype: float64"
      ]
     },
     "execution_count": 24,
     "metadata": {},
     "output_type": "execute_result"
    }
   ],
   "source": [
    "df['registration_year'].describe()"
   ]
  },
  {
   "cell_type": "code",
   "execution_count": 25,
   "metadata": {},
   "outputs": [],
   "source": [
    "df = df.drop(df.query('registration_year > 2023 or registration_year < 1900 ').index)"
   ]
  },
  {
   "cell_type": "code",
   "execution_count": 26,
   "metadata": {},
   "outputs": [
    {
     "data": {
      "text/plain": [
       "count                  354194\n",
       "unique                    845\n",
       "top       2000-01-01 00:00:00\n",
       "freq                     6588\n",
       "first     1910-01-01 00:00:00\n",
       "last      2019-12-01 00:00:00\n",
       "Name: registration_year_month, dtype: object"
      ]
     },
     "execution_count": 26,
     "metadata": {},
     "output_type": "execute_result"
    }
   ],
   "source": [
    "df['registration_year_month'] = pd.to_datetime(df['registration_year'].astype(str) + ' ' \n",
    "                                             + df['registration_month'].astype(str))\n",
    "df['registration_year_month'].describe()"
   ]
  },
  {
   "cell_type": "markdown",
   "metadata": {},
   "source": [
    "#### brand_model"
   ]
  },
  {
   "cell_type": "markdown",
   "metadata": {},
   "source": [
    "Объединим `brand` и `model` в признак `brand_model`, чтобы уменьшить количество взаимозависимых признаков."
   ]
  },
  {
   "cell_type": "code",
   "execution_count": 27,
   "metadata": {},
   "outputs": [
    {
     "data": {
      "text/plain": [
       "337"
      ]
     },
     "execution_count": 27,
     "metadata": {},
     "output_type": "execute_result"
    }
   ],
   "source": [
    "df['brand_model'] = (df['brand'] + '_' + df['model'])\n",
    "len(df['brand_model'].unique())"
   ]
  },
  {
   "cell_type": "markdown",
   "metadata": {},
   "source": [
    "#### fuel_type"
   ]
  },
  {
   "cell_type": "code",
   "execution_count": 28,
   "metadata": {},
   "outputs": [
    {
     "data": {
      "text/plain": [
       "array(['petrol', 'gasoline', 'NA', 'lpg', 'other', 'hybrid', 'cng',\n",
       "       'electric'], dtype=object)"
      ]
     },
     "execution_count": 28,
     "metadata": {},
     "output_type": "execute_result"
    }
   ],
   "source": [
    "df['fuel_type'].unique()"
   ]
  },
  {
   "cell_type": "markdown",
   "metadata": {},
   "source": [
    "'petrol' и 'gasoline' - синонимы, обозначим их одним термином 'petrol'."
   ]
  },
  {
   "cell_type": "code",
   "execution_count": 29,
   "metadata": {},
   "outputs": [],
   "source": [
    "df.loc[df['fuel_type']=='gasoline', 'fuel_type'] = 'petrol'"
   ]
  },
  {
   "cell_type": "code",
   "execution_count": 30,
   "metadata": {},
   "outputs": [
    {
     "data": {
      "text/plain": [
       "array(['petrol', 'NA', 'lpg', 'other', 'hybrid', 'cng', 'electric'],\n",
       "      dtype=object)"
      ]
     },
     "execution_count": 30,
     "metadata": {},
     "output_type": "execute_result"
    }
   ],
   "source": [
    "df['fuel_type'].unique()"
   ]
  },
  {
   "cell_type": "markdown",
   "metadata": {},
   "source": [
    "#### repaired"
   ]
  },
  {
   "cell_type": "markdown",
   "metadata": {},
   "source": [
    "Сделаем из `repaired` категориальный бинарный признак:"
   ]
  },
  {
   "cell_type": "code",
   "execution_count": 31,
   "metadata": {},
   "outputs": [],
   "source": [
    "df.loc[df['repaired']=='no',  'repaired'] = 0\n",
    "df.loc[df['repaired']=='yes', 'repaired'] = 1"
   ]
  },
  {
   "cell_type": "code",
   "execution_count": 32,
   "metadata": {},
   "outputs": [],
   "source": [
    "df['repaired'] = df['repaired'].astype('int')"
   ]
  },
  {
   "cell_type": "code",
   "execution_count": 33,
   "metadata": {
    "scrolled": true
   },
   "outputs": [
    {
     "data": {
      "text/plain": [
       "array([0, 1])"
      ]
     },
     "execution_count": 33,
     "metadata": {},
     "output_type": "execute_result"
    }
   ],
   "source": [
    "df['repaired'].unique()"
   ]
  },
  {
   "cell_type": "markdown",
   "metadata": {},
   "source": [
    "### **Аномальные значения**"
   ]
  },
  {
   "cell_type": "markdown",
   "metadata": {},
   "source": [
    "#### date_created"
   ]
  },
  {
   "cell_type": "markdown",
   "metadata": {},
   "source": [
    "Дата создания анкеты должна быть позже даты регистрации автомобиля."
   ]
  },
  {
   "cell_type": "code",
   "execution_count": 34,
   "metadata": {
    "scrolled": true
   },
   "outputs": [
    {
     "name": "stdout",
     "output_type": "stream",
     "text": [
      "61207   2014-03-10\n",
      "Name: date_created, dtype: datetime64[ns]\n",
      "212527   2016-04-07\n",
      "Name: date_created, dtype: datetime64[ns]\n"
     ]
    }
   ],
   "source": [
    "print(df['date_created'].sort_values().head(1))\n",
    "print(df['date_created'].sort_values(ascending=False).head(1))"
   ]
  },
  {
   "cell_type": "code",
   "execution_count": 35,
   "metadata": {},
   "outputs": [
    {
     "name": "stdout",
     "output_type": "stream",
     "text": [
      "19655 аномальных объявлений. Удаляем их из датафрейма.\n"
     ]
    }
   ],
   "source": [
    "print(df.query('date_created <  registration_year_month').shape[0], \"аномальных объявлений. Удаляем их из датафрейма.\")"
   ]
  },
  {
   "cell_type": "code",
   "execution_count": 36,
   "metadata": {},
   "outputs": [],
   "source": [
    "df = df.drop(df.query('date_created <  registration_year_month').index)"
   ]
  },
  {
   "cell_type": "markdown",
   "metadata": {},
   "source": [
    "#### date_crawled"
   ]
  },
  {
   "cell_type": "markdown",
   "metadata": {},
   "source": [
    "Дата скачивания анкеты должна быть позже даты регистрации автомобиля."
   ]
  },
  {
   "cell_type": "code",
   "execution_count": 37,
   "metadata": {},
   "outputs": [
    {
     "name": "stdout",
     "output_type": "stream",
     "text": [
      "329497   2016-03-05 14:06:22\n",
      "Name: date_crawled, dtype: datetime64[ns]\n",
      "90713   2016-04-07 14:36:58\n",
      "Name: date_crawled, dtype: datetime64[ns]\n"
     ]
    }
   ],
   "source": [
    "print(df['date_crawled'].sort_values().head(1))\n",
    "print(df['date_crawled'].sort_values(ascending=False).head(1))"
   ]
  },
  {
   "cell_type": "code",
   "execution_count": 38,
   "metadata": {
    "scrolled": true
   },
   "outputs": [
    {
     "name": "stdout",
     "output_type": "stream",
     "text": [
      "0 аномальных объявлений.\n"
     ]
    }
   ],
   "source": [
    "print(df.query('date_crawled <  registration_year_month').shape[0], \"аномальных объявлений.\")"
   ]
  },
  {
   "cell_type": "markdown",
   "metadata": {},
   "source": [
    "#### ad_lifetime"
   ]
  },
  {
   "cell_type": "markdown",
   "metadata": {},
   "source": [
    "Отфильтруем только те объявления, срок жизни которых находится в приемлемом временном интервале."
   ]
  },
  {
   "cell_type": "code",
   "execution_count": 39,
   "metadata": {},
   "outputs": [],
   "source": [
    "# функция для построения гистограмм\n",
    "\n",
    "def hist_plot(title, column, bins=50, log=True, range=None):\n",
    "    plt.figure(figsize = (15,5))\n",
    "    df[column].hist(bins=bins, log=log, range=range)\n",
    "    plt.title(title)\n",
    "    plt.xlabel(column)\n",
    "    plt.ylabel('count')\n",
    "    plt.show()"
   ]
  },
  {
   "cell_type": "code",
   "execution_count": 40,
   "metadata": {},
   "outputs": [
    {
     "data": {
      "image/png": "[encoded data removed]",
      "text/plain": [
       "<Figure size 1500x500 with 1 Axes>"
      ]
     },
     "metadata": {},
     "output_type": "display_data"
    }
   ],
   "source": [
    "hist_plot('Время жизни объявления, дни', 'ad_lifetime')"
   ]
  },
  {
   "cell_type": "code",
   "execution_count": 41,
   "metadata": {},
   "outputs": [
    {
     "data": {
      "image/png": "[encoded data removed]",
      "text/plain": [
       "<Figure size 1500x500 with 1 Axes>"
      ]
     },
     "metadata": {},
     "output_type": "display_data"
    }
   ],
   "source": [
    "hist_plot('Время жизни объявления, дни (0-40)', 'ad_lifetime', range=(0, 40), bins=40)"
   ]
  },
  {
   "cell_type": "markdown",
   "metadata": {},
   "source": [
    "Будем считать срок в 35 дней примлемым для продажи по адекватной цене, остальные объявления уберем из датафрейма."
   ]
  },
  {
   "cell_type": "code",
   "execution_count": 42,
   "metadata": {},
   "outputs": [],
   "source": [
    "df = df.drop(df.query('ad_lifetime > 35').index)"
   ]
  },
  {
   "cell_type": "markdown",
   "metadata": {},
   "source": [
    "#### price"
   ]
  },
  {
   "cell_type": "code",
   "execution_count": 43,
   "metadata": {},
   "outputs": [
    {
     "data": {
      "image/png": "[encoded data removed]",
      "text/plain": [
       "<Figure size 1500x500 with 1 Axes>"
      ]
     },
     "metadata": {},
     "output_type": "display_data"
    }
   ],
   "source": [
    "hist_plot('Цена', 'price')"
   ]
  },
  {
   "cell_type": "code",
   "execution_count": 44,
   "metadata": {},
   "outputs": [
    {
     "data": {
      "image/png": "[encoded data removed]",
      "text/plain": [
       "<Figure size 1500x500 with 1 Axes>"
      ]
     },
     "metadata": {},
     "output_type": "display_data"
    }
   ],
   "source": [
    "hist_plot('Цена', 'price', range=(0,50), bins=50)"
   ]
  },
  {
   "cell_type": "code",
   "execution_count": 45,
   "metadata": {},
   "outputs": [
    {
     "data": {
      "text/plain": [
       "0    9740\n",
       "1    1088\n",
       "2      11\n",
       "3       7\n",
       "4       1\n",
       "Name: price, dtype: int64"
      ]
     },
     "execution_count": 45,
     "metadata": {},
     "output_type": "execute_result"
    }
   ],
   "source": [
    "df['price'].value_counts().sort_index().head()"
   ]
  },
  {
   "cell_type": "markdown",
   "metadata": {},
   "source": [
    "Есть машины со стоимостью 0 и 1 евро. Уберем их из датафрейма. Остальные низкие цены тоже аномально низкие, но таких объявлений меньше."
   ]
  },
  {
   "cell_type": "code",
   "execution_count": 46,
   "metadata": {},
   "outputs": [],
   "source": [
    "df = df.drop(df.query('price <= 1').index)"
   ]
  },
  {
   "cell_type": "markdown",
   "metadata": {},
   "source": [
    "#### registration_year"
   ]
  },
  {
   "cell_type": "code",
   "execution_count": 47,
   "metadata": {},
   "outputs": [
    {
     "data": {
      "image/png": "[encoded data removed]",
      "text/plain": [
       "<Figure size 1500x500 with 1 Axes>"
      ]
     },
     "metadata": {},
     "output_type": "display_data"
    }
   ],
   "source": [
    "hist_plot('год регистрации автомобиля (*)', 'registration_year')"
   ]
  },
  {
   "cell_type": "code",
   "execution_count": 48,
   "metadata": {},
   "outputs": [
    {
     "data": {
      "text/plain": [
       "45"
      ]
     },
     "execution_count": 48,
     "metadata": {},
     "output_type": "execute_result"
    }
   ],
   "source": [
    "df.query('registration_year < 1913 ').shape[0]"
   ]
  },
  {
   "cell_type": "code",
   "execution_count": 49,
   "metadata": {},
   "outputs": [],
   "source": [
    "df = df.drop(df.query('registration_year < 1913 ').index)"
   ]
  },
  {
   "cell_type": "code",
   "execution_count": 50,
   "metadata": {},
   "outputs": [
    {
     "data": {
      "text/html": [
       "<div>\n",
       "<style scoped>\n",
       "    .dataframe tbody tr th:only-of-type {\n",
       "        vertical-align: middle;\n",
       "    }\n",
       "\n",
       "    .dataframe tbody tr th {\n",
       "        vertical-align: top;\n",
       "    }\n",
       "\n",
       "    .dataframe thead th {\n",
       "        text-align: right;\n",
       "    }\n",
       "</style>\n",
       "<table border=\"1\" class=\"dataframe\">\n",
       "  <thead>\n",
       "    <tr style=\"text-align: right;\">\n",
       "      <th></th>\n",
       "      <th>registration_year</th>\n",
       "      <th>date_created</th>\n",
       "      <th>date_crawled</th>\n",
       "    </tr>\n",
       "  </thead>\n",
       "  <tbody>\n",
       "    <tr>\n",
       "      <th>count</th>\n",
       "      <td>323335.000000</td>\n",
       "      <td>323335</td>\n",
       "      <td>323335</td>\n",
       "    </tr>\n",
       "    <tr>\n",
       "      <th>unique</th>\n",
       "      <td>NaN</td>\n",
       "      <td>59</td>\n",
       "      <td>253364</td>\n",
       "    </tr>\n",
       "    <tr>\n",
       "      <th>top</th>\n",
       "      <td>NaN</td>\n",
       "      <td>2016-04-03 00:00:00</td>\n",
       "      <td>2016-03-24 14:49:47</td>\n",
       "    </tr>\n",
       "    <tr>\n",
       "      <th>freq</th>\n",
       "      <td>NaN</td>\n",
       "      <td>12624</td>\n",
       "      <td>7</td>\n",
       "    </tr>\n",
       "    <tr>\n",
       "      <th>first</th>\n",
       "      <td>NaN</td>\n",
       "      <td>2016-02-01 00:00:00</td>\n",
       "      <td>2016-03-05 14:06:22</td>\n",
       "    </tr>\n",
       "    <tr>\n",
       "      <th>last</th>\n",
       "      <td>NaN</td>\n",
       "      <td>2016-04-07 00:00:00</td>\n",
       "      <td>2016-04-07 14:36:58</td>\n",
       "    </tr>\n",
       "    <tr>\n",
       "      <th>mean</th>\n",
       "      <td>2002.416082</td>\n",
       "      <td>NaN</td>\n",
       "      <td>NaN</td>\n",
       "    </tr>\n",
       "    <tr>\n",
       "      <th>std</th>\n",
       "      <td>6.654025</td>\n",
       "      <td>NaN</td>\n",
       "      <td>NaN</td>\n",
       "    </tr>\n",
       "    <tr>\n",
       "      <th>min</th>\n",
       "      <td>1923.000000</td>\n",
       "      <td>NaN</td>\n",
       "      <td>NaN</td>\n",
       "    </tr>\n",
       "    <tr>\n",
       "      <th>25%</th>\n",
       "      <td>1999.000000</td>\n",
       "      <td>NaN</td>\n",
       "      <td>NaN</td>\n",
       "    </tr>\n",
       "    <tr>\n",
       "      <th>50%</th>\n",
       "      <td>2003.000000</td>\n",
       "      <td>NaN</td>\n",
       "      <td>NaN</td>\n",
       "    </tr>\n",
       "    <tr>\n",
       "      <th>75%</th>\n",
       "      <td>2007.000000</td>\n",
       "      <td>NaN</td>\n",
       "      <td>NaN</td>\n",
       "    </tr>\n",
       "    <tr>\n",
       "      <th>max</th>\n",
       "      <td>2016.000000</td>\n",
       "      <td>NaN</td>\n",
       "      <td>NaN</td>\n",
       "    </tr>\n",
       "  </tbody>\n",
       "</table>\n",
       "</div>"
      ],
      "text/plain": [
       "        registration_year         date_created         date_crawled\n",
       "count       323335.000000               323335               323335\n",
       "unique                NaN                   59               253364\n",
       "top                   NaN  2016-04-03 00:00:00  2016-03-24 14:49:47\n",
       "freq                  NaN                12624                    7\n",
       "first                 NaN  2016-02-01 00:00:00  2016-03-05 14:06:22\n",
       "last                  NaN  2016-04-07 00:00:00  2016-04-07 14:36:58\n",
       "mean          2002.416082                  NaN                  NaN\n",
       "std              6.654025                  NaN                  NaN\n",
       "min           1923.000000                  NaN                  NaN\n",
       "25%           1999.000000                  NaN                  NaN\n",
       "50%           2003.000000                  NaN                  NaN\n",
       "75%           2007.000000                  NaN                  NaN\n",
       "max           2016.000000                  NaN                  NaN"
      ]
     },
     "execution_count": 50,
     "metadata": {},
     "output_type": "execute_result"
    }
   ],
   "source": [
    "df[['registration_year', 'date_created', 'date_crawled']].describe(include='all')"
   ]
  },
  {
   "cell_type": "code",
   "execution_count": 51,
   "metadata": {},
   "outputs": [
    {
     "data": {
      "image/png": "[encoded data removed]",
      "text/plain": [
       "<Figure size 1500x500 with 1 Axes>"
      ]
     },
     "metadata": {},
     "output_type": "display_data"
    }
   ],
   "source": [
    "hist_plot('год регистрации автомобиля (отфильтрованные данные)', 'registration_year')"
   ]
  },
  {
   "cell_type": "markdown",
   "metadata": {},
   "source": [
    "#### kilometer"
   ]
  },
  {
   "cell_type": "code",
   "execution_count": 52,
   "metadata": {},
   "outputs": [
    {
     "data": {
      "text/plain": [
       "array([  5000,  10000,  20000,  30000,  40000,  50000,  60000,  70000,\n",
       "        80000,  90000, 100000, 125000, 150000])"
      ]
     },
     "execution_count": 52,
     "metadata": {},
     "output_type": "execute_result"
    }
   ],
   "source": [
    "df['kilometer'].sort_values().unique()"
   ]
  },
  {
   "cell_type": "markdown",
   "metadata": {},
   "source": [
    "Аномальных значений нет."
   ]
  },
  {
   "cell_type": "markdown",
   "metadata": {},
   "source": [
    "#### power"
   ]
  },
  {
   "cell_type": "code",
   "execution_count": 53,
   "metadata": {},
   "outputs": [
    {
     "data": {
      "image/png": "[encoded data removed]",
      "text/plain": [
       "<Figure size 1500x500 with 1 Axes>"
      ]
     },
     "metadata": {},
     "output_type": "display_data"
    }
   ],
   "source": [
    "hist_plot('мощность, л. с. (*)', 'power', bins=200)"
   ]
  },
  {
   "cell_type": "code",
   "execution_count": 54,
   "metadata": {},
   "outputs": [
    {
     "data": {
      "image/png": "[encoded data removed]",
      "text/plain": [
       "<Figure size 1500x500 with 1 Axes>"
      ]
     },
     "metadata": {},
     "output_type": "display_data"
    }
   ],
   "source": [
    "hist_plot('мощность, л. с. (0 - 100)', 'power', range=(0,100), bins=100)"
   ]
  },
  {
   "cell_type": "code",
   "execution_count": 55,
   "metadata": {
    "scrolled": true
   },
   "outputs": [
    {
     "data": {
      "text/plain": [
       "0    31143\n",
       "1       23\n",
       "2        8\n",
       "3        8\n",
       "4       30\n",
       "Name: power, dtype: int64"
      ]
     },
     "execution_count": 55,
     "metadata": {},
     "output_type": "execute_result"
    }
   ],
   "source": [
    "df['power'].value_counts().sort_index().head()"
   ]
  },
  {
   "cell_type": "markdown",
   "metadata": {},
   "source": [
    "Есть машины с нулевой мощностью. Заменим эти значения медианными значениями по модели авто."
   ]
  },
  {
   "cell_type": "code",
   "execution_count": 56,
   "metadata": {},
   "outputs": [
    {
     "name": "stdout",
     "output_type": "stream",
     "text": [
      "CPU times: user 319 ms, sys: 0 ns, total: 319 ms\n",
      "Wall time: 320 ms\n"
     ]
    }
   ],
   "source": [
    "%%time\n",
    "\n",
    "df['power'] = df.groupby('model')['power'].apply(lambda x: x.mask(x.eq(0)).fillna(x.median()))"
   ]
  },
  {
   "cell_type": "code",
   "execution_count": 57,
   "metadata": {},
   "outputs": [
    {
     "data": {
      "image/png": "[encoded data removed]",
      "text/plain": [
       "<Figure size 1500x500 with 1 Axes>"
      ]
     },
     "metadata": {},
     "output_type": "display_data"
    }
   ],
   "source": [
    "hist_plot('мощность, л. с. (0 - 100)', 'power', range=(0,100), bins=100)"
   ]
  },
  {
   "cell_type": "code",
   "execution_count": 58,
   "metadata": {},
   "outputs": [
    {
     "data": {
      "image/png": "[encoded data removed]",
      "text/plain": [
       "<Figure size 1500x500 with 1 Axes>"
      ]
     },
     "metadata": {},
     "output_type": "display_data"
    }
   ],
   "source": [
    "hist_plot('мощность, л. с. (0 - 2500)', 'power', range=(0,2500), bins=100)"
   ]
  },
  {
   "cell_type": "markdown",
   "metadata": {},
   "source": [
    "Уберем из датафрейма записи с мощностью авто более 750 л.с., т.к. как такие значения маловероятны для большинства автомобилей."
   ]
  },
  {
   "cell_type": "code",
   "execution_count": 59,
   "metadata": {},
   "outputs": [],
   "source": [
    "df = df.drop(df.query('power > 750').index)"
   ]
  },
  {
   "cell_type": "code",
   "execution_count": 60,
   "metadata": {},
   "outputs": [
    {
     "data": {
      "image/png": "[encoded data removed]",
      "text/plain": [
       "<Figure size 1500x500 with 1 Axes>"
      ]
     },
     "metadata": {},
     "output_type": "display_data"
    }
   ],
   "source": [
    "hist_plot('мощность, л. с. (отфильтрованные/обработанные данные)', 'power', bins=100)"
   ]
  },
  {
   "cell_type": "markdown",
   "metadata": {},
   "source": [
    "Итоговые статистики признаков в обработанном датафрейме:"
   ]
  },
  {
   "cell_type": "code",
   "execution_count": 61,
   "metadata": {},
   "outputs": [
    {
     "data": {
      "text/html": [
       "<div>\n",
       "<style scoped>\n",
       "    .dataframe tbody tr th:only-of-type {\n",
       "        vertical-align: middle;\n",
       "    }\n",
       "\n",
       "    .dataframe tbody tr th {\n",
       "        vertical-align: top;\n",
       "    }\n",
       "\n",
       "    .dataframe thead th {\n",
       "        text-align: right;\n",
       "    }\n",
       "</style>\n",
       "<table border=\"1\" class=\"dataframe\">\n",
       "  <thead>\n",
       "    <tr style=\"text-align: right;\">\n",
       "      <th></th>\n",
       "      <th>count</th>\n",
       "      <th>unique</th>\n",
       "      <th>top</th>\n",
       "      <th>freq</th>\n",
       "      <th>first</th>\n",
       "      <th>last</th>\n",
       "      <th>mean</th>\n",
       "      <th>std</th>\n",
       "      <th>min</th>\n",
       "      <th>25%</th>\n",
       "      <th>50%</th>\n",
       "      <th>75%</th>\n",
       "      <th>max</th>\n",
       "    </tr>\n",
       "  </thead>\n",
       "  <tbody>\n",
       "    <tr>\n",
       "      <th>date_crawled</th>\n",
       "      <td>323049</td>\n",
       "      <td>253199</td>\n",
       "      <td>2016-03-24 14:49:47</td>\n",
       "      <td>7</td>\n",
       "      <td>2016-03-05 14:06:22</td>\n",
       "      <td>2016-04-07 14:36:58</td>\n",
       "      <td>NaN</td>\n",
       "      <td>NaN</td>\n",
       "      <td>NaN</td>\n",
       "      <td>NaN</td>\n",
       "      <td>NaN</td>\n",
       "      <td>NaN</td>\n",
       "      <td>NaN</td>\n",
       "    </tr>\n",
       "    <tr>\n",
       "      <th>price</th>\n",
       "      <td>323049.0</td>\n",
       "      <td>NaN</td>\n",
       "      <td>NaN</td>\n",
       "      <td>NaN</td>\n",
       "      <td>NaT</td>\n",
       "      <td>NaT</td>\n",
       "      <td>4654.863479</td>\n",
       "      <td>4557.06759</td>\n",
       "      <td>2.0</td>\n",
       "      <td>1200.0</td>\n",
       "      <td>2980.0</td>\n",
       "      <td>6750.0</td>\n",
       "      <td>20000.0</td>\n",
       "    </tr>\n",
       "    <tr>\n",
       "      <th>vehicle_type</th>\n",
       "      <td>323049</td>\n",
       "      <td>9</td>\n",
       "      <td>sedan</td>\n",
       "      <td>89042</td>\n",
       "      <td>NaT</td>\n",
       "      <td>NaT</td>\n",
       "      <td>NaN</td>\n",
       "      <td>NaN</td>\n",
       "      <td>NaN</td>\n",
       "      <td>NaN</td>\n",
       "      <td>NaN</td>\n",
       "      <td>NaN</td>\n",
       "      <td>NaN</td>\n",
       "    </tr>\n",
       "    <tr>\n",
       "      <th>registration_year</th>\n",
       "      <td>323049.0</td>\n",
       "      <td>NaN</td>\n",
       "      <td>NaN</td>\n",
       "      <td>NaN</td>\n",
       "      <td>NaT</td>\n",
       "      <td>NaT</td>\n",
       "      <td>2002.417361</td>\n",
       "      <td>6.653119</td>\n",
       "      <td>1923.0</td>\n",
       "      <td>1999.0</td>\n",
       "      <td>2003.0</td>\n",
       "      <td>2007.0</td>\n",
       "      <td>2016.0</td>\n",
       "    </tr>\n",
       "    <tr>\n",
       "      <th>gearbox</th>\n",
       "      <td>323049</td>\n",
       "      <td>3</td>\n",
       "      <td>manual</td>\n",
       "      <td>246164</td>\n",
       "      <td>NaT</td>\n",
       "      <td>NaT</td>\n",
       "      <td>NaN</td>\n",
       "      <td>NaN</td>\n",
       "      <td>NaN</td>\n",
       "      <td>NaN</td>\n",
       "      <td>NaN</td>\n",
       "      <td>NaN</td>\n",
       "      <td>NaN</td>\n",
       "    </tr>\n",
       "    <tr>\n",
       "      <th>power</th>\n",
       "      <td>323049.0</td>\n",
       "      <td>NaN</td>\n",
       "      <td>NaN</td>\n",
       "      <td>NaN</td>\n",
       "      <td>NaT</td>\n",
       "      <td>NaT</td>\n",
       "      <td>119.045896</td>\n",
       "      <td>53.182604</td>\n",
       "      <td>0.0</td>\n",
       "      <td>75.0</td>\n",
       "      <td>110.0</td>\n",
       "      <td>145.0</td>\n",
       "      <td>750.0</td>\n",
       "    </tr>\n",
       "    <tr>\n",
       "      <th>model</th>\n",
       "      <td>323049</td>\n",
       "      <td>251</td>\n",
       "      <td>golf</td>\n",
       "      <td>26070</td>\n",
       "      <td>NaT</td>\n",
       "      <td>NaT</td>\n",
       "      <td>NaN</td>\n",
       "      <td>NaN</td>\n",
       "      <td>NaN</td>\n",
       "      <td>NaN</td>\n",
       "      <td>NaN</td>\n",
       "      <td>NaN</td>\n",
       "      <td>NaN</td>\n",
       "    </tr>\n",
       "    <tr>\n",
       "      <th>kilometer</th>\n",
       "      <td>323049.0</td>\n",
       "      <td>NaN</td>\n",
       "      <td>NaN</td>\n",
       "      <td>NaN</td>\n",
       "      <td>NaT</td>\n",
       "      <td>NaT</td>\n",
       "      <td>128167.86308</td>\n",
       "      <td>37460.858993</td>\n",
       "      <td>5000.0</td>\n",
       "      <td>125000.0</td>\n",
       "      <td>150000.0</td>\n",
       "      <td>150000.0</td>\n",
       "      <td>150000.0</td>\n",
       "    </tr>\n",
       "    <tr>\n",
       "      <th>registration_month</th>\n",
       "      <td>323049.0</td>\n",
       "      <td>NaN</td>\n",
       "      <td>NaN</td>\n",
       "      <td>NaN</td>\n",
       "      <td>NaT</td>\n",
       "      <td>NaT</td>\n",
       "      <td>5.888571</td>\n",
       "      <td>3.550408</td>\n",
       "      <td>1.0</td>\n",
       "      <td>3.0</td>\n",
       "      <td>6.0</td>\n",
       "      <td>9.0</td>\n",
       "      <td>12.0</td>\n",
       "    </tr>\n",
       "    <tr>\n",
       "      <th>fuel_type</th>\n",
       "      <td>323049</td>\n",
       "      <td>7</td>\n",
       "      <td>petrol</td>\n",
       "      <td>295424</td>\n",
       "      <td>NaT</td>\n",
       "      <td>NaT</td>\n",
       "      <td>NaN</td>\n",
       "      <td>NaN</td>\n",
       "      <td>NaN</td>\n",
       "      <td>NaN</td>\n",
       "      <td>NaN</td>\n",
       "      <td>NaN</td>\n",
       "      <td>NaN</td>\n",
       "    </tr>\n",
       "    <tr>\n",
       "      <th>brand</th>\n",
       "      <td>323049</td>\n",
       "      <td>40</td>\n",
       "      <td>volkswagen</td>\n",
       "      <td>69218</td>\n",
       "      <td>NaT</td>\n",
       "      <td>NaT</td>\n",
       "      <td>NaN</td>\n",
       "      <td>NaN</td>\n",
       "      <td>NaN</td>\n",
       "      <td>NaN</td>\n",
       "      <td>NaN</td>\n",
       "      <td>NaN</td>\n",
       "      <td>NaN</td>\n",
       "    </tr>\n",
       "    <tr>\n",
       "      <th>repaired</th>\n",
       "      <td>323049.0</td>\n",
       "      <td>NaN</td>\n",
       "      <td>NaN</td>\n",
       "      <td>NaN</td>\n",
       "      <td>NaT</td>\n",
       "      <td>NaT</td>\n",
       "      <td>0.099353</td>\n",
       "      <td>0.299136</td>\n",
       "      <td>0.0</td>\n",
       "      <td>0.0</td>\n",
       "      <td>0.0</td>\n",
       "      <td>0.0</td>\n",
       "      <td>1.0</td>\n",
       "    </tr>\n",
       "    <tr>\n",
       "      <th>date_created</th>\n",
       "      <td>323049</td>\n",
       "      <td>59</td>\n",
       "      <td>2016-04-03 00:00:00</td>\n",
       "      <td>12613</td>\n",
       "      <td>2016-02-01 00:00:00</td>\n",
       "      <td>2016-04-07 00:00:00</td>\n",
       "      <td>NaN</td>\n",
       "      <td>NaN</td>\n",
       "      <td>NaN</td>\n",
       "      <td>NaN</td>\n",
       "      <td>NaN</td>\n",
       "      <td>NaN</td>\n",
       "      <td>NaN</td>\n",
       "    </tr>\n",
       "    <tr>\n",
       "      <th>number_of_pictures</th>\n",
       "      <td>323049.0</td>\n",
       "      <td>NaN</td>\n",
       "      <td>NaN</td>\n",
       "      <td>NaN</td>\n",
       "      <td>NaT</td>\n",
       "      <td>NaT</td>\n",
       "      <td>0.0</td>\n",
       "      <td>0.0</td>\n",
       "      <td>0.0</td>\n",
       "      <td>0.0</td>\n",
       "      <td>0.0</td>\n",
       "      <td>0.0</td>\n",
       "      <td>0.0</td>\n",
       "    </tr>\n",
       "    <tr>\n",
       "      <th>postal_code</th>\n",
       "      <td>323049.0</td>\n",
       "      <td>NaN</td>\n",
       "      <td>NaN</td>\n",
       "      <td>NaN</td>\n",
       "      <td>NaT</td>\n",
       "      <td>NaT</td>\n",
       "      <td>50840.714384</td>\n",
       "      <td>25767.911848</td>\n",
       "      <td>1067.0</td>\n",
       "      <td>30519.0</td>\n",
       "      <td>49685.0</td>\n",
       "      <td>71397.0</td>\n",
       "      <td>99998.0</td>\n",
       "    </tr>\n",
       "    <tr>\n",
       "      <th>last_seen</th>\n",
       "      <td>323049</td>\n",
       "      <td>165846</td>\n",
       "      <td>2016-04-06 01:15:23</td>\n",
       "      <td>16</td>\n",
       "      <td>2016-03-05 14:15:08</td>\n",
       "      <td>2016-04-07 14:58:51</td>\n",
       "      <td>NaN</td>\n",
       "      <td>NaN</td>\n",
       "      <td>NaN</td>\n",
       "      <td>NaN</td>\n",
       "      <td>NaN</td>\n",
       "      <td>NaN</td>\n",
       "      <td>NaN</td>\n",
       "    </tr>\n",
       "    <tr>\n",
       "      <th>ad_lifetime</th>\n",
       "      <td>323049.0</td>\n",
       "      <td>NaN</td>\n",
       "      <td>NaN</td>\n",
       "      <td>NaN</td>\n",
       "      <td>NaT</td>\n",
       "      <td>NaT</td>\n",
       "      <td>8.75066</td>\n",
       "      <td>8.383333</td>\n",
       "      <td>0.0</td>\n",
       "      <td>2.0</td>\n",
       "      <td>6.0</td>\n",
       "      <td>14.0</td>\n",
       "      <td>35.0</td>\n",
       "    </tr>\n",
       "    <tr>\n",
       "      <th>registration_year_month</th>\n",
       "      <td>323049</td>\n",
       "      <td>787</td>\n",
       "      <td>2000-01-01 00:00:00</td>\n",
       "      <td>5578</td>\n",
       "      <td>1923-01-01 00:00:00</td>\n",
       "      <td>2016-04-01 00:00:00</td>\n",
       "      <td>NaN</td>\n",
       "      <td>NaN</td>\n",
       "      <td>NaN</td>\n",
       "      <td>NaN</td>\n",
       "      <td>NaN</td>\n",
       "      <td>NaN</td>\n",
       "      <td>NaN</td>\n",
       "    </tr>\n",
       "    <tr>\n",
       "      <th>brand_model</th>\n",
       "      <td>323049</td>\n",
       "      <td>337</td>\n",
       "      <td>volkswagen_golf</td>\n",
       "      <td>26070</td>\n",
       "      <td>NaT</td>\n",
       "      <td>NaT</td>\n",
       "      <td>NaN</td>\n",
       "      <td>NaN</td>\n",
       "      <td>NaN</td>\n",
       "      <td>NaN</td>\n",
       "      <td>NaN</td>\n",
       "      <td>NaN</td>\n",
       "      <td>NaN</td>\n",
       "    </tr>\n",
       "  </tbody>\n",
       "</table>\n",
       "</div>"
      ],
      "text/plain": [
       "                            count  unique                  top    freq  \\\n",
       "date_crawled               323049  253199  2016-03-24 14:49:47       7   \n",
       "price                    323049.0     NaN                  NaN     NaN   \n",
       "vehicle_type               323049       9                sedan   89042   \n",
       "registration_year        323049.0     NaN                  NaN     NaN   \n",
       "gearbox                    323049       3               manual  246164   \n",
       "power                    323049.0     NaN                  NaN     NaN   \n",
       "model                      323049     251                 golf   26070   \n",
       "kilometer                323049.0     NaN                  NaN     NaN   \n",
       "registration_month       323049.0     NaN                  NaN     NaN   \n",
       "fuel_type                  323049       7               petrol  295424   \n",
       "brand                      323049      40           volkswagen   69218   \n",
       "repaired                 323049.0     NaN                  NaN     NaN   \n",
       "date_created               323049      59  2016-04-03 00:00:00   12613   \n",
       "number_of_pictures       323049.0     NaN                  NaN     NaN   \n",
       "postal_code              323049.0     NaN                  NaN     NaN   \n",
       "last_seen                  323049  165846  2016-04-06 01:15:23      16   \n",
       "ad_lifetime              323049.0     NaN                  NaN     NaN   \n",
       "registration_year_month    323049     787  2000-01-01 00:00:00    5578   \n",
       "brand_model                323049     337      volkswagen_golf   26070   \n",
       "\n",
       "                                      first                last          mean  \\\n",
       "date_crawled            2016-03-05 14:06:22 2016-04-07 14:36:58           NaN   \n",
       "price                                   NaT                 NaT   4654.863479   \n",
       "vehicle_type                            NaT                 NaT           NaN   \n",
       "registration_year                       NaT                 NaT   2002.417361   \n",
       "gearbox                                 NaT                 NaT           NaN   \n",
       "power                                   NaT                 NaT    119.045896   \n",
       "model                                   NaT                 NaT           NaN   \n",
       "kilometer                               NaT                 NaT  128167.86308   \n",
       "registration_month                      NaT                 NaT      5.888571   \n",
       "fuel_type                               NaT                 NaT           NaN   \n",
       "brand                                   NaT                 NaT           NaN   \n",
       "repaired                                NaT                 NaT      0.099353   \n",
       "date_created            2016-02-01 00:00:00 2016-04-07 00:00:00           NaN   \n",
       "number_of_pictures                      NaT                 NaT           0.0   \n",
       "postal_code                             NaT                 NaT  50840.714384   \n",
       "last_seen               2016-03-05 14:15:08 2016-04-07 14:58:51           NaN   \n",
       "ad_lifetime                             NaT                 NaT       8.75066   \n",
       "registration_year_month 1923-01-01 00:00:00 2016-04-01 00:00:00           NaN   \n",
       "brand_model                             NaT                 NaT           NaN   \n",
       "\n",
       "                                  std     min       25%       50%       75%  \\\n",
       "date_crawled                      NaN     NaN       NaN       NaN       NaN   \n",
       "price                      4557.06759     2.0    1200.0    2980.0    6750.0   \n",
       "vehicle_type                      NaN     NaN       NaN       NaN       NaN   \n",
       "registration_year            6.653119  1923.0    1999.0    2003.0    2007.0   \n",
       "gearbox                           NaN     NaN       NaN       NaN       NaN   \n",
       "power                       53.182604     0.0      75.0     110.0     145.0   \n",
       "model                             NaN     NaN       NaN       NaN       NaN   \n",
       "kilometer                37460.858993  5000.0  125000.0  150000.0  150000.0   \n",
       "registration_month           3.550408     1.0       3.0       6.0       9.0   \n",
       "fuel_type                         NaN     NaN       NaN       NaN       NaN   \n",
       "brand                             NaN     NaN       NaN       NaN       NaN   \n",
       "repaired                     0.299136     0.0       0.0       0.0       0.0   \n",
       "date_created                      NaN     NaN       NaN       NaN       NaN   \n",
       "number_of_pictures                0.0     0.0       0.0       0.0       0.0   \n",
       "postal_code              25767.911848  1067.0   30519.0   49685.0   71397.0   \n",
       "last_seen                         NaN     NaN       NaN       NaN       NaN   \n",
       "ad_lifetime                  8.383333     0.0       2.0       6.0      14.0   \n",
       "registration_year_month           NaN     NaN       NaN       NaN       NaN   \n",
       "brand_model                       NaN     NaN       NaN       NaN       NaN   \n",
       "\n",
       "                              max  \n",
       "date_crawled                  NaN  \n",
       "price                     20000.0  \n",
       "vehicle_type                  NaN  \n",
       "registration_year          2016.0  \n",
       "gearbox                       NaN  \n",
       "power                       750.0  \n",
       "model                         NaN  \n",
       "kilometer                150000.0  \n",
       "registration_month           12.0  \n",
       "fuel_type                     NaN  \n",
       "brand                         NaN  \n",
       "repaired                      1.0  \n",
       "date_created                  NaN  \n",
       "number_of_pictures            0.0  \n",
       "postal_code               99998.0  \n",
       "last_seen                     NaN  \n",
       "ad_lifetime                  35.0  \n",
       "registration_year_month       NaN  \n",
       "brand_model                   NaN  "
      ]
     },
     "execution_count": 61,
     "metadata": {},
     "output_type": "execute_result"
    }
   ],
   "source": [
    "df.describe(include='all').T"
   ]
  },
  {
   "cell_type": "markdown",
   "metadata": {},
   "source": [
    "### Удаление ненужных признаков"
   ]
  },
  {
   "cell_type": "code",
   "execution_count": 62,
   "metadata": {},
   "outputs": [
    {
     "name": "stdout",
     "output_type": "stream",
     "text": [
      "<class 'pandas.core.frame.DataFrame'>\n",
      "Int64Index: 323049 entries, 0 to 354368\n",
      "Data columns (total 19 columns):\n",
      " #   Column                   Non-Null Count   Dtype         \n",
      "---  ------                   --------------   -----         \n",
      " 0   date_crawled             323049 non-null  datetime64[ns]\n",
      " 1   price                    323049 non-null  int64         \n",
      " 2   vehicle_type             323049 non-null  object        \n",
      " 3   registration_year        323049 non-null  int64         \n",
      " 4   gearbox                  323049 non-null  object        \n",
      " 5   power                    323049 non-null  float64       \n",
      " 6   model                    323049 non-null  object        \n",
      " 7   kilometer                323049 non-null  int64         \n",
      " 8   registration_month       323049 non-null  int64         \n",
      " 9   fuel_type                323049 non-null  object        \n",
      " 10  brand                    323049 non-null  object        \n",
      " 11  repaired                 323049 non-null  int64         \n",
      " 12  date_created             323049 non-null  datetime64[ns]\n",
      " 13  number_of_pictures       323049 non-null  int64         \n",
      " 14  postal_code              323049 non-null  int64         \n",
      " 15  last_seen                323049 non-null  datetime64[ns]\n",
      " 16  ad_lifetime              323049 non-null  int64         \n",
      " 17  registration_year_month  323049 non-null  datetime64[ns]\n",
      " 18  brand_model              323049 non-null  object        \n",
      "dtypes: datetime64[ns](4), float64(1), int64(8), object(6)\n",
      "memory usage: 49.3+ MB\n"
     ]
    }
   ],
   "source": [
    "df.info()"
   ]
  },
  {
   "cell_type": "markdown",
   "metadata": {},
   "source": [
    "Признаки, ненужные для обучения моделей:  \n",
    "`date_crawled`, `registration_month`, `date_created`, `number_of_pictures`, `postal_code`, `last_seen`, `brand`, `model`.\n",
    "\n",
    "Для дальнейшего использования не понадобятся вспомогательные признаки:  \n",
    "`ad_lifetime`, `registration_year_month`"
   ]
  },
  {
   "cell_type": "code",
   "execution_count": 63,
   "metadata": {},
   "outputs": [],
   "source": [
    "df = df.drop(['date_crawled', 'registration_month', 'date_created', \n",
    "'number_of_pictures', 'postal_code', 'last_seen', 'brand', 'model',\n",
    "'ad_lifetime', 'registration_year_month'], axis=1)"
   ]
  },
  {
   "cell_type": "code",
   "execution_count": 64,
   "metadata": {},
   "outputs": [
    {
     "name": "stdout",
     "output_type": "stream",
     "text": [
      "<class 'pandas.core.frame.DataFrame'>\n",
      "Int64Index: 323049 entries, 0 to 354368\n",
      "Data columns (total 9 columns):\n",
      " #   Column             Non-Null Count   Dtype  \n",
      "---  ------             --------------   -----  \n",
      " 0   price              323049 non-null  int64  \n",
      " 1   vehicle_type       323049 non-null  object \n",
      " 2   registration_year  323049 non-null  int64  \n",
      " 3   gearbox            323049 non-null  object \n",
      " 4   power              323049 non-null  float64\n",
      " 5   kilometer          323049 non-null  int64  \n",
      " 6   fuel_type          323049 non-null  object \n",
      " 7   repaired           323049 non-null  int64  \n",
      " 8   brand_model        323049 non-null  object \n",
      "dtypes: float64(1), int64(4), object(4)\n",
      "memory usage: 24.6+ MB\n"
     ]
    }
   ],
   "source": [
    "df.info()"
   ]
  },
  {
   "cell_type": "markdown",
   "metadata": {},
   "source": [
    "### **Подготовка признаков**"
   ]
  },
  {
   "cell_type": "code",
   "execution_count": 65,
   "metadata": {},
   "outputs": [],
   "source": [
    "num_features = ['registration_year', 'power', 'kilometer']"
   ]
  },
  {
   "cell_type": "code",
   "execution_count": 66,
   "metadata": {
    "scrolled": true
   },
   "outputs": [
    {
     "data": {
      "text/plain": [
       "Index(['price', 'vehicle_type', 'registration_year', 'gearbox', 'power',\n",
       "       'kilometer', 'fuel_type', 'repaired', 'brand_model'],\n",
       "      dtype='object')"
      ]
     },
     "execution_count": 66,
     "metadata": {},
     "output_type": "execute_result"
    }
   ],
   "source": [
    "df.columns"
   ]
  },
  {
   "cell_type": "code",
   "execution_count": 67,
   "metadata": {},
   "outputs": [
    {
     "data": {
      "text/plain": [
       "['vehicle_type', 'gearbox', 'fuel_type']"
      ]
     },
     "execution_count": 67,
     "metadata": {},
     "output_type": "execute_result"
    }
   ],
   "source": [
    "cat_features.remove('model')\n",
    "cat_features.remove('brand')\n",
    "cat_features"
   ]
  },
  {
   "cell_type": "code",
   "execution_count": 68,
   "metadata": {},
   "outputs": [
    {
     "name": "stdout",
     "output_type": "stream",
     "text": [
      "['vehicle_type', 'gearbox', 'fuel_type']\n"
     ]
    },
    {
     "data": {
      "text/plain": [
       "['vehicle_type', 'gearbox', 'fuel_type']"
      ]
     },
     "execution_count": 68,
     "metadata": {},
     "output_type": "execute_result"
    }
   ],
   "source": [
    "# категориальные признаки для OHE Ridge\n",
    "ohe_features_ridge = cat_features.copy()\n",
    "print(ohe_features_ridge)\n",
    "\n",
    "# категориальные признаки для OHE RandomForestRegressor\n",
    "ohe_features_rf = cat_features.copy()\n",
    "ohe_features_rf"
   ]
  },
  {
   "cell_type": "markdown",
   "metadata": {},
   "source": [
    "Разобьем данные на обучающую и тестовую выборки в соотношении 3:1."
   ]
  },
  {
   "cell_type": "code",
   "execution_count": 69,
   "metadata": {},
   "outputs": [
    {
     "data": {
      "text/plain": [
       "Index(['registration_year', 'power', 'kilometer', 'vehicle_type', 'gearbox',\n",
       "       'fuel_type', 'repaired', 'brand_model'],\n",
       "      dtype='object')"
      ]
     },
     "execution_count": 69,
     "metadata": {},
     "output_type": "execute_result"
    }
   ],
   "source": [
    "features = df[num_features + cat_features + ['repaired', 'brand_model']]\n",
    "target = df['price']\n",
    "\n",
    "X_train, X_test, y_train, y_test = train_test_split(\n",
    "    features, target, test_size=0.25, random_state=RANDOM_STATE\n",
    ")\n",
    "\n",
    "features.columns"
   ]
  },
  {
   "cell_type": "code",
   "execution_count": 70,
   "metadata": {},
   "outputs": [
    {
     "name": "stdout",
     "output_type": "stream",
     "text": [
      "<class 'pandas.core.frame.DataFrame'>\n",
      "Int64Index: 242286 entries, 329250 to 139967\n",
      "Data columns (total 8 columns):\n",
      " #   Column             Non-Null Count   Dtype  \n",
      "---  ------             --------------   -----  \n",
      " 0   registration_year  242286 non-null  int64  \n",
      " 1   power              242286 non-null  float64\n",
      " 2   kilometer          242286 non-null  int64  \n",
      " 3   vehicle_type       242286 non-null  object \n",
      " 4   gearbox            242286 non-null  object \n",
      " 5   fuel_type          242286 non-null  object \n",
      " 6   repaired           242286 non-null  int64  \n",
      " 7   brand_model        242286 non-null  object \n",
      "dtypes: float64(1), int64(3), object(4)\n",
      "memory usage: 16.6+ MB\n"
     ]
    }
   ],
   "source": [
    "X_train.info()"
   ]
  },
  {
   "cell_type": "markdown",
   "metadata": {},
   "source": [
    "## **Обучение моделей**"
   ]
  },
  {
   "cell_type": "markdown",
   "metadata": {},
   "source": [
    "- Для обучения моделей воспользуемся трансформерами, которые будут проводить процедуры предобработки данных (OHE / порядковое кодирование, нормировка) в выборках.  \n",
    "- Валидация будет проводиться одновременно с обучением с использованием GridSearchCV.  \n",
    "- Весь процесс обучения и предобработки данных будет реализован в конвеерах, что позволит избежать утечки между обучающей и тестовой выборками."
   ]
  },
  {
   "cell_type": "markdown",
   "metadata": {},
   "source": [
    "### Ridge"
   ]
  },
  {
   "cell_type": "code",
   "execution_count": 71,
   "metadata": {},
   "outputs": [],
   "source": [
    "X_train_ridge = X_train.copy()\n",
    "X_test_ridge = X_test.copy()\n",
    "y_train_ridge = y_train.copy()"
   ]
  },
  {
   "cell_type": "code",
   "execution_count": 72,
   "metadata": {},
   "outputs": [],
   "source": [
    "# признак repaired уже бинарный, его не будем кодировать/масштабировать\n",
    "# добавляем remainder='passthrough, чтобы он не пропал\n",
    "\n",
    "col_transformer_ridge = make_column_transformer(\n",
    "    (\n",
    "        TargetEncoder(target_type='continuous', random_state=RANDOM_STATE),\n",
    "        ['brand_model']\n",
    "    ),\n",
    "    (\n",
    "        OneHotEncoder(drop='first', handle_unknown='ignore'),\n",
    "        ohe_features_ridge\n",
    "    ),\n",
    "    (\n",
    "        StandardScaler(),\n",
    "        num_features\n",
    "    ),\n",
    "    remainder='passthrough',\n",
    "    verbose_feature_names_out=False\n",
    ")"
   ]
  },
  {
   "cell_type": "code",
   "execution_count": 73,
   "metadata": {
    "scrolled": false
   },
   "outputs": [
    {
     "name": "stdout",
     "output_type": "stream",
     "text": [
      "Fitting 5 folds for each of 10 candidates, totalling 50 fits\n",
      "CPU times: user 8.83 s, sys: 867 ms, total: 9.7 s\n",
      "Wall time: 10.1 s\n"
     ]
    },
    {
     "data": {
      "text/html": [
       "<style>#sk-container-id-1 {color: black;}#sk-container-id-1 pre{padding: 0;}#sk-container-id-1 div.sk-toggleable {background-color: white;}#sk-container-id-1 label.sk-toggleable__label {cursor: pointer;display: block;width: 100%;margin-bottom: 0;padding: 0.3em;box-sizing: border-box;text-align: center;}#sk-container-id-1 label.sk-toggleable__label-arrow:before {content: \"▸\";float: left;margin-right: 0.25em;color: #696969;}#sk-container-id-1 label.sk-toggleable__label-arrow:hover:before {color: black;}#sk-container-id-1 div.sk-estimator:hover label.sk-toggleable__label-arrow:before {color: black;}#sk-container-id-1 div.sk-toggleable__content {max-height: 0;max-width: 0;overflow: hidden;text-align: left;background-color: #f0f8ff;}#sk-container-id-1 div.sk-toggleable__content pre {margin: 0.2em;color: black;border-radius: 0.25em;background-color: #f0f8ff;}#sk-container-id-1 input.sk-toggleable__control:checked~div.sk-toggleable__content {max-height: 200px;max-width: 100%;overflow: auto;}#sk-container-id-1 input.sk-toggleable__control:checked~label.sk-toggleable__label-arrow:before {content: \"▾\";}#sk-container-id-1 div.sk-estimator input.sk-toggleable__control:checked~label.sk-toggleable__label {background-color: #d4ebff;}#sk-container-id-1 div.sk-label input.sk-toggleable__control:checked~label.sk-toggleable__label {background-color: #d4ebff;}#sk-container-id-1 input.sk-hidden--visually {border: 0;clip: rect(1px 1px 1px 1px);clip: rect(1px, 1px, 1px, 1px);height: 1px;margin: -1px;overflow: hidden;padding: 0;position: absolute;width: 1px;}#sk-container-id-1 div.sk-estimator {font-family: monospace;background-color: #f0f8ff;border: 1px dotted black;border-radius: 0.25em;box-sizing: border-box;margin-bottom: 0.5em;}#sk-container-id-1 div.sk-estimator:hover {background-color: #d4ebff;}#sk-container-id-1 div.sk-parallel-item::after {content: \"\";width: 100%;border-bottom: 1px solid gray;flex-grow: 1;}#sk-container-id-1 div.sk-label:hover label.sk-toggleable__label {background-color: #d4ebff;}#sk-container-id-1 div.sk-serial::before {content: \"\";position: absolute;border-left: 1px solid gray;box-sizing: border-box;top: 0;bottom: 0;left: 50%;z-index: 0;}#sk-container-id-1 div.sk-serial {display: flex;flex-direction: column;align-items: center;background-color: white;padding-right: 0.2em;padding-left: 0.2em;position: relative;}#sk-container-id-1 div.sk-item {position: relative;z-index: 1;}#sk-container-id-1 div.sk-parallel {display: flex;align-items: stretch;justify-content: center;background-color: white;position: relative;}#sk-container-id-1 div.sk-item::before, #sk-container-id-1 div.sk-parallel-item::before {content: \"\";position: absolute;border-left: 1px solid gray;box-sizing: border-box;top: 0;bottom: 0;left: 50%;z-index: -1;}#sk-container-id-1 div.sk-parallel-item {display: flex;flex-direction: column;z-index: 1;position: relative;background-color: white;}#sk-container-id-1 div.sk-parallel-item:first-child::after {align-self: flex-end;width: 50%;}#sk-container-id-1 div.sk-parallel-item:last-child::after {align-self: flex-start;width: 50%;}#sk-container-id-1 div.sk-parallel-item:only-child::after {width: 0;}#sk-container-id-1 div.sk-dashed-wrapped {border: 1px dashed gray;margin: 0 0.4em 0.5em 0.4em;box-sizing: border-box;padding-bottom: 0.4em;background-color: white;}#sk-container-id-1 div.sk-label label {font-family: monospace;font-weight: bold;display: inline-block;line-height: 1.2em;}#sk-container-id-1 div.sk-label-container {text-align: center;}#sk-container-id-1 div.sk-container {/* jupyter's `normalize.less` sets `[hidden] { display: none; }` but bootstrap.min.css set `[hidden] { display: none !important; }` so we also need the `!important` here to be able to override the default hidden behavior on the sphinx rendered scikit-learn.org. See: https://github.com/scikit-learn/scikit-learn/issues/21755 */display: inline-block !important;position: relative;}#sk-container-id-1 div.sk-text-repr-fallback {display: none;}</style><div id=\"sk-container-id-1\" class=\"sk-top-container\"><div class=\"sk-text-repr-fallback\"><pre>GridSearchCV(cv=5,\n",
       "             estimator=Pipeline(steps=[(&#x27;columntransformer&#x27;,\n",
       "                                        ColumnTransformer(remainder=&#x27;passthrough&#x27;,\n",
       "                                                          transformers=[(&#x27;targetencoder&#x27;,\n",
       "                                                                         TargetEncoder(random_state=23,\n",
       "                                                                                       target_type=&#x27;continuous&#x27;),\n",
       "                                                                         [&#x27;brand_model&#x27;]),\n",
       "                                                                        (&#x27;onehotencoder&#x27;,\n",
       "                                                                         OneHotEncoder(drop=&#x27;first&#x27;,\n",
       "                                                                                       handle_unknown=&#x27;ignore&#x27;),\n",
       "                                                                         [&#x27;vehicle_type&#x27;,\n",
       "                                                                          &#x27;gearbox&#x27;,\n",
       "                                                                          &#x27;fuel_type&#x27;]),\n",
       "                                                                        (&#x27;standardscaler&#x27;,\n",
       "                                                                         StandardScaler(),\n",
       "                                                                         [&#x27;registration_year&#x27;,\n",
       "                                                                          &#x27;power&#x27;,\n",
       "                                                                          &#x27;kilometer&#x27;])],\n",
       "                                                          verbose_feature_names_out=False)),\n",
       "                                       (&#x27;ridge&#x27;, Ridge(random_state=23))]),\n",
       "             n_jobs=-1,\n",
       "             param_grid={&#x27;ridge__alpha&#x27;: [0.001, 0.01, 0.1, 0.5, 1.0],\n",
       "                         &#x27;ridge__solver&#x27;: [&#x27;auto&#x27;, &#x27;svd&#x27;]},\n",
       "             scoring=&#x27;neg_root_mean_squared_error&#x27;, verbose=1)</pre><b>In a Jupyter environment, please rerun this cell to show the HTML representation or trust the notebook. <br />On GitHub, the HTML representation is unable to render, please try loading this page with nbviewer.org.</b></div><div class=\"sk-container\" hidden><div class=\"sk-item sk-dashed-wrapped\"><div class=\"sk-label-container\"><div class=\"sk-label sk-toggleable\"><input class=\"sk-toggleable__control sk-hidden--visually\" id=\"sk-estimator-id-1\" type=\"checkbox\" ><label for=\"sk-estimator-id-1\" class=\"sk-toggleable__label sk-toggleable__label-arrow\">GridSearchCV</label><div class=\"sk-toggleable__content\"><pre>GridSearchCV(cv=5,\n",
       "             estimator=Pipeline(steps=[(&#x27;columntransformer&#x27;,\n",
       "                                        ColumnTransformer(remainder=&#x27;passthrough&#x27;,\n",
       "                                                          transformers=[(&#x27;targetencoder&#x27;,\n",
       "                                                                         TargetEncoder(random_state=23,\n",
       "                                                                                       target_type=&#x27;continuous&#x27;),\n",
       "                                                                         [&#x27;brand_model&#x27;]),\n",
       "                                                                        (&#x27;onehotencoder&#x27;,\n",
       "                                                                         OneHotEncoder(drop=&#x27;first&#x27;,\n",
       "                                                                                       handle_unknown=&#x27;ignore&#x27;),\n",
       "                                                                         [&#x27;vehicle_type&#x27;,\n",
       "                                                                          &#x27;gearbox&#x27;,\n",
       "                                                                          &#x27;fuel_type&#x27;]),\n",
       "                                                                        (&#x27;standardscaler&#x27;,\n",
       "                                                                         StandardScaler(),\n",
       "                                                                         [&#x27;registration_year&#x27;,\n",
       "                                                                          &#x27;power&#x27;,\n",
       "                                                                          &#x27;kilometer&#x27;])],\n",
       "                                                          verbose_feature_names_out=False)),\n",
       "                                       (&#x27;ridge&#x27;, Ridge(random_state=23))]),\n",
       "             n_jobs=-1,\n",
       "             param_grid={&#x27;ridge__alpha&#x27;: [0.001, 0.01, 0.1, 0.5, 1.0],\n",
       "                         &#x27;ridge__solver&#x27;: [&#x27;auto&#x27;, &#x27;svd&#x27;]},\n",
       "             scoring=&#x27;neg_root_mean_squared_error&#x27;, verbose=1)</pre></div></div></div><div class=\"sk-parallel\"><div class=\"sk-parallel-item\"><div class=\"sk-item\"><div class=\"sk-label-container\"><div class=\"sk-label sk-toggleable\"><input class=\"sk-toggleable__control sk-hidden--visually\" id=\"sk-estimator-id-2\" type=\"checkbox\" ><label for=\"sk-estimator-id-2\" class=\"sk-toggleable__label sk-toggleable__label-arrow\">estimator: Pipeline</label><div class=\"sk-toggleable__content\"><pre>Pipeline(steps=[(&#x27;columntransformer&#x27;,\n",
       "                 ColumnTransformer(remainder=&#x27;passthrough&#x27;,\n",
       "                                   transformers=[(&#x27;targetencoder&#x27;,\n",
       "                                                  TargetEncoder(random_state=23,\n",
       "                                                                target_type=&#x27;continuous&#x27;),\n",
       "                                                  [&#x27;brand_model&#x27;]),\n",
       "                                                 (&#x27;onehotencoder&#x27;,\n",
       "                                                  OneHotEncoder(drop=&#x27;first&#x27;,\n",
       "                                                                handle_unknown=&#x27;ignore&#x27;),\n",
       "                                                  [&#x27;vehicle_type&#x27;, &#x27;gearbox&#x27;,\n",
       "                                                   &#x27;fuel_type&#x27;]),\n",
       "                                                 (&#x27;standardscaler&#x27;,\n",
       "                                                  StandardScaler(),\n",
       "                                                  [&#x27;registration_year&#x27;, &#x27;power&#x27;,\n",
       "                                                   &#x27;kilometer&#x27;])],\n",
       "                                   verbose_feature_names_out=False)),\n",
       "                (&#x27;ridge&#x27;, Ridge(random_state=23))])</pre></div></div></div><div class=\"sk-serial\"><div class=\"sk-item\"><div class=\"sk-serial\"><div class=\"sk-item sk-dashed-wrapped\"><div class=\"sk-label-container\"><div class=\"sk-label sk-toggleable\"><input class=\"sk-toggleable__control sk-hidden--visually\" id=\"sk-estimator-id-3\" type=\"checkbox\" ><label for=\"sk-estimator-id-3\" class=\"sk-toggleable__label sk-toggleable__label-arrow\">columntransformer: ColumnTransformer</label><div class=\"sk-toggleable__content\"><pre>ColumnTransformer(remainder=&#x27;passthrough&#x27;,\n",
       "                  transformers=[(&#x27;targetencoder&#x27;,\n",
       "                                 TargetEncoder(random_state=23,\n",
       "                                               target_type=&#x27;continuous&#x27;),\n",
       "                                 [&#x27;brand_model&#x27;]),\n",
       "                                (&#x27;onehotencoder&#x27;,\n",
       "                                 OneHotEncoder(drop=&#x27;first&#x27;,\n",
       "                                               handle_unknown=&#x27;ignore&#x27;),\n",
       "                                 [&#x27;vehicle_type&#x27;, &#x27;gearbox&#x27;, &#x27;fuel_type&#x27;]),\n",
       "                                (&#x27;standardscaler&#x27;, StandardScaler(),\n",
       "                                 [&#x27;registration_year&#x27;, &#x27;power&#x27;, &#x27;kilometer&#x27;])],\n",
       "                  verbose_feature_names_out=False)</pre></div></div></div><div class=\"sk-parallel\"><div class=\"sk-parallel-item\"><div class=\"sk-item\"><div class=\"sk-label-container\"><div class=\"sk-label sk-toggleable\"><input class=\"sk-toggleable__control sk-hidden--visually\" id=\"sk-estimator-id-4\" type=\"checkbox\" ><label for=\"sk-estimator-id-4\" class=\"sk-toggleable__label sk-toggleable__label-arrow\">targetencoder</label><div class=\"sk-toggleable__content\"><pre>[&#x27;brand_model&#x27;]</pre></div></div></div><div class=\"sk-serial\"><div class=\"sk-item\"><div class=\"sk-estimator sk-toggleable\"><input class=\"sk-toggleable__control sk-hidden--visually\" id=\"sk-estimator-id-5\" type=\"checkbox\" ><label for=\"sk-estimator-id-5\" class=\"sk-toggleable__label sk-toggleable__label-arrow\">TargetEncoder</label><div class=\"sk-toggleable__content\"><pre>TargetEncoder(random_state=23, target_type=&#x27;continuous&#x27;)</pre></div></div></div></div></div></div><div class=\"sk-parallel-item\"><div class=\"sk-item\"><div class=\"sk-label-container\"><div class=\"sk-label sk-toggleable\"><input class=\"sk-toggleable__control sk-hidden--visually\" id=\"sk-estimator-id-6\" type=\"checkbox\" ><label for=\"sk-estimator-id-6\" class=\"sk-toggleable__label sk-toggleable__label-arrow\">onehotencoder</label><div class=\"sk-toggleable__content\"><pre>[&#x27;vehicle_type&#x27;, &#x27;gearbox&#x27;, &#x27;fuel_type&#x27;]</pre></div></div></div><div class=\"sk-serial\"><div class=\"sk-item\"><div class=\"sk-estimator sk-toggleable\"><input class=\"sk-toggleable__control sk-hidden--visually\" id=\"sk-estimator-id-7\" type=\"checkbox\" ><label for=\"sk-estimator-id-7\" class=\"sk-toggleable__label sk-toggleable__label-arrow\">OneHotEncoder</label><div class=\"sk-toggleable__content\"><pre>OneHotEncoder(drop=&#x27;first&#x27;, handle_unknown=&#x27;ignore&#x27;)</pre></div></div></div></div></div></div><div class=\"sk-parallel-item\"><div class=\"sk-item\"><div class=\"sk-label-container\"><div class=\"sk-label sk-toggleable\"><input class=\"sk-toggleable__control sk-hidden--visually\" id=\"sk-estimator-id-8\" type=\"checkbox\" ><label for=\"sk-estimator-id-8\" class=\"sk-toggleable__label sk-toggleable__label-arrow\">standardscaler</label><div class=\"sk-toggleable__content\"><pre>[&#x27;registration_year&#x27;, &#x27;power&#x27;, &#x27;kilometer&#x27;]</pre></div></div></div><div class=\"sk-serial\"><div class=\"sk-item\"><div class=\"sk-estimator sk-toggleable\"><input class=\"sk-toggleable__control sk-hidden--visually\" id=\"sk-estimator-id-9\" type=\"checkbox\" ><label for=\"sk-estimator-id-9\" class=\"sk-toggleable__label sk-toggleable__label-arrow\">StandardScaler</label><div class=\"sk-toggleable__content\"><pre>StandardScaler()</pre></div></div></div></div></div></div><div class=\"sk-parallel-item\"><div class=\"sk-item\"><div class=\"sk-label-container\"><div class=\"sk-label sk-toggleable\"><input class=\"sk-toggleable__control sk-hidden--visually\" id=\"sk-estimator-id-10\" type=\"checkbox\" ><label for=\"sk-estimator-id-10\" class=\"sk-toggleable__label sk-toggleable__label-arrow\">remainder</label><div class=\"sk-toggleable__content\"><pre></pre></div></div></div><div class=\"sk-serial\"><div class=\"sk-item\"><div class=\"sk-estimator sk-toggleable\"><input class=\"sk-toggleable__control sk-hidden--visually\" id=\"sk-estimator-id-11\" type=\"checkbox\" ><label for=\"sk-estimator-id-11\" class=\"sk-toggleable__label sk-toggleable__label-arrow\">passthrough</label><div class=\"sk-toggleable__content\"><pre>passthrough</pre></div></div></div></div></div></div></div></div><div class=\"sk-item\"><div class=\"sk-estimator sk-toggleable\"><input class=\"sk-toggleable__control sk-hidden--visually\" id=\"sk-estimator-id-12\" type=\"checkbox\" ><label for=\"sk-estimator-id-12\" class=\"sk-toggleable__label sk-toggleable__label-arrow\">Ridge</label><div class=\"sk-toggleable__content\"><pre>Ridge(random_state=23)</pre></div></div></div></div></div></div></div></div></div></div></div></div>"
      ],
      "text/plain": [
       "GridSearchCV(cv=5,\n",
       "             estimator=Pipeline(steps=[('columntransformer',\n",
       "                                        ColumnTransformer(remainder='passthrough',\n",
       "                                                          transformers=[('targetencoder',\n",
       "                                                                         TargetEncoder(random_state=23,\n",
       "                                                                                       target_type='continuous'),\n",
       "                                                                         ['brand_model']),\n",
       "                                                                        ('onehotencoder',\n",
       "                                                                         OneHotEncoder(drop='first',\n",
       "                                                                                       handle_unknown='ignore'),\n",
       "                                                                         ['vehicle_type',\n",
       "                                                                          'gearbox',\n",
       "                                                                          'fuel_type']),\n",
       "                                                                        ('standardscaler',\n",
       "                                                                         StandardScaler(),\n",
       "                                                                         ['registration_year',\n",
       "                                                                          'power',\n",
       "                                                                          'kilometer'])],\n",
       "                                                          verbose_feature_names_out=False)),\n",
       "                                       ('ridge', Ridge(random_state=23))]),\n",
       "             n_jobs=-1,\n",
       "             param_grid={'ridge__alpha': [0.001, 0.01, 0.1, 0.5, 1.0],\n",
       "                         'ridge__solver': ['auto', 'svd']},\n",
       "             scoring='neg_root_mean_squared_error', verbose=1)"
      ]
     },
     "execution_count": 73,
     "metadata": {},
     "output_type": "execute_result"
    }
   ],
   "source": [
    "%%time\n",
    "\n",
    "model_ridge = Ridge(random_state=RANDOM_STATE)\n",
    "\n",
    "pipeline_ridge = make_pipeline(col_transformer_ridge, model_ridge)\n",
    "\n",
    "param_grid_ridge = {\n",
    "    'ridge__solver': ['auto', 'svd'],\n",
    "    'ridge__alpha': [0.001, 0.01, 0.1, 0.5, 1.0]\n",
    "}\n",
    "\n",
    "gs_ridge_pl = GridSearchCV(\n",
    "    pipeline_ridge,\n",
    "    param_grid=param_grid_ridge,\n",
    "    scoring='neg_root_mean_squared_error',\n",
    "    n_jobs=-1,\n",
    "    cv=CV,\n",
    "    verbose=1\n",
    ")\n",
    "\n",
    "gs_ridge_pl.fit(X_train_ridge, y_train_ridge)"
   ]
  },
  {
   "cell_type": "code",
   "execution_count": 74,
   "metadata": {},
   "outputs": [
    {
     "name": "stdout",
     "output_type": "stream",
     "text": [
      "Лучшее значение RMSE на кросс-валидации для модели Ridge:\n",
      "2828\n",
      "Лучшие гиперпараметры:\n",
      "{'ridge__alpha': 1.0, 'ridge__solver': 'svd'}\n",
      "Среднее время обучения:\n",
      "0.73 сек.\n"
     ]
    }
   ],
   "source": [
    "gs_ridge_pl_best_score = round(gs_ridge_pl.best_score_ * -1)\n",
    "gs_ridge_pl_best_params = gs_ridge_pl.best_params_\n",
    "gs_ridge_pl_train_time = round(gs_ridge_pl.cv_results_['mean_fit_time'].mean(), 2)\n",
    "\n",
    "print('Лучшее значение RMSE на кросс-валидации для модели Ridge:')\n",
    "print(gs_ridge_pl_best_score)\n",
    "print('Лучшие гиперпараметры:')\n",
    "print(gs_ridge_pl_best_params)\n",
    "print('Среднее время обучения:')\n",
    "print(gs_ridge_pl_train_time, 'сек.')"
   ]
  },
  {
   "cell_type": "markdown",
   "metadata": {},
   "source": [
    "### RandomForestRegressor"
   ]
  },
  {
   "cell_type": "code",
   "execution_count": 75,
   "metadata": {},
   "outputs": [],
   "source": [
    "X_train_rf = X_train.copy()\n",
    "X_test_rf = X_test.copy()\n",
    "y_train_rf = y_train.copy()"
   ]
  },
  {
   "cell_type": "code",
   "execution_count": 76,
   "metadata": {},
   "outputs": [],
   "source": [
    "col_transformer_rf= make_column_transformer(\n",
    "    (\n",
    "        OneHotEncoder(drop='first', handle_unknown='ignore'),\n",
    "        ohe_features_rf\n",
    "    ),\n",
    "    (\n",
    "        OrdinalEncoder(handle_unknown='use_encoded_value', unknown_value=-1),\n",
    "        ['brand_model']\n",
    "    ),\n",
    "    (\n",
    "        StandardScaler(),\n",
    "        num_features\n",
    "    ),\n",
    "    remainder='passthrough'\n",
    ")"
   ]
  },
  {
   "cell_type": "code",
   "execution_count": 77,
   "metadata": {
    "scrolled": true
   },
   "outputs": [
    {
     "name": "stdout",
     "output_type": "stream",
     "text": [
      "Fitting 5 folds for each of 3 candidates, totalling 15 fits\n",
      "CPU times: user 3min 52s, sys: 469 ms, total: 3min 53s\n",
      "Wall time: 8min 22s\n"
     ]
    },
    {
     "data": {
      "text/html": [
       "<style>#sk-container-id-2 {color: black;}#sk-container-id-2 pre{padding: 0;}#sk-container-id-2 div.sk-toggleable {background-color: white;}#sk-container-id-2 label.sk-toggleable__label {cursor: pointer;display: block;width: 100%;margin-bottom: 0;padding: 0.3em;box-sizing: border-box;text-align: center;}#sk-container-id-2 label.sk-toggleable__label-arrow:before {content: \"▸\";float: left;margin-right: 0.25em;color: #696969;}#sk-container-id-2 label.sk-toggleable__label-arrow:hover:before {color: black;}#sk-container-id-2 div.sk-estimator:hover label.sk-toggleable__label-arrow:before {color: black;}#sk-container-id-2 div.sk-toggleable__content {max-height: 0;max-width: 0;overflow: hidden;text-align: left;background-color: #f0f8ff;}#sk-container-id-2 div.sk-toggleable__content pre {margin: 0.2em;color: black;border-radius: 0.25em;background-color: #f0f8ff;}#sk-container-id-2 input.sk-toggleable__control:checked~div.sk-toggleable__content {max-height: 200px;max-width: 100%;overflow: auto;}#sk-container-id-2 input.sk-toggleable__control:checked~label.sk-toggleable__label-arrow:before {content: \"▾\";}#sk-container-id-2 div.sk-estimator input.sk-toggleable__control:checked~label.sk-toggleable__label {background-color: #d4ebff;}#sk-container-id-2 div.sk-label input.sk-toggleable__control:checked~label.sk-toggleable__label {background-color: #d4ebff;}#sk-container-id-2 input.sk-hidden--visually {border: 0;clip: rect(1px 1px 1px 1px);clip: rect(1px, 1px, 1px, 1px);height: 1px;margin: -1px;overflow: hidden;padding: 0;position: absolute;width: 1px;}#sk-container-id-2 div.sk-estimator {font-family: monospace;background-color: #f0f8ff;border: 1px dotted black;border-radius: 0.25em;box-sizing: border-box;margin-bottom: 0.5em;}#sk-container-id-2 div.sk-estimator:hover {background-color: #d4ebff;}#sk-container-id-2 div.sk-parallel-item::after {content: \"\";width: 100%;border-bottom: 1px solid gray;flex-grow: 1;}#sk-container-id-2 div.sk-label:hover label.sk-toggleable__label {background-color: #d4ebff;}#sk-container-id-2 div.sk-serial::before {content: \"\";position: absolute;border-left: 1px solid gray;box-sizing: border-box;top: 0;bottom: 0;left: 50%;z-index: 0;}#sk-container-id-2 div.sk-serial {display: flex;flex-direction: column;align-items: center;background-color: white;padding-right: 0.2em;padding-left: 0.2em;position: relative;}#sk-container-id-2 div.sk-item {position: relative;z-index: 1;}#sk-container-id-2 div.sk-parallel {display: flex;align-items: stretch;justify-content: center;background-color: white;position: relative;}#sk-container-id-2 div.sk-item::before, #sk-container-id-2 div.sk-parallel-item::before {content: \"\";position: absolute;border-left: 1px solid gray;box-sizing: border-box;top: 0;bottom: 0;left: 50%;z-index: -1;}#sk-container-id-2 div.sk-parallel-item {display: flex;flex-direction: column;z-index: 1;position: relative;background-color: white;}#sk-container-id-2 div.sk-parallel-item:first-child::after {align-self: flex-end;width: 50%;}#sk-container-id-2 div.sk-parallel-item:last-child::after {align-self: flex-start;width: 50%;}#sk-container-id-2 div.sk-parallel-item:only-child::after {width: 0;}#sk-container-id-2 div.sk-dashed-wrapped {border: 1px dashed gray;margin: 0 0.4em 0.5em 0.4em;box-sizing: border-box;padding-bottom: 0.4em;background-color: white;}#sk-container-id-2 div.sk-label label {font-family: monospace;font-weight: bold;display: inline-block;line-height: 1.2em;}#sk-container-id-2 div.sk-label-container {text-align: center;}#sk-container-id-2 div.sk-container {/* jupyter's `normalize.less` sets `[hidden] { display: none; }` but bootstrap.min.css set `[hidden] { display: none !important; }` so we also need the `!important` here to be able to override the default hidden behavior on the sphinx rendered scikit-learn.org. See: https://github.com/scikit-learn/scikit-learn/issues/21755 */display: inline-block !important;position: relative;}#sk-container-id-2 div.sk-text-repr-fallback {display: none;}</style><div id=\"sk-container-id-2\" class=\"sk-top-container\"><div class=\"sk-text-repr-fallback\"><pre>GridSearchCV(cv=5,\n",
       "             estimator=Pipeline(steps=[(&#x27;columntransformer&#x27;,\n",
       "                                        ColumnTransformer(remainder=&#x27;passthrough&#x27;,\n",
       "                                                          transformers=[(&#x27;onehotencoder&#x27;,\n",
       "                                                                         OneHotEncoder(drop=&#x27;first&#x27;,\n",
       "                                                                                       handle_unknown=&#x27;ignore&#x27;),\n",
       "                                                                         [&#x27;vehicle_type&#x27;,\n",
       "                                                                          &#x27;gearbox&#x27;,\n",
       "                                                                          &#x27;fuel_type&#x27;]),\n",
       "                                                                        (&#x27;ordinalencoder&#x27;,\n",
       "                                                                         OrdinalEncoder(handle_unknown=&#x27;use_encoded_value&#x27;,\n",
       "                                                                                        unknown_value=-1),\n",
       "                                                                         [&#x27;brand_model&#x27;]),\n",
       "                                                                        (&#x27;standardscaler&#x27;,\n",
       "                                                                         StandardScaler(),\n",
       "                                                                         [&#x27;registration_year&#x27;,\n",
       "                                                                          &#x27;power&#x27;,\n",
       "                                                                          &#x27;kilometer&#x27;])])),\n",
       "                                       (&#x27;randomforestregressor&#x27;,\n",
       "                                        RandomForestRegressor(random_state=23))]),\n",
       "             n_jobs=-1,\n",
       "             param_grid={&#x27;randomforestregressor__n_estimators&#x27;: [10, 100, 300]},\n",
       "             scoring=&#x27;neg_root_mean_squared_error&#x27;, verbose=1)</pre><b>In a Jupyter environment, please rerun this cell to show the HTML representation or trust the notebook. <br />On GitHub, the HTML representation is unable to render, please try loading this page with nbviewer.org.</b></div><div class=\"sk-container\" hidden><div class=\"sk-item sk-dashed-wrapped\"><div class=\"sk-label-container\"><div class=\"sk-label sk-toggleable\"><input class=\"sk-toggleable__control sk-hidden--visually\" id=\"sk-estimator-id-13\" type=\"checkbox\" ><label for=\"sk-estimator-id-13\" class=\"sk-toggleable__label sk-toggleable__label-arrow\">GridSearchCV</label><div class=\"sk-toggleable__content\"><pre>GridSearchCV(cv=5,\n",
       "             estimator=Pipeline(steps=[(&#x27;columntransformer&#x27;,\n",
       "                                        ColumnTransformer(remainder=&#x27;passthrough&#x27;,\n",
       "                                                          transformers=[(&#x27;onehotencoder&#x27;,\n",
       "                                                                         OneHotEncoder(drop=&#x27;first&#x27;,\n",
       "                                                                                       handle_unknown=&#x27;ignore&#x27;),\n",
       "                                                                         [&#x27;vehicle_type&#x27;,\n",
       "                                                                          &#x27;gearbox&#x27;,\n",
       "                                                                          &#x27;fuel_type&#x27;]),\n",
       "                                                                        (&#x27;ordinalencoder&#x27;,\n",
       "                                                                         OrdinalEncoder(handle_unknown=&#x27;use_encoded_value&#x27;,\n",
       "                                                                                        unknown_value=-1),\n",
       "                                                                         [&#x27;brand_model&#x27;]),\n",
       "                                                                        (&#x27;standardscaler&#x27;,\n",
       "                                                                         StandardScaler(),\n",
       "                                                                         [&#x27;registration_year&#x27;,\n",
       "                                                                          &#x27;power&#x27;,\n",
       "                                                                          &#x27;kilometer&#x27;])])),\n",
       "                                       (&#x27;randomforestregressor&#x27;,\n",
       "                                        RandomForestRegressor(random_state=23))]),\n",
       "             n_jobs=-1,\n",
       "             param_grid={&#x27;randomforestregressor__n_estimators&#x27;: [10, 100, 300]},\n",
       "             scoring=&#x27;neg_root_mean_squared_error&#x27;, verbose=1)</pre></div></div></div><div class=\"sk-parallel\"><div class=\"sk-parallel-item\"><div class=\"sk-item\"><div class=\"sk-label-container\"><div class=\"sk-label sk-toggleable\"><input class=\"sk-toggleable__control sk-hidden--visually\" id=\"sk-estimator-id-14\" type=\"checkbox\" ><label for=\"sk-estimator-id-14\" class=\"sk-toggleable__label sk-toggleable__label-arrow\">estimator: Pipeline</label><div class=\"sk-toggleable__content\"><pre>Pipeline(steps=[(&#x27;columntransformer&#x27;,\n",
       "                 ColumnTransformer(remainder=&#x27;passthrough&#x27;,\n",
       "                                   transformers=[(&#x27;onehotencoder&#x27;,\n",
       "                                                  OneHotEncoder(drop=&#x27;first&#x27;,\n",
       "                                                                handle_unknown=&#x27;ignore&#x27;),\n",
       "                                                  [&#x27;vehicle_type&#x27;, &#x27;gearbox&#x27;,\n",
       "                                                   &#x27;fuel_type&#x27;]),\n",
       "                                                 (&#x27;ordinalencoder&#x27;,\n",
       "                                                  OrdinalEncoder(handle_unknown=&#x27;use_encoded_value&#x27;,\n",
       "                                                                 unknown_value=-1),\n",
       "                                                  [&#x27;brand_model&#x27;]),\n",
       "                                                 (&#x27;standardscaler&#x27;,\n",
       "                                                  StandardScaler(),\n",
       "                                                  [&#x27;registration_year&#x27;, &#x27;power&#x27;,\n",
       "                                                   &#x27;kilometer&#x27;])])),\n",
       "                (&#x27;randomforestregressor&#x27;,\n",
       "                 RandomForestRegressor(random_state=23))])</pre></div></div></div><div class=\"sk-serial\"><div class=\"sk-item\"><div class=\"sk-serial\"><div class=\"sk-item sk-dashed-wrapped\"><div class=\"sk-label-container\"><div class=\"sk-label sk-toggleable\"><input class=\"sk-toggleable__control sk-hidden--visually\" id=\"sk-estimator-id-15\" type=\"checkbox\" ><label for=\"sk-estimator-id-15\" class=\"sk-toggleable__label sk-toggleable__label-arrow\">columntransformer: ColumnTransformer</label><div class=\"sk-toggleable__content\"><pre>ColumnTransformer(remainder=&#x27;passthrough&#x27;,\n",
       "                  transformers=[(&#x27;onehotencoder&#x27;,\n",
       "                                 OneHotEncoder(drop=&#x27;first&#x27;,\n",
       "                                               handle_unknown=&#x27;ignore&#x27;),\n",
       "                                 [&#x27;vehicle_type&#x27;, &#x27;gearbox&#x27;, &#x27;fuel_type&#x27;]),\n",
       "                                (&#x27;ordinalencoder&#x27;,\n",
       "                                 OrdinalEncoder(handle_unknown=&#x27;use_encoded_value&#x27;,\n",
       "                                                unknown_value=-1),\n",
       "                                 [&#x27;brand_model&#x27;]),\n",
       "                                (&#x27;standardscaler&#x27;, StandardScaler(),\n",
       "                                 [&#x27;registration_year&#x27;, &#x27;power&#x27;, &#x27;kilometer&#x27;])])</pre></div></div></div><div class=\"sk-parallel\"><div class=\"sk-parallel-item\"><div class=\"sk-item\"><div class=\"sk-label-container\"><div class=\"sk-label sk-toggleable\"><input class=\"sk-toggleable__control sk-hidden--visually\" id=\"sk-estimator-id-16\" type=\"checkbox\" ><label for=\"sk-estimator-id-16\" class=\"sk-toggleable__label sk-toggleable__label-arrow\">onehotencoder</label><div class=\"sk-toggleable__content\"><pre>[&#x27;vehicle_type&#x27;, &#x27;gearbox&#x27;, &#x27;fuel_type&#x27;]</pre></div></div></div><div class=\"sk-serial\"><div class=\"sk-item\"><div class=\"sk-estimator sk-toggleable\"><input class=\"sk-toggleable__control sk-hidden--visually\" id=\"sk-estimator-id-17\" type=\"checkbox\" ><label for=\"sk-estimator-id-17\" class=\"sk-toggleable__label sk-toggleable__label-arrow\">OneHotEncoder</label><div class=\"sk-toggleable__content\"><pre>OneHotEncoder(drop=&#x27;first&#x27;, handle_unknown=&#x27;ignore&#x27;)</pre></div></div></div></div></div></div><div class=\"sk-parallel-item\"><div class=\"sk-item\"><div class=\"sk-label-container\"><div class=\"sk-label sk-toggleable\"><input class=\"sk-toggleable__control sk-hidden--visually\" id=\"sk-estimator-id-18\" type=\"checkbox\" ><label for=\"sk-estimator-id-18\" class=\"sk-toggleable__label sk-toggleable__label-arrow\">ordinalencoder</label><div class=\"sk-toggleable__content\"><pre>[&#x27;brand_model&#x27;]</pre></div></div></div><div class=\"sk-serial\"><div class=\"sk-item\"><div class=\"sk-estimator sk-toggleable\"><input class=\"sk-toggleable__control sk-hidden--visually\" id=\"sk-estimator-id-19\" type=\"checkbox\" ><label for=\"sk-estimator-id-19\" class=\"sk-toggleable__label sk-toggleable__label-arrow\">OrdinalEncoder</label><div class=\"sk-toggleable__content\"><pre>OrdinalEncoder(handle_unknown=&#x27;use_encoded_value&#x27;, unknown_value=-1)</pre></div></div></div></div></div></div><div class=\"sk-parallel-item\"><div class=\"sk-item\"><div class=\"sk-label-container\"><div class=\"sk-label sk-toggleable\"><input class=\"sk-toggleable__control sk-hidden--visually\" id=\"sk-estimator-id-20\" type=\"checkbox\" ><label for=\"sk-estimator-id-20\" class=\"sk-toggleable__label sk-toggleable__label-arrow\">standardscaler</label><div class=\"sk-toggleable__content\"><pre>[&#x27;registration_year&#x27;, &#x27;power&#x27;, &#x27;kilometer&#x27;]</pre></div></div></div><div class=\"sk-serial\"><div class=\"sk-item\"><div class=\"sk-estimator sk-toggleable\"><input class=\"sk-toggleable__control sk-hidden--visually\" id=\"sk-estimator-id-21\" type=\"checkbox\" ><label for=\"sk-estimator-id-21\" class=\"sk-toggleable__label sk-toggleable__label-arrow\">StandardScaler</label><div class=\"sk-toggleable__content\"><pre>StandardScaler()</pre></div></div></div></div></div></div><div class=\"sk-parallel-item\"><div class=\"sk-item\"><div class=\"sk-label-container\"><div class=\"sk-label sk-toggleable\"><input class=\"sk-toggleable__control sk-hidden--visually\" id=\"sk-estimator-id-22\" type=\"checkbox\" ><label for=\"sk-estimator-id-22\" class=\"sk-toggleable__label sk-toggleable__label-arrow\">remainder</label><div class=\"sk-toggleable__content\"><pre></pre></div></div></div><div class=\"sk-serial\"><div class=\"sk-item\"><div class=\"sk-estimator sk-toggleable\"><input class=\"sk-toggleable__control sk-hidden--visually\" id=\"sk-estimator-id-23\" type=\"checkbox\" ><label for=\"sk-estimator-id-23\" class=\"sk-toggleable__label sk-toggleable__label-arrow\">passthrough</label><div class=\"sk-toggleable__content\"><pre>passthrough</pre></div></div></div></div></div></div></div></div><div class=\"sk-item\"><div class=\"sk-estimator sk-toggleable\"><input class=\"sk-toggleable__control sk-hidden--visually\" id=\"sk-estimator-id-24\" type=\"checkbox\" ><label for=\"sk-estimator-id-24\" class=\"sk-toggleable__label sk-toggleable__label-arrow\">RandomForestRegressor</label><div class=\"sk-toggleable__content\"><pre>RandomForestRegressor(random_state=23)</pre></div></div></div></div></div></div></div></div></div></div></div></div>"
      ],
      "text/plain": [
       "GridSearchCV(cv=5,\n",
       "             estimator=Pipeline(steps=[('columntransformer',\n",
       "                                        ColumnTransformer(remainder='passthrough',\n",
       "                                                          transformers=[('onehotencoder',\n",
       "                                                                         OneHotEncoder(drop='first',\n",
       "                                                                                       handle_unknown='ignore'),\n",
       "                                                                         ['vehicle_type',\n",
       "                                                                          'gearbox',\n",
       "                                                                          'fuel_type']),\n",
       "                                                                        ('ordinalencoder',\n",
       "                                                                         OrdinalEncoder(handle_unknown='use_encoded_value',\n",
       "                                                                                        unknown_value=-1),\n",
       "                                                                         ['brand_model']),\n",
       "                                                                        ('standardscaler',\n",
       "                                                                         StandardScaler(),\n",
       "                                                                         ['registration_year',\n",
       "                                                                          'power',\n",
       "                                                                          'kilometer'])])),\n",
       "                                       ('randomforestregressor',\n",
       "                                        RandomForestRegressor(random_state=23))]),\n",
       "             n_jobs=-1,\n",
       "             param_grid={'randomforestregressor__n_estimators': [10, 100, 300]},\n",
       "             scoring='neg_root_mean_squared_error', verbose=1)"
      ]
     },
     "execution_count": 77,
     "metadata": {},
     "output_type": "execute_result"
    }
   ],
   "source": [
    "%%time\n",
    "\n",
    "model_rf = RandomForestRegressor(random_state=RANDOM_STATE)\n",
    "\n",
    "pipline_rf = make_pipeline(col_transformer_rf, model_rf)\n",
    "\n",
    "param_grid_rf = {\n",
    "    'randomforestregressor__n_estimators': [10, 100, 300]\n",
    "}\n",
    "\n",
    "gs_rf_pl = GridSearchCV(\n",
    "    pipline_rf,\n",
    "    param_grid=param_grid_rf,\n",
    "    scoring='neg_root_mean_squared_error',\n",
    "    n_jobs=-1,\n",
    "    cv=CV,\n",
    "    verbose=1\n",
    ")\n",
    "\n",
    "gs_rf_pl.fit(X_train_rf, y_train_rf)"
   ]
  },
  {
   "cell_type": "code",
   "execution_count": 78,
   "metadata": {},
   "outputs": [
    {
     "name": "stdout",
     "output_type": "stream",
     "text": [
      "Лучшее значение RMSE на кросс-валидации для модели Random Forest Regressor:\n",
      "1643\n",
      "Лучшие гиперпараметры:\n",
      "{'randomforestregressor__n_estimators': 300}\n",
      "Среднее время обучения:\n",
      "128.13 сек.\n"
     ]
    }
   ],
   "source": [
    "gs_rf_pl_best_score = round(gs_rf_pl.best_score_ * -1)\n",
    "gs_rf_pl_best_params = gs_rf_pl.best_params_\n",
    "gs_rf_pl_train_time = round(gs_rf_pl.cv_results_['mean_fit_time'].mean(), 2)\n",
    "\n",
    "print('Лучшее значение RMSE на кросс-валидации для модели Random Forest Regressor:')\n",
    "print(gs_rf_pl_best_score)\n",
    "print('Лучшие гиперпараметры:')\n",
    "print(gs_rf_pl_best_params)\n",
    "print('Среднее время обучения:')\n",
    "print(gs_rf_pl_train_time, 'сек.')"
   ]
  },
  {
   "cell_type": "markdown",
   "metadata": {},
   "source": [
    "### Light GBM Regressor"
   ]
  },
  {
   "cell_type": "markdown",
   "metadata": {},
   "source": [
    "Используем те же траснформеры и выборку, что и для RandomForestRegressor."
   ]
  },
  {
   "cell_type": "code",
   "execution_count": 79,
   "metadata": {},
   "outputs": [
    {
     "name": "stdout",
     "output_type": "stream",
     "text": [
      "Fitting 5 folds for each of 18 candidates, totalling 90 fits\n",
      "CPU times: user 26.2 s, sys: 638 ms, total: 26.8 s\n",
      "Wall time: 34.3 s\n"
     ]
    },
    {
     "data": {
      "text/html": [
       "<style>#sk-container-id-3 {color: black;}#sk-container-id-3 pre{padding: 0;}#sk-container-id-3 div.sk-toggleable {background-color: white;}#sk-container-id-3 label.sk-toggleable__label {cursor: pointer;display: block;width: 100%;margin-bottom: 0;padding: 0.3em;box-sizing: border-box;text-align: center;}#sk-container-id-3 label.sk-toggleable__label-arrow:before {content: \"▸\";float: left;margin-right: 0.25em;color: #696969;}#sk-container-id-3 label.sk-toggleable__label-arrow:hover:before {color: black;}#sk-container-id-3 div.sk-estimator:hover label.sk-toggleable__label-arrow:before {color: black;}#sk-container-id-3 div.sk-toggleable__content {max-height: 0;max-width: 0;overflow: hidden;text-align: left;background-color: #f0f8ff;}#sk-container-id-3 div.sk-toggleable__content pre {margin: 0.2em;color: black;border-radius: 0.25em;background-color: #f0f8ff;}#sk-container-id-3 input.sk-toggleable__control:checked~div.sk-toggleable__content {max-height: 200px;max-width: 100%;overflow: auto;}#sk-container-id-3 input.sk-toggleable__control:checked~label.sk-toggleable__label-arrow:before {content: \"▾\";}#sk-container-id-3 div.sk-estimator input.sk-toggleable__control:checked~label.sk-toggleable__label {background-color: #d4ebff;}#sk-container-id-3 div.sk-label input.sk-toggleable__control:checked~label.sk-toggleable__label {background-color: #d4ebff;}#sk-container-id-3 input.sk-hidden--visually {border: 0;clip: rect(1px 1px 1px 1px);clip: rect(1px, 1px, 1px, 1px);height: 1px;margin: -1px;overflow: hidden;padding: 0;position: absolute;width: 1px;}#sk-container-id-3 div.sk-estimator {font-family: monospace;background-color: #f0f8ff;border: 1px dotted black;border-radius: 0.25em;box-sizing: border-box;margin-bottom: 0.5em;}#sk-container-id-3 div.sk-estimator:hover {background-color: #d4ebff;}#sk-container-id-3 div.sk-parallel-item::after {content: \"\";width: 100%;border-bottom: 1px solid gray;flex-grow: 1;}#sk-container-id-3 div.sk-label:hover label.sk-toggleable__label {background-color: #d4ebff;}#sk-container-id-3 div.sk-serial::before {content: \"\";position: absolute;border-left: 1px solid gray;box-sizing: border-box;top: 0;bottom: 0;left: 50%;z-index: 0;}#sk-container-id-3 div.sk-serial {display: flex;flex-direction: column;align-items: center;background-color: white;padding-right: 0.2em;padding-left: 0.2em;position: relative;}#sk-container-id-3 div.sk-item {position: relative;z-index: 1;}#sk-container-id-3 div.sk-parallel {display: flex;align-items: stretch;justify-content: center;background-color: white;position: relative;}#sk-container-id-3 div.sk-item::before, #sk-container-id-3 div.sk-parallel-item::before {content: \"\";position: absolute;border-left: 1px solid gray;box-sizing: border-box;top: 0;bottom: 0;left: 50%;z-index: -1;}#sk-container-id-3 div.sk-parallel-item {display: flex;flex-direction: column;z-index: 1;position: relative;background-color: white;}#sk-container-id-3 div.sk-parallel-item:first-child::after {align-self: flex-end;width: 50%;}#sk-container-id-3 div.sk-parallel-item:last-child::after {align-self: flex-start;width: 50%;}#sk-container-id-3 div.sk-parallel-item:only-child::after {width: 0;}#sk-container-id-3 div.sk-dashed-wrapped {border: 1px dashed gray;margin: 0 0.4em 0.5em 0.4em;box-sizing: border-box;padding-bottom: 0.4em;background-color: white;}#sk-container-id-3 div.sk-label label {font-family: monospace;font-weight: bold;display: inline-block;line-height: 1.2em;}#sk-container-id-3 div.sk-label-container {text-align: center;}#sk-container-id-3 div.sk-container {/* jupyter's `normalize.less` sets `[hidden] { display: none; }` but bootstrap.min.css set `[hidden] { display: none !important; }` so we also need the `!important` here to be able to override the default hidden behavior on the sphinx rendered scikit-learn.org. See: https://github.com/scikit-learn/scikit-learn/issues/21755 */display: inline-block !important;position: relative;}#sk-container-id-3 div.sk-text-repr-fallback {display: none;}</style><div id=\"sk-container-id-3\" class=\"sk-top-container\"><div class=\"sk-text-repr-fallback\"><pre>GridSearchCV(cv=5,\n",
       "             estimator=Pipeline(steps=[(&#x27;columntransformer&#x27;,\n",
       "                                        ColumnTransformer(remainder=&#x27;passthrough&#x27;,\n",
       "                                                          transformers=[(&#x27;onehotencoder&#x27;,\n",
       "                                                                         OneHotEncoder(drop=&#x27;first&#x27;,\n",
       "                                                                                       handle_unknown=&#x27;ignore&#x27;),\n",
       "                                                                         [&#x27;vehicle_type&#x27;,\n",
       "                                                                          &#x27;gearbox&#x27;,\n",
       "                                                                          &#x27;fuel_type&#x27;]),\n",
       "                                                                        (&#x27;ordinalencoder&#x27;,\n",
       "                                                                         OrdinalEncoder(handle_unknown=&#x27;use_encoded_value&#x27;,\n",
       "                                                                                        unknown_value=-1),\n",
       "                                                                         [&#x27;brand_model&#x27;]),\n",
       "                                                                        (&#x27;standardscaler&#x27;,\n",
       "                                                                         StandardScaler(),\n",
       "                                                                         [&#x27;registration_year&#x27;,\n",
       "                                                                          &#x27;power&#x27;,\n",
       "                                                                          &#x27;kilometer&#x27;])])),\n",
       "                                       (&#x27;lgbmregressor&#x27;, LGBMRegressor())]),\n",
       "             n_jobs=-1,\n",
       "             param_grid={&#x27;lgbmregressor__learning_rate&#x27;: [0.1, 0.5, 1.0],\n",
       "                         &#x27;lgbmregressor__max_depth&#x27;: [5, 10],\n",
       "                         &#x27;lgbmregressor__n_estimators&#x27;: [10, 100, 300]},\n",
       "             scoring=&#x27;neg_root_mean_squared_error&#x27;, verbose=1)</pre><b>In a Jupyter environment, please rerun this cell to show the HTML representation or trust the notebook. <br />On GitHub, the HTML representation is unable to render, please try loading this page with nbviewer.org.</b></div><div class=\"sk-container\" hidden><div class=\"sk-item sk-dashed-wrapped\"><div class=\"sk-label-container\"><div class=\"sk-label sk-toggleable\"><input class=\"sk-toggleable__control sk-hidden--visually\" id=\"sk-estimator-id-25\" type=\"checkbox\" ><label for=\"sk-estimator-id-25\" class=\"sk-toggleable__label sk-toggleable__label-arrow\">GridSearchCV</label><div class=\"sk-toggleable__content\"><pre>GridSearchCV(cv=5,\n",
       "             estimator=Pipeline(steps=[(&#x27;columntransformer&#x27;,\n",
       "                                        ColumnTransformer(remainder=&#x27;passthrough&#x27;,\n",
       "                                                          transformers=[(&#x27;onehotencoder&#x27;,\n",
       "                                                                         OneHotEncoder(drop=&#x27;first&#x27;,\n",
       "                                                                                       handle_unknown=&#x27;ignore&#x27;),\n",
       "                                                                         [&#x27;vehicle_type&#x27;,\n",
       "                                                                          &#x27;gearbox&#x27;,\n",
       "                                                                          &#x27;fuel_type&#x27;]),\n",
       "                                                                        (&#x27;ordinalencoder&#x27;,\n",
       "                                                                         OrdinalEncoder(handle_unknown=&#x27;use_encoded_value&#x27;,\n",
       "                                                                                        unknown_value=-1),\n",
       "                                                                         [&#x27;brand_model&#x27;]),\n",
       "                                                                        (&#x27;standardscaler&#x27;,\n",
       "                                                                         StandardScaler(),\n",
       "                                                                         [&#x27;registration_year&#x27;,\n",
       "                                                                          &#x27;power&#x27;,\n",
       "                                                                          &#x27;kilometer&#x27;])])),\n",
       "                                       (&#x27;lgbmregressor&#x27;, LGBMRegressor())]),\n",
       "             n_jobs=-1,\n",
       "             param_grid={&#x27;lgbmregressor__learning_rate&#x27;: [0.1, 0.5, 1.0],\n",
       "                         &#x27;lgbmregressor__max_depth&#x27;: [5, 10],\n",
       "                         &#x27;lgbmregressor__n_estimators&#x27;: [10, 100, 300]},\n",
       "             scoring=&#x27;neg_root_mean_squared_error&#x27;, verbose=1)</pre></div></div></div><div class=\"sk-parallel\"><div class=\"sk-parallel-item\"><div class=\"sk-item\"><div class=\"sk-label-container\"><div class=\"sk-label sk-toggleable\"><input class=\"sk-toggleable__control sk-hidden--visually\" id=\"sk-estimator-id-26\" type=\"checkbox\" ><label for=\"sk-estimator-id-26\" class=\"sk-toggleable__label sk-toggleable__label-arrow\">estimator: Pipeline</label><div class=\"sk-toggleable__content\"><pre>Pipeline(steps=[(&#x27;columntransformer&#x27;,\n",
       "                 ColumnTransformer(remainder=&#x27;passthrough&#x27;,\n",
       "                                   transformers=[(&#x27;onehotencoder&#x27;,\n",
       "                                                  OneHotEncoder(drop=&#x27;first&#x27;,\n",
       "                                                                handle_unknown=&#x27;ignore&#x27;),\n",
       "                                                  [&#x27;vehicle_type&#x27;, &#x27;gearbox&#x27;,\n",
       "                                                   &#x27;fuel_type&#x27;]),\n",
       "                                                 (&#x27;ordinalencoder&#x27;,\n",
       "                                                  OrdinalEncoder(handle_unknown=&#x27;use_encoded_value&#x27;,\n",
       "                                                                 unknown_value=-1),\n",
       "                                                  [&#x27;brand_model&#x27;]),\n",
       "                                                 (&#x27;standardscaler&#x27;,\n",
       "                                                  StandardScaler(),\n",
       "                                                  [&#x27;registration_year&#x27;, &#x27;power&#x27;,\n",
       "                                                   &#x27;kilometer&#x27;])])),\n",
       "                (&#x27;lgbmregressor&#x27;, LGBMRegressor())])</pre></div></div></div><div class=\"sk-serial\"><div class=\"sk-item\"><div class=\"sk-serial\"><div class=\"sk-item sk-dashed-wrapped\"><div class=\"sk-label-container\"><div class=\"sk-label sk-toggleable\"><input class=\"sk-toggleable__control sk-hidden--visually\" id=\"sk-estimator-id-27\" type=\"checkbox\" ><label for=\"sk-estimator-id-27\" class=\"sk-toggleable__label sk-toggleable__label-arrow\">columntransformer: ColumnTransformer</label><div class=\"sk-toggleable__content\"><pre>ColumnTransformer(remainder=&#x27;passthrough&#x27;,\n",
       "                  transformers=[(&#x27;onehotencoder&#x27;,\n",
       "                                 OneHotEncoder(drop=&#x27;first&#x27;,\n",
       "                                               handle_unknown=&#x27;ignore&#x27;),\n",
       "                                 [&#x27;vehicle_type&#x27;, &#x27;gearbox&#x27;, &#x27;fuel_type&#x27;]),\n",
       "                                (&#x27;ordinalencoder&#x27;,\n",
       "                                 OrdinalEncoder(handle_unknown=&#x27;use_encoded_value&#x27;,\n",
       "                                                unknown_value=-1),\n",
       "                                 [&#x27;brand_model&#x27;]),\n",
       "                                (&#x27;standardscaler&#x27;, StandardScaler(),\n",
       "                                 [&#x27;registration_year&#x27;, &#x27;power&#x27;, &#x27;kilometer&#x27;])])</pre></div></div></div><div class=\"sk-parallel\"><div class=\"sk-parallel-item\"><div class=\"sk-item\"><div class=\"sk-label-container\"><div class=\"sk-label sk-toggleable\"><input class=\"sk-toggleable__control sk-hidden--visually\" id=\"sk-estimator-id-28\" type=\"checkbox\" ><label for=\"sk-estimator-id-28\" class=\"sk-toggleable__label sk-toggleable__label-arrow\">onehotencoder</label><div class=\"sk-toggleable__content\"><pre>[&#x27;vehicle_type&#x27;, &#x27;gearbox&#x27;, &#x27;fuel_type&#x27;]</pre></div></div></div><div class=\"sk-serial\"><div class=\"sk-item\"><div class=\"sk-estimator sk-toggleable\"><input class=\"sk-toggleable__control sk-hidden--visually\" id=\"sk-estimator-id-29\" type=\"checkbox\" ><label for=\"sk-estimator-id-29\" class=\"sk-toggleable__label sk-toggleable__label-arrow\">OneHotEncoder</label><div class=\"sk-toggleable__content\"><pre>OneHotEncoder(drop=&#x27;first&#x27;, handle_unknown=&#x27;ignore&#x27;)</pre></div></div></div></div></div></div><div class=\"sk-parallel-item\"><div class=\"sk-item\"><div class=\"sk-label-container\"><div class=\"sk-label sk-toggleable\"><input class=\"sk-toggleable__control sk-hidden--visually\" id=\"sk-estimator-id-30\" type=\"checkbox\" ><label for=\"sk-estimator-id-30\" class=\"sk-toggleable__label sk-toggleable__label-arrow\">ordinalencoder</label><div class=\"sk-toggleable__content\"><pre>[&#x27;brand_model&#x27;]</pre></div></div></div><div class=\"sk-serial\"><div class=\"sk-item\"><div class=\"sk-estimator sk-toggleable\"><input class=\"sk-toggleable__control sk-hidden--visually\" id=\"sk-estimator-id-31\" type=\"checkbox\" ><label for=\"sk-estimator-id-31\" class=\"sk-toggleable__label sk-toggleable__label-arrow\">OrdinalEncoder</label><div class=\"sk-toggleable__content\"><pre>OrdinalEncoder(handle_unknown=&#x27;use_encoded_value&#x27;, unknown_value=-1)</pre></div></div></div></div></div></div><div class=\"sk-parallel-item\"><div class=\"sk-item\"><div class=\"sk-label-container\"><div class=\"sk-label sk-toggleable\"><input class=\"sk-toggleable__control sk-hidden--visually\" id=\"sk-estimator-id-32\" type=\"checkbox\" ><label for=\"sk-estimator-id-32\" class=\"sk-toggleable__label sk-toggleable__label-arrow\">standardscaler</label><div class=\"sk-toggleable__content\"><pre>[&#x27;registration_year&#x27;, &#x27;power&#x27;, &#x27;kilometer&#x27;]</pre></div></div></div><div class=\"sk-serial\"><div class=\"sk-item\"><div class=\"sk-estimator sk-toggleable\"><input class=\"sk-toggleable__control sk-hidden--visually\" id=\"sk-estimator-id-33\" type=\"checkbox\" ><label for=\"sk-estimator-id-33\" class=\"sk-toggleable__label sk-toggleable__label-arrow\">StandardScaler</label><div class=\"sk-toggleable__content\"><pre>StandardScaler()</pre></div></div></div></div></div></div><div class=\"sk-parallel-item\"><div class=\"sk-item\"><div class=\"sk-label-container\"><div class=\"sk-label sk-toggleable\"><input class=\"sk-toggleable__control sk-hidden--visually\" id=\"sk-estimator-id-34\" type=\"checkbox\" ><label for=\"sk-estimator-id-34\" class=\"sk-toggleable__label sk-toggleable__label-arrow\">remainder</label><div class=\"sk-toggleable__content\"><pre></pre></div></div></div><div class=\"sk-serial\"><div class=\"sk-item\"><div class=\"sk-estimator sk-toggleable\"><input class=\"sk-toggleable__control sk-hidden--visually\" id=\"sk-estimator-id-35\" type=\"checkbox\" ><label for=\"sk-estimator-id-35\" class=\"sk-toggleable__label sk-toggleable__label-arrow\">passthrough</label><div class=\"sk-toggleable__content\"><pre>passthrough</pre></div></div></div></div></div></div></div></div><div class=\"sk-item\"><div class=\"sk-estimator sk-toggleable\"><input class=\"sk-toggleable__control sk-hidden--visually\" id=\"sk-estimator-id-36\" type=\"checkbox\" ><label for=\"sk-estimator-id-36\" class=\"sk-toggleable__label sk-toggleable__label-arrow\">LGBMRegressor</label><div class=\"sk-toggleable__content\"><pre>LGBMRegressor()</pre></div></div></div></div></div></div></div></div></div></div></div></div>"
      ],
      "text/plain": [
       "GridSearchCV(cv=5,\n",
       "             estimator=Pipeline(steps=[('columntransformer',\n",
       "                                        ColumnTransformer(remainder='passthrough',\n",
       "                                                          transformers=[('onehotencoder',\n",
       "                                                                         OneHotEncoder(drop='first',\n",
       "                                                                                       handle_unknown='ignore'),\n",
       "                                                                         ['vehicle_type',\n",
       "                                                                          'gearbox',\n",
       "                                                                          'fuel_type']),\n",
       "                                                                        ('ordinalencoder',\n",
       "                                                                         OrdinalEncoder(handle_unknown='use_encoded_value',\n",
       "                                                                                        unknown_value=-1),\n",
       "                                                                         ['brand_model']),\n",
       "                                                                        ('standardscaler',\n",
       "                                                                         StandardScaler(),\n",
       "                                                                         ['registration_year',\n",
       "                                                                          'power',\n",
       "                                                                          'kilometer'])])),\n",
       "                                       ('lgbmregressor', LGBMRegressor())]),\n",
       "             n_jobs=-1,\n",
       "             param_grid={'lgbmregressor__learning_rate': [0.1, 0.5, 1.0],\n",
       "                         'lgbmregressor__max_depth': [5, 10],\n",
       "                         'lgbmregressor__n_estimators': [10, 100, 300]},\n",
       "             scoring='neg_root_mean_squared_error', verbose=1)"
      ]
     },
     "execution_count": 79,
     "metadata": {},
     "output_type": "execute_result"
    }
   ],
   "source": [
    "%%time\n",
    "\n",
    "model_lgbm = LGBMRegressor()\n",
    "\n",
    "pipline_lgbm = make_pipeline(col_transformer_rf, model_lgbm)\n",
    "\n",
    "param_grid_lgbm = {\n",
    "    'lgbmregressor__n_estimators': [10, 100, 300],\n",
    "    'lgbmregressor__learning_rate': [0.1, 0.5, 1.0],\n",
    "    'lgbmregressor__max_depth': [5, 10]\n",
    "}\n",
    "\n",
    "gs_lgbm_pl = GridSearchCV(\n",
    "    pipline_lgbm,\n",
    "    param_grid=param_grid_lgbm,\n",
    "    scoring='neg_root_mean_squared_error',\n",
    "    n_jobs=-1,\n",
    "    cv=CV,\n",
    "    verbose=1\n",
    ")\n",
    "\n",
    "gs_lgbm_pl.fit(X_train_rf, y_train_rf)"
   ]
  },
  {
   "cell_type": "code",
   "execution_count": 80,
   "metadata": {},
   "outputs": [
    {
     "name": "stdout",
     "output_type": "stream",
     "text": [
      "Лучшее значение RMSE на кросс-валидации для модели Light GBM Regressor:\n",
      "1619\n",
      "Лучшие гиперпараметры:\n",
      "{'lgbmregressor__learning_rate': 0.5, 'lgbmregressor__max_depth': 10, 'lgbmregressor__n_estimators': 300}\n",
      "Среднее время обучения:\n",
      "2.86 сек.\n"
     ]
    }
   ],
   "source": [
    "gs_lgbm_pl_best_score = round(gs_lgbm_pl.best_score_ * -1)\n",
    "gs_lgbm_pl_best_params = gs_lgbm_pl.best_params_\n",
    "gs_lgbm_pl_train_time = round(gs_lgbm_pl.cv_results_['mean_fit_time'].mean(), 2)\n",
    "print('Лучшее значение RMSE на кросс-валидации для модели Light GBM Regressor:')\n",
    "print(gs_lgbm_pl_best_score)\n",
    "print('Лучшие гиперпараметры:')\n",
    "print(gs_lgbm_pl_best_params)\n",
    "print('Среднее время обучения:')\n",
    "print(gs_lgbm_pl_train_time, 'сек.')"
   ]
  },
  {
   "cell_type": "markdown",
   "metadata": {},
   "source": [
    "## **Анализ моделей**"
   ]
  },
  {
   "cell_type": "markdown",
   "metadata": {},
   "source": [
    "Рассчитаем время предсказания каждой модели на тестовой выборке."
   ]
  },
  {
   "cell_type": "code",
   "execution_count": 81,
   "metadata": {},
   "outputs": [
    {
     "name": "stdout",
     "output_type": "stream",
     "text": [
      "CPU times: user 4.11 s, sys: 4.14 s, total: 8.26 s\n",
      "Wall time: 1.63 s\n"
     ]
    }
   ],
   "source": [
    "%%time\n",
    "\n",
    "start_time = time.time()\n",
    "\n",
    "for _ in range(0,10):\n",
    "    gs_ridge_prediction = gs_ridge_pl.predict(X_test_ridge)\n",
    "\n",
    "gs_ridge_predict_time = round((time.time() - start_time) / 10 ,2)"
   ]
  },
  {
   "cell_type": "code",
   "execution_count": 82,
   "metadata": {},
   "outputs": [
    {
     "name": "stdout",
     "output_type": "stream",
     "text": [
      "CPU times: user 1min 14s, sys: 97.8 ms, total: 1min 14s\n",
      "Wall time: 1min 14s\n"
     ]
    }
   ],
   "source": [
    "%%time\n",
    "start_time = time.time()\n",
    "for _ in range(0,10):\n",
    "    gs_rf_prediction = gs_rf_pl.predict(X_test_rf)\n",
    "\n",
    "gs_rf_predict_time = round((time.time() - start_time) / 10, 2)"
   ]
  },
  {
   "cell_type": "code",
   "execution_count": 83,
   "metadata": {},
   "outputs": [
    {
     "name": "stdout",
     "output_type": "stream",
     "text": [
      "CPU times: user 16.3 s, sys: 365 µs, total: 16.3 s\n",
      "Wall time: 2.78 s\n"
     ]
    }
   ],
   "source": [
    "%%time\n",
    "start_time = time.time()\n",
    "for _ in range(0,10):\n",
    "    gs_lgbm_prediction = gs_lgbm_pl.predict(X_test_rf)\n",
    "    \n",
    "gs_lgbm_predict_time = round((time.time() - start_time) / 10, 2)    "
   ]
  },
  {
   "cell_type": "code",
   "execution_count": 84,
   "metadata": {},
   "outputs": [
    {
     "data": {
      "text/html": [
       "<div>\n",
       "<style scoped>\n",
       "    .dataframe tbody tr th:only-of-type {\n",
       "        vertical-align: middle;\n",
       "    }\n",
       "\n",
       "    .dataframe tbody tr th {\n",
       "        vertical-align: top;\n",
       "    }\n",
       "\n",
       "    .dataframe thead th {\n",
       "        text-align: right;\n",
       "    }\n",
       "</style>\n",
       "<table border=\"1\" class=\"dataframe\">\n",
       "  <thead>\n",
       "    <tr style=\"text-align: right;\">\n",
       "      <th></th>\n",
       "      <th>CV-RMSE</th>\n",
       "      <th>Время обучения, сек</th>\n",
       "      <th>Время предсказания, сек</th>\n",
       "    </tr>\n",
       "  </thead>\n",
       "  <tbody>\n",
       "    <tr>\n",
       "      <th>Ridge</th>\n",
       "      <td>2828</td>\n",
       "      <td>0.73</td>\n",
       "      <td>0.16</td>\n",
       "    </tr>\n",
       "    <tr>\n",
       "      <th>Random Forest Regressor</th>\n",
       "      <td>1643</td>\n",
       "      <td>128.13</td>\n",
       "      <td>7.45</td>\n",
       "    </tr>\n",
       "    <tr>\n",
       "      <th>Light GBM Regressor</th>\n",
       "      <td>1619</td>\n",
       "      <td>2.86</td>\n",
       "      <td>0.28</td>\n",
       "    </tr>\n",
       "  </tbody>\n",
       "</table>\n",
       "</div>"
      ],
      "text/plain": [
       "                         CV-RMSE  Время обучения, сек  Время предсказания, сек\n",
       "Ridge                       2828                 0.73                     0.16\n",
       "Random Forest Regressor     1643               128.13                     7.45\n",
       "Light GBM Regressor         1619                 2.86                     0.28"
      ]
     },
     "execution_count": 84,
     "metadata": {},
     "output_type": "execute_result"
    }
   ],
   "source": [
    "results = pd.DataFrame(\n",
    "    [gs_ridge_pl_best_score, gs_rf_pl_best_score, gs_lgbm_pl_best_score],\n",
    "    index=['Ridge', 'Random Forest Regressor', 'Light GBM Regressor'],\n",
    "    columns=['CV-RMSE']\n",
    ")\n",
    "results['Время обучения, сек'] = [gs_ridge_pl_train_time, gs_rf_pl_train_time, gs_lgbm_pl_train_time]\n",
    "results['Время предсказания, сек'] = [gs_ridge_predict_time, gs_rf_predict_time, gs_lgbm_predict_time]\n",
    "\n",
    "results"
   ]
  },
  {
   "cell_type": "markdown",
   "metadata": {},
   "source": [
    "**Вывод:** Линейная модель Ridge показала неудовлетворительное значение метрики RMSE. RMSE остальных моделей сравнимы по величине. Из них лучшей моделью по времени обучения и предсказания является **Light GBM Regressor**. Проверим ее качество на тестовой выборке."
   ]
  },
  {
   "cell_type": "markdown",
   "metadata": {},
   "source": [
    "## **Тест лучшей модели**"
   ]
  },
  {
   "cell_type": "code",
   "execution_count": 85,
   "metadata": {},
   "outputs": [
    {
     "name": "stdout",
     "output_type": "stream",
     "text": [
      "Значение RMSE на тестовой выборке для лучшей модели Light GBM Regressor:\n",
      "1606\n"
     ]
    }
   ],
   "source": [
    "print('Значение RMSE на тестовой выборке для лучшей модели Light GBM Regressor:')\n",
    "print(round(mean_squared_error(y_test, gs_lgbm_pl.predict(X_test_rf), squared=False)))"
   ]
  },
  {
   "cell_type": "markdown",
   "metadata": {},
   "source": [
    "**Вывод:** Выбранная модель не переобучена и рекомендуется для предсказания рыночной стоимости автомобилей в разрабатываемом приложении."
   ]
  },
  {
   "cell_type": "code",
   "execution_count": 86,
   "metadata": {},
   "outputs": [
    {
     "name": "stdout",
     "output_type": "stream",
     "text": [
      "Гиперпараметры модели:\n",
      "{'lgbmregressor__learning_rate': 0.5, 'lgbmregressor__max_depth': 10, 'lgbmregressor__n_estimators': 300}\n"
     ]
    }
   ],
   "source": [
    "print('Гиперпараметры модели:')\n",
    "print(gs_lgbm_pl_best_params)"
   ]
  }
 ],
 "metadata": {
  "ExecuteTimeLog": [
   {
    "duration": 4753,
    "start_time": "2023-06-24T17:40:13.599Z"
   },
   {
    "duration": 1436,
    "start_time": "2023-06-24T17:40:18.354Z"
   },
   {
    "duration": 1256,
    "start_time": "2023-06-24T17:40:19.791Z"
   },
   {
    "duration": 6,
    "start_time": "2023-06-24T17:40:21.049Z"
   },
   {
    "duration": 11,
    "start_time": "2023-06-24T17:40:21.057Z"
   },
   {
    "duration": 490,
    "start_time": "2023-06-24T17:40:21.069Z"
   },
   {
    "duration": 946,
    "start_time": "2023-06-24T17:40:21.562Z"
   },
   {
    "duration": 257,
    "start_time": "2023-06-24T17:40:22.509Z"
   },
   {
    "duration": 2,
    "start_time": "2023-06-24T17:40:22.768Z"
   },
   {
    "duration": 207,
    "start_time": "2023-06-24T17:40:22.772Z"
   },
   {
    "duration": 18,
    "start_time": "2023-06-24T17:40:22.980Z"
   },
   {
    "duration": 139,
    "start_time": "2023-06-24T17:40:23.000Z"
   },
   {
    "duration": 5,
    "start_time": "2023-06-24T17:40:23.142Z"
   },
   {
    "duration": 1362,
    "start_time": "2023-06-24T17:40:23.150Z"
   },
   {
    "duration": 120,
    "start_time": "2023-06-24T17:40:24.514Z"
   },
   {
    "duration": 134,
    "start_time": "2023-06-24T17:40:24.636Z"
   },
   {
    "duration": 12,
    "start_time": "2023-06-24T17:40:24.772Z"
   },
   {
    "duration": 44,
    "start_time": "2023-06-24T17:40:24.786Z"
   },
   {
    "duration": 202,
    "start_time": "2023-06-24T17:40:24.832Z"
   },
   {
    "duration": 116,
    "start_time": "2023-06-24T17:40:25.044Z"
   },
   {
    "duration": 9,
    "start_time": "2023-06-24T17:40:25.161Z"
   },
   {
    "duration": 24,
    "start_time": "2023-06-24T17:40:25.172Z"
   },
   {
    "duration": 21,
    "start_time": "2023-06-24T17:40:25.198Z"
   },
   {
    "duration": 75,
    "start_time": "2023-06-24T17:40:25.220Z"
   },
   {
    "duration": 553,
    "start_time": "2023-06-24T17:40:25.296Z"
   },
   {
    "duration": 117,
    "start_time": "2023-06-24T17:40:25.851Z"
   },
   {
    "duration": 20,
    "start_time": "2023-06-24T17:40:25.970Z"
   },
   {
    "duration": 55,
    "start_time": "2023-06-24T17:40:25.992Z"
   },
   {
    "duration": 19,
    "start_time": "2023-06-24T17:40:26.049Z"
   },
   {
    "duration": 49,
    "start_time": "2023-06-24T17:40:26.069Z"
   },
   {
    "duration": 32,
    "start_time": "2023-06-24T17:40:26.120Z"
   },
   {
    "duration": 5,
    "start_time": "2023-06-24T17:40:26.153Z"
   },
   {
    "duration": 77,
    "start_time": "2023-06-24T17:40:26.160Z"
   },
   {
    "duration": 75,
    "start_time": "2023-06-24T17:40:26.241Z"
   },
   {
    "duration": 76,
    "start_time": "2023-06-24T17:40:26.317Z"
   },
   {
    "duration": 25,
    "start_time": "2023-06-24T17:40:26.395Z"
   },
   {
    "duration": 4332,
    "start_time": "2023-06-24T17:50:58.230Z"
   },
   {
    "duration": 5,
    "start_time": "2023-06-24T17:51:02.565Z"
   },
   {
    "duration": 1400,
    "start_time": "2023-06-24T17:51:02.571Z"
   },
   {
    "duration": 4,
    "start_time": "2023-06-24T17:51:03.972Z"
   },
   {
    "duration": 7,
    "start_time": "2023-06-24T17:51:03.979Z"
   },
   {
    "duration": 402,
    "start_time": "2023-06-24T17:51:03.987Z"
   },
   {
    "duration": 892,
    "start_time": "2023-06-24T17:51:04.391Z"
   },
   {
    "duration": 264,
    "start_time": "2023-06-24T17:51:05.285Z"
   },
   {
    "duration": 2,
    "start_time": "2023-06-24T17:51:05.550Z"
   },
   {
    "duration": 212,
    "start_time": "2023-06-24T17:51:05.554Z"
   },
   {
    "duration": 17,
    "start_time": "2023-06-24T17:51:05.767Z"
   },
   {
    "duration": 134,
    "start_time": "2023-06-24T17:51:05.786Z"
   },
   {
    "duration": 3,
    "start_time": "2023-06-24T17:51:05.921Z"
   },
   {
    "duration": 1326,
    "start_time": "2023-06-24T17:51:05.935Z"
   },
   {
    "duration": 86,
    "start_time": "2023-06-24T17:51:07.263Z"
   },
   {
    "duration": 79,
    "start_time": "2023-06-24T17:51:07.350Z"
   },
   {
    "duration": 17,
    "start_time": "2023-06-24T17:51:07.430Z"
   },
   {
    "duration": 9,
    "start_time": "2023-06-24T17:51:07.449Z"
   },
   {
    "duration": 24,
    "start_time": "2023-06-24T17:51:07.459Z"
   },
   {
    "duration": 17,
    "start_time": "2023-06-24T17:51:07.484Z"
   },
   {
    "duration": 43,
    "start_time": "2023-06-24T17:51:07.503Z"
   },
   {
    "duration": 16,
    "start_time": "2023-06-24T17:51:07.547Z"
   },
   {
    "duration": 19,
    "start_time": "2023-06-24T17:51:07.565Z"
   },
   {
    "duration": 110,
    "start_time": "2023-06-24T17:51:07.586Z"
   },
   {
    "duration": 553,
    "start_time": "2023-06-24T17:51:07.698Z"
   },
   {
    "duration": 109,
    "start_time": "2023-06-24T17:51:08.253Z"
   },
   {
    "duration": 19,
    "start_time": "2023-06-24T17:51:08.364Z"
   },
   {
    "duration": 30,
    "start_time": "2023-06-24T17:51:08.384Z"
   },
   {
    "duration": 35,
    "start_time": "2023-06-24T17:51:08.415Z"
   },
   {
    "duration": 48,
    "start_time": "2023-06-24T17:51:08.452Z"
   },
   {
    "duration": 49,
    "start_time": "2023-06-24T17:51:08.501Z"
   },
   {
    "duration": 5,
    "start_time": "2023-06-24T17:51:08.552Z"
   },
   {
    "duration": 71,
    "start_time": "2023-06-24T17:51:08.559Z"
   },
   {
    "duration": 103,
    "start_time": "2023-06-24T17:51:08.631Z"
   },
   {
    "duration": 76,
    "start_time": "2023-06-24T17:51:08.736Z"
   },
   {
    "duration": 4,
    "start_time": "2023-06-24T17:51:08.813Z"
   },
   {
    "duration": 676,
    "start_time": "2023-06-24T17:51:08.818Z"
   },
   {
    "duration": 400,
    "start_time": "2023-06-24T17:51:09.496Z"
   },
   {
    "duration": 74,
    "start_time": "2023-06-24T17:51:09.898Z"
   },
   {
    "duration": 334,
    "start_time": "2023-06-24T17:51:09.973Z"
   },
   {
    "duration": 632,
    "start_time": "2023-06-24T17:51:10.311Z"
   },
   {
    "duration": 10,
    "start_time": "2023-06-24T17:51:10.946Z"
   },
   {
    "duration": 63,
    "start_time": "2023-06-24T17:51:10.957Z"
   },
   {
    "duration": 449,
    "start_time": "2023-06-24T17:51:11.022Z"
   },
   {
    "duration": 8,
    "start_time": "2023-06-24T17:51:11.473Z"
   },
   {
    "duration": 78,
    "start_time": "2023-06-24T17:51:11.483Z"
   },
   {
    "duration": 447,
    "start_time": "2023-06-24T17:51:11.562Z"
   },
   {
    "duration": 35,
    "start_time": "2023-06-24T17:51:12.010Z"
   },
   {
    "duration": 780,
    "start_time": "2023-06-24T17:51:12.046Z"
   },
   {
    "duration": 454,
    "start_time": "2023-06-24T17:51:12.832Z"
   },
   {
    "duration": 8,
    "start_time": "2023-06-24T17:51:13.288Z"
   },
   {
    "duration": 13411,
    "start_time": "2023-06-24T17:51:13.298Z"
   },
   {
    "duration": 533,
    "start_time": "2023-06-24T17:51:26.711Z"
   },
   {
    "duration": 578,
    "start_time": "2023-06-24T17:51:27.246Z"
   },
   {
    "duration": 58,
    "start_time": "2023-06-24T17:51:27.826Z"
   },
   {
    "duration": 633,
    "start_time": "2023-06-24T17:51:27.886Z"
   },
   {
    "duration": 680,
    "start_time": "2023-06-24T17:51:28.520Z"
   },
   {
    "duration": 108,
    "start_time": "2023-06-24T17:51:29.202Z"
   },
   {
    "duration": 34,
    "start_time": "2023-06-24T17:51:29.311Z"
   },
   {
    "duration": 58,
    "start_time": "2023-06-24T17:51:29.346Z"
   },
   {
    "duration": 15,
    "start_time": "2023-06-24T17:51:29.406Z"
   },
   {
    "duration": 37,
    "start_time": "2023-06-24T17:51:29.422Z"
   },
   {
    "duration": 12,
    "start_time": "2023-06-24T17:51:29.460Z"
   },
   {
    "duration": 15,
    "start_time": "2023-06-24T17:51:29.474Z"
   },
   {
    "duration": 126,
    "start_time": "2023-06-24T17:51:29.491Z"
   },
   {
    "duration": 80,
    "start_time": "2023-06-24T17:51:29.619Z"
   },
   {
    "duration": 13,
    "start_time": "2023-06-24T17:51:29.701Z"
   },
   {
    "duration": 2195,
    "start_time": "2023-06-24T17:51:36.863Z"
   },
   {
    "duration": 80,
    "start_time": "2023-06-24T17:51:49.647Z"
   },
   {
    "duration": 12601,
    "start_time": "2023-07-06T13:40:30.792Z"
   },
   {
    "duration": 2086,
    "start_time": "2023-07-06T13:40:43.396Z"
   },
   {
    "duration": 1885,
    "start_time": "2023-07-06T13:40:45.484Z"
   },
   {
    "duration": 6,
    "start_time": "2023-07-06T13:40:47.371Z"
   },
   {
    "duration": 8,
    "start_time": "2023-07-06T13:40:47.379Z"
   },
   {
    "duration": 546,
    "start_time": "2023-07-06T13:40:47.388Z"
   },
   {
    "duration": 1099,
    "start_time": "2023-07-06T13:40:47.936Z"
   },
   {
    "duration": 348,
    "start_time": "2023-07-06T13:40:49.038Z"
   },
   {
    "duration": 4,
    "start_time": "2023-07-06T13:40:49.388Z"
   },
   {
    "duration": 220,
    "start_time": "2023-07-06T13:40:49.401Z"
   },
   {
    "duration": 27,
    "start_time": "2023-07-06T13:40:49.623Z"
   },
   {
    "duration": 140,
    "start_time": "2023-07-06T13:40:49.652Z"
   },
   {
    "duration": 4,
    "start_time": "2023-07-06T13:40:49.794Z"
   },
   {
    "duration": 1630,
    "start_time": "2023-07-06T13:40:49.806Z"
   },
   {
    "duration": 102,
    "start_time": "2023-07-06T13:40:51.439Z"
   },
   {
    "duration": 131,
    "start_time": "2023-07-06T13:40:51.543Z"
   },
   {
    "duration": 107,
    "start_time": "2023-07-06T13:40:51.676Z"
   },
   {
    "duration": 24,
    "start_time": "2023-07-06T13:40:51.784Z"
   },
   {
    "duration": 19,
    "start_time": "2023-07-06T13:40:51.810Z"
   },
   {
    "duration": 10,
    "start_time": "2023-07-06T13:40:51.831Z"
   },
   {
    "duration": 10,
    "start_time": "2023-07-06T13:40:51.844Z"
   },
   {
    "duration": 10,
    "start_time": "2023-07-06T13:40:51.856Z"
   },
   {
    "duration": 23,
    "start_time": "2023-07-06T13:40:51.868Z"
   },
   {
    "duration": 61,
    "start_time": "2023-07-06T13:40:51.893Z"
   },
   {
    "duration": 97,
    "start_time": "2023-07-06T13:40:51.956Z"
   },
   {
    "duration": 660,
    "start_time": "2023-07-06T13:40:52.055Z"
   },
   {
    "duration": 136,
    "start_time": "2023-07-06T13:40:52.718Z"
   },
   {
    "duration": 23,
    "start_time": "2023-07-06T13:40:52.858Z"
   },
   {
    "duration": 64,
    "start_time": "2023-07-06T13:40:52.883Z"
   },
   {
    "duration": 42,
    "start_time": "2023-07-06T13:40:52.949Z"
   },
   {
    "duration": 89,
    "start_time": "2023-07-06T13:40:52.993Z"
   },
   {
    "duration": 33,
    "start_time": "2023-07-06T13:40:53.084Z"
   },
   {
    "duration": 24,
    "start_time": "2023-07-06T13:40:53.123Z"
   },
   {
    "duration": 92,
    "start_time": "2023-07-06T13:40:53.149Z"
   },
   {
    "duration": 102,
    "start_time": "2023-07-06T13:40:53.243Z"
   },
   {
    "duration": 93,
    "start_time": "2023-07-06T13:40:53.346Z"
   },
   {
    "duration": 116,
    "start_time": "2023-07-06T13:40:53.441Z"
   },
   {
    "duration": 10,
    "start_time": "2023-07-06T13:40:53.558Z"
   },
   {
    "duration": 65,
    "start_time": "2023-07-06T13:40:53.570Z"
   },
   {
    "duration": 911,
    "start_time": "2023-07-06T13:40:53.638Z"
   },
   {
    "duration": 497,
    "start_time": "2023-07-06T13:40:54.552Z"
   },
   {
    "duration": 89,
    "start_time": "2023-07-06T13:40:55.051Z"
   },
   {
    "duration": 439,
    "start_time": "2023-07-06T13:40:55.143Z"
   },
   {
    "duration": 698,
    "start_time": "2023-07-06T13:40:55.584Z"
   },
   {
    "duration": 19,
    "start_time": "2023-07-06T13:40:56.284Z"
   },
   {
    "duration": 71,
    "start_time": "2023-07-06T13:40:56.306Z"
   },
   {
    "duration": 586,
    "start_time": "2023-07-06T13:40:56.379Z"
   },
   {
    "duration": 3,
    "start_time": "2023-07-06T13:40:56.967Z"
   },
   {
    "duration": 25,
    "start_time": "2023-07-06T13:40:56.972Z"
   },
   {
    "duration": 7,
    "start_time": "2023-07-06T13:40:56.999Z"
   },
   {
    "duration": 64,
    "start_time": "2023-07-06T13:40:57.010Z"
   },
   {
    "duration": 98,
    "start_time": "2023-07-06T13:40:57.075Z"
   },
   {
    "duration": 585,
    "start_time": "2023-07-06T13:40:57.175Z"
   },
   {
    "duration": 29,
    "start_time": "2023-07-06T13:40:57.763Z"
   },
   {
    "duration": 1043,
    "start_time": "2023-07-06T13:40:57.803Z"
   },
   {
    "duration": 629,
    "start_time": "2023-07-06T13:40:58.849Z"
   },
   {
    "duration": 25,
    "start_time": "2023-07-06T13:40:59.480Z"
   },
   {
    "duration": 5,
    "start_time": "2023-07-06T13:40:59.508Z"
   },
   {
    "duration": 606,
    "start_time": "2023-07-06T13:40:59.519Z"
   },
   {
    "duration": 694,
    "start_time": "2023-07-06T13:41:00.128Z"
   },
   {
    "duration": 715,
    "start_time": "2023-07-06T13:41:00.826Z"
   },
   {
    "duration": 72,
    "start_time": "2023-07-06T13:41:01.543Z"
   },
   {
    "duration": 860,
    "start_time": "2023-07-06T13:41:01.618Z"
   },
   {
    "duration": 517,
    "start_time": "2023-07-06T13:41:02.480Z"
   },
   {
    "duration": 105,
    "start_time": "2023-07-06T13:41:03.008Z"
   },
   {
    "duration": 27,
    "start_time": "2023-07-06T13:41:03.116Z"
   },
   {
    "duration": 91,
    "start_time": "2023-07-06T13:41:03.146Z"
   },
   {
    "duration": 25,
    "start_time": "2023-07-06T13:41:03.241Z"
   },
   {
    "duration": 29,
    "start_time": "2023-07-06T13:41:03.268Z"
   },
   {
    "duration": 22,
    "start_time": "2023-07-06T13:41:03.299Z"
   },
   {
    "duration": 24,
    "start_time": "2023-07-06T13:41:03.322Z"
   },
   {
    "duration": 138,
    "start_time": "2023-07-06T13:41:03.348Z"
   },
   {
    "duration": 98,
    "start_time": "2023-07-06T13:41:03.488Z"
   },
   {
    "duration": 34,
    "start_time": "2023-07-06T13:41:03.588Z"
   },
   {
    "duration": 31,
    "start_time": "2023-07-06T13:41:03.624Z"
   },
   {
    "duration": 15884,
    "start_time": "2023-07-06T13:41:03.657Z"
   },
   {
    "duration": 7,
    "start_time": "2023-07-06T13:41:19.543Z"
   },
   {
    "duration": 28,
    "start_time": "2023-07-06T13:41:19.552Z"
   },
   {
    "duration": 19,
    "start_time": "2023-07-06T13:41:19.582Z"
   },
   {
    "duration": 335569,
    "start_time": "2023-07-06T13:41:19.604Z"
   },
   {
    "duration": 6,
    "start_time": "2023-07-06T13:46:55.175Z"
   },
   {
    "duration": 69664,
    "start_time": "2023-07-06T13:46:55.186Z"
   },
   {
    "duration": 5,
    "start_time": "2023-07-06T13:48:04.852Z"
   },
   {
    "duration": 544,
    "start_time": "2023-07-06T13:48:04.859Z"
   },
   {
    "duration": 3256,
    "start_time": "2023-07-06T13:48:05.405Z"
   },
   {
    "duration": 44223,
    "start_time": "2023-07-06T13:48:08.701Z"
   },
   {
    "duration": 6289,
    "start_time": "2023-07-06T13:48:52.926Z"
   },
   {
    "duration": 92,
    "start_time": "2023-07-06T13:48:59.219Z"
   },
   {
    "duration": 602,
    "start_time": "2023-07-06T13:48:59.316Z"
   }
  ],
  "kernelspec": {
   "display_name": "Python 3 (ipykernel)",
   "language": "python",
   "name": "python3"
  },
  "language_info": {
   "codemirror_mode": {
    "name": "ipython",
    "version": 3
   },
   "file_extension": ".py",
   "mimetype": "text/x-python",
   "name": "python",
   "nbconvert_exporter": "python",
   "pygments_lexer": "ipython3",
   "version": "3.9.13"
  },
  "toc": {
   "base_numbering": 1,
   "nav_menu": {},
   "number_sections": true,
   "sideBar": true,
   "skip_h1_title": true,
   "title_cell": "Содержание",
   "title_sidebar": "Содержание",
   "toc_cell": true,
   "toc_position": {
    "height": "calc(100% - 180px)",
    "left": "10px",
    "top": "150px",
    "width": "375.933px"
   },
   "toc_section_display": true,
   "toc_window_display": true
  }
 },
 "nbformat": 4,
 "nbformat_minor": 2
}
